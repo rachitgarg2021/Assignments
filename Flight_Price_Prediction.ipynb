{
  "nbformat": 4,
  "nbformat_minor": 0,
  "metadata": {
    "colab": {
      "name": "Flight Price Prediction.ipynb",
      "provenance": [],
      "collapsed_sections": []
    },
    "kernelspec": {
      "name": "python3",
      "display_name": "Python 3"
    },
    "language_info": {
      "name": "python"
    }
  },
  "cells": [
    {
      "cell_type": "markdown",
      "source": [
        "# **Flight Price Prediction**"
      ],
      "metadata": {
        "id": "2FW7NlG05keM"
      }
    },
    {
      "cell_type": "code",
      "execution_count": 83,
      "metadata": {
        "id": "KE55RJnA5iMQ"
      },
      "outputs": [],
      "source": [
        "import pandas as pd"
      ]
    },
    {
      "cell_type": "code",
      "source": [
        "pd.DataFrame({'yes':['a','b'],'no':['c','d']})"
      ],
      "metadata": {
        "colab": {
          "base_uri": "https://localhost:8080/",
          "height": 112
        },
        "id": "FTqm3LR4xYpc",
        "outputId": "15951170-39df-49ef-82c4-3f8f4a5af1df"
      },
      "execution_count": 84,
      "outputs": [
        {
          "output_type": "execute_result",
          "data": {
            "text/plain": [
              "  yes no\n",
              "0   a  c\n",
              "1   b  d"
            ],
            "text/html": [
              "\n",
              "  <div id=\"df-3e7b3827-9ad2-4cb1-aae4-f6acbcb2cf59\">\n",
              "    <div class=\"colab-df-container\">\n",
              "      <div>\n",
              "<style scoped>\n",
              "    .dataframe tbody tr th:only-of-type {\n",
              "        vertical-align: middle;\n",
              "    }\n",
              "\n",
              "    .dataframe tbody tr th {\n",
              "        vertical-align: top;\n",
              "    }\n",
              "\n",
              "    .dataframe thead th {\n",
              "        text-align: right;\n",
              "    }\n",
              "</style>\n",
              "<table border=\"1\" class=\"dataframe\">\n",
              "  <thead>\n",
              "    <tr style=\"text-align: right;\">\n",
              "      <th></th>\n",
              "      <th>yes</th>\n",
              "      <th>no</th>\n",
              "    </tr>\n",
              "  </thead>\n",
              "  <tbody>\n",
              "    <tr>\n",
              "      <th>0</th>\n",
              "      <td>a</td>\n",
              "      <td>c</td>\n",
              "    </tr>\n",
              "    <tr>\n",
              "      <th>1</th>\n",
              "      <td>b</td>\n",
              "      <td>d</td>\n",
              "    </tr>\n",
              "  </tbody>\n",
              "</table>\n",
              "</div>\n",
              "      <button class=\"colab-df-convert\" onclick=\"convertToInteractive('df-3e7b3827-9ad2-4cb1-aae4-f6acbcb2cf59')\"\n",
              "              title=\"Convert this dataframe to an interactive table.\"\n",
              "              style=\"display:none;\">\n",
              "        \n",
              "  <svg xmlns=\"http://www.w3.org/2000/svg\" height=\"24px\"viewBox=\"0 0 24 24\"\n",
              "       width=\"24px\">\n",
              "    <path d=\"M0 0h24v24H0V0z\" fill=\"none\"/>\n",
              "    <path d=\"M18.56 5.44l.94 2.06.94-2.06 2.06-.94-2.06-.94-.94-2.06-.94 2.06-2.06.94zm-11 1L8.5 8.5l.94-2.06 2.06-.94-2.06-.94L8.5 2.5l-.94 2.06-2.06.94zm10 10l.94 2.06.94-2.06 2.06-.94-2.06-.94-.94-2.06-.94 2.06-2.06.94z\"/><path d=\"M17.41 7.96l-1.37-1.37c-.4-.4-.92-.59-1.43-.59-.52 0-1.04.2-1.43.59L10.3 9.45l-7.72 7.72c-.78.78-.78 2.05 0 2.83L4 21.41c.39.39.9.59 1.41.59.51 0 1.02-.2 1.41-.59l7.78-7.78 2.81-2.81c.8-.78.8-2.07 0-2.86zM5.41 20L4 18.59l7.72-7.72 1.47 1.35L5.41 20z\"/>\n",
              "  </svg>\n",
              "      </button>\n",
              "      \n",
              "  <style>\n",
              "    .colab-df-container {\n",
              "      display:flex;\n",
              "      flex-wrap:wrap;\n",
              "      gap: 12px;\n",
              "    }\n",
              "\n",
              "    .colab-df-convert {\n",
              "      background-color: #E8F0FE;\n",
              "      border: none;\n",
              "      border-radius: 50%;\n",
              "      cursor: pointer;\n",
              "      display: none;\n",
              "      fill: #1967D2;\n",
              "      height: 32px;\n",
              "      padding: 0 0 0 0;\n",
              "      width: 32px;\n",
              "    }\n",
              "\n",
              "    .colab-df-convert:hover {\n",
              "      background-color: #E2EBFA;\n",
              "      box-shadow: 0px 1px 2px rgba(60, 64, 67, 0.3), 0px 1px 3px 1px rgba(60, 64, 67, 0.15);\n",
              "      fill: #174EA6;\n",
              "    }\n",
              "\n",
              "    [theme=dark] .colab-df-convert {\n",
              "      background-color: #3B4455;\n",
              "      fill: #D2E3FC;\n",
              "    }\n",
              "\n",
              "    [theme=dark] .colab-df-convert:hover {\n",
              "      background-color: #434B5C;\n",
              "      box-shadow: 0px 1px 3px 1px rgba(0, 0, 0, 0.15);\n",
              "      filter: drop-shadow(0px 1px 2px rgba(0, 0, 0, 0.3));\n",
              "      fill: #FFFFFF;\n",
              "    }\n",
              "  </style>\n",
              "\n",
              "      <script>\n",
              "        const buttonEl =\n",
              "          document.querySelector('#df-3e7b3827-9ad2-4cb1-aae4-f6acbcb2cf59 button.colab-df-convert');\n",
              "        buttonEl.style.display =\n",
              "          google.colab.kernel.accessAllowed ? 'block' : 'none';\n",
              "\n",
              "        async function convertToInteractive(key) {\n",
              "          const element = document.querySelector('#df-3e7b3827-9ad2-4cb1-aae4-f6acbcb2cf59');\n",
              "          const dataTable =\n",
              "            await google.colab.kernel.invokeFunction('convertToInteractive',\n",
              "                                                     [key], {});\n",
              "          if (!dataTable) return;\n",
              "\n",
              "          const docLinkHtml = 'Like what you see? Visit the ' +\n",
              "            '<a target=\"_blank\" href=https://colab.research.google.com/notebooks/data_table.ipynb>data table notebook</a>'\n",
              "            + ' to learn more about interactive tables.';\n",
              "          element.innerHTML = '';\n",
              "          dataTable['output_type'] = 'display_data';\n",
              "          await google.colab.output.renderOutput(dataTable, element);\n",
              "          const docLink = document.createElement('div');\n",
              "          docLink.innerHTML = docLinkHtml;\n",
              "          element.appendChild(docLink);\n",
              "        }\n",
              "      </script>\n",
              "    </div>\n",
              "  </div>\n",
              "  "
            ]
          },
          "metadata": {},
          "execution_count": 84
        }
      ]
    },
    {
      "cell_type": "code",
      "source": [
        "pd.Series([30,40,50])"
      ],
      "metadata": {
        "colab": {
          "base_uri": "https://localhost:8080/"
        },
        "id": "aPz1W7JVxpWM",
        "outputId": "037667da-8e95-4d57-ce36-9428db07a64f"
      },
      "execution_count": 85,
      "outputs": [
        {
          "output_type": "execute_result",
          "data": {
            "text/plain": [
              "0    30\n",
              "1    40\n",
              "2    50\n",
              "dtype: int64"
            ]
          },
          "metadata": {},
          "execution_count": 85
        }
      ]
    },
    {
      "cell_type": "code",
      "source": [
        "df=pd.read_csv(\"/content/drive/MyDrive/Data_Train.csv\")\n"
      ],
      "metadata": {
        "id": "0uZ_PTu_yWlN"
      },
      "execution_count": 86,
      "outputs": []
    },
    {
      "cell_type": "code",
      "source": [
        "df.info()"
      ],
      "metadata": {
        "colab": {
          "base_uri": "https://localhost:8080/"
        },
        "id": "ktZNNaT70I5C",
        "outputId": "367b92a6-729e-49be-e82c-2602a567d67a"
      },
      "execution_count": 87,
      "outputs": [
        {
          "output_type": "stream",
          "name": "stdout",
          "text": [
            "<class 'pandas.core.frame.DataFrame'>\n",
            "RangeIndex: 10683 entries, 0 to 10682\n",
            "Data columns (total 11 columns):\n",
            " #   Column           Non-Null Count  Dtype \n",
            "---  ------           --------------  ----- \n",
            " 0   Airline          10683 non-null  object\n",
            " 1   Date_of_Journey  10683 non-null  object\n",
            " 2   Source           10683 non-null  object\n",
            " 3   Destination      10683 non-null  object\n",
            " 4   Route            10682 non-null  object\n",
            " 5   Dep_Time         10683 non-null  object\n",
            " 6   Arrival_Time     10683 non-null  object\n",
            " 7   Duration         10683 non-null  object\n",
            " 8   Total_Stops      10682 non-null  object\n",
            " 9   Additional_Info  10683 non-null  object\n",
            " 10  Price            10683 non-null  int64 \n",
            "dtypes: int64(1), object(10)\n",
            "memory usage: 918.2+ KB\n"
          ]
        }
      ]
    },
    {
      "cell_type": "code",
      "source": [
        "df.shape"
      ],
      "metadata": {
        "colab": {
          "base_uri": "https://localhost:8080/"
        },
        "id": "-EuG59IQ0vMl",
        "outputId": "cc3d001b-4624-4706-acf0-8facbfd46b3c"
      },
      "execution_count": 88,
      "outputs": [
        {
          "output_type": "execute_result",
          "data": {
            "text/plain": [
              "(10683, 11)"
            ]
          },
          "metadata": {},
          "execution_count": 88
        }
      ]
    },
    {
      "cell_type": "code",
      "source": [
        "df.isnull().sum()"
      ],
      "metadata": {
        "colab": {
          "base_uri": "https://localhost:8080/"
        },
        "id": "u3_TAQvQ0ySW",
        "outputId": "d8567650-6047-4b96-cc60-7d94d583cf5d"
      },
      "execution_count": 89,
      "outputs": [
        {
          "output_type": "execute_result",
          "data": {
            "text/plain": [
              "Airline            0\n",
              "Date_of_Journey    0\n",
              "Source             0\n",
              "Destination        0\n",
              "Route              1\n",
              "Dep_Time           0\n",
              "Arrival_Time       0\n",
              "Duration           0\n",
              "Total_Stops        1\n",
              "Additional_Info    0\n",
              "Price              0\n",
              "dtype: int64"
            ]
          },
          "metadata": {},
          "execution_count": 89
        }
      ]
    },
    {
      "cell_type": "code",
      "source": [
        "df.dropna(inplace=True)"
      ],
      "metadata": {
        "id": "iXPK5rLM07jC"
      },
      "execution_count": 90,
      "outputs": []
    },
    {
      "cell_type": "code",
      "source": [
        "df.dtypes"
      ],
      "metadata": {
        "colab": {
          "base_uri": "https://localhost:8080/"
        },
        "id": "6Vr-4k9t2AYQ",
        "outputId": "ddbb44ec-762d-44c5-9daa-4e092c097dc4"
      },
      "execution_count": 91,
      "outputs": [
        {
          "output_type": "execute_result",
          "data": {
            "text/plain": [
              "Airline            object\n",
              "Date_of_Journey    object\n",
              "Source             object\n",
              "Destination        object\n",
              "Route              object\n",
              "Dep_Time           object\n",
              "Arrival_Time       object\n",
              "Duration           object\n",
              "Total_Stops        object\n",
              "Additional_Info    object\n",
              "Price               int64\n",
              "dtype: object"
            ]
          },
          "metadata": {},
          "execution_count": 91
        }
      ]
    },
    {
      "cell_type": "code",
      "source": [
        "df['Date_of_Journey'] = pd.to_datetime(df['Date_of_Journey'])"
      ],
      "metadata": {
        "id": "6JCvAKGQ6oox"
      },
      "execution_count": 92,
      "outputs": []
    },
    {
      "cell_type": "code",
      "source": [
        "df['Dep_Time'] = pd.to_datetime(df['Dep_Time'])"
      ],
      "metadata": {
        "id": "kIdY6iHx2AbG"
      },
      "execution_count": 93,
      "outputs": []
    },
    {
      "cell_type": "code",
      "source": [
        "df['Arrival_Time'] = pd.to_datetime(df['Arrival_Time'])"
      ],
      "metadata": {
        "id": "U8L6NCbu7W7B"
      },
      "execution_count": 94,
      "outputs": []
    },
    {
      "cell_type": "code",
      "source": [
        "df['Journey_Day'] = df['Date_of_Journey'].dt.day"
      ],
      "metadata": {
        "id": "r-SSOG2_7ahu"
      },
      "execution_count": 95,
      "outputs": []
    },
    {
      "cell_type": "code",
      "source": [
        "df['Journey_Month'] = df['Date_of_Journey'].dt.month"
      ],
      "metadata": {
        "id": "VhekKMd57cDH"
      },
      "execution_count": 96,
      "outputs": []
    },
    {
      "cell_type": "code",
      "source": [
        "df.drop('Date_of_Journey',axis=1,inplace=True)"
      ],
      "metadata": {
        "id": "6JJ_LvZy7diB"
      },
      "execution_count": 97,
      "outputs": []
    },
    {
      "cell_type": "code",
      "source": [
        "df['Journey_Hour'] = df['Dep_Time'].dt.hour"
      ],
      "metadata": {
        "id": "LJfGVtZ57fG4"
      },
      "execution_count": 98,
      "outputs": []
    },
    {
      "cell_type": "code",
      "source": [
        "df['Journey_Minute'] = df['Dep_Time'].dt.minute"
      ],
      "metadata": {
        "id": "d65UqE-M7glO"
      },
      "execution_count": 99,
      "outputs": []
    },
    {
      "cell_type": "code",
      "source": [
        "df['Arrival_Hour'] = df['Arrival_Time'].dt.hour"
      ],
      "metadata": {
        "id": "t4nSmO237iCe"
      },
      "execution_count": 100,
      "outputs": []
    },
    {
      "cell_type": "code",
      "source": [
        "df['Arrival_Minute'] = df['Arrival_Time'].dt.minute"
      ],
      "metadata": {
        "id": "ueJU5OnI7kNe"
      },
      "execution_count": 101,
      "outputs": []
    },
    {
      "cell_type": "code",
      "source": [
        "df['Airline'].value_counts()"
      ],
      "metadata": {
        "colab": {
          "base_uri": "https://localhost:8080/"
        },
        "id": "a3NwkUpc7m_G",
        "outputId": "7c1cdb51-4fab-4763-8db6-c6ae45201b6c"
      },
      "execution_count": 102,
      "outputs": [
        {
          "output_type": "execute_result",
          "data": {
            "text/plain": [
              "Jet Airways                          3849\n",
              "IndiGo                               2053\n",
              "Air India                            1751\n",
              "Multiple carriers                    1196\n",
              "SpiceJet                              818\n",
              "Vistara                               479\n",
              "Air Asia                              319\n",
              "GoAir                                 194\n",
              "Multiple carriers Premium economy      13\n",
              "Jet Airways Business                    6\n",
              "Vistara Premium economy                 3\n",
              "Trujet                                  1\n",
              "Name: Airline, dtype: int64"
            ]
          },
          "metadata": {},
          "execution_count": 102
        }
      ]
    },
    {
      "cell_type": "code",
      "source": [
        "import matplotlib.pyplot as plt\n",
        "import seaborn as sns"
      ],
      "metadata": {
        "id": "Z_o5d1dY7qTl"
      },
      "execution_count": 103,
      "outputs": []
    },
    {
      "cell_type": "code",
      "source": [
        "plt.figure(figsize=(15,5))\n",
        "sns.boxplot(y='Price',x='Airline',data=df.sort_values('Price',ascending=False))"
      ],
      "metadata": {
        "colab": {
          "base_uri": "https://localhost:8080/",
          "height": 351
        },
        "id": "dWZXE13d7r2t",
        "outputId": "b0481c81-c054-4d50-f45c-00f819478070"
      },
      "execution_count": 104,
      "outputs": [
        {
          "output_type": "execute_result",
          "data": {
            "text/plain": [
              "<matplotlib.axes._subplots.AxesSubplot at 0x7f9a506e5b10>"
            ]
          },
          "metadata": {},
          "execution_count": 104
        },
        {
          "output_type": "display_data",
          "data": {
            "text/plain": [
              "<Figure size 1080x360 with 1 Axes>"
            ],
            "image/png": "[encoded data removed]"
          },
          "metadata": {
            "needs_background": "light"
          }
        }
      ]
    },
    {
      "cell_type": "code",
      "source": [
        "plt.figure(figsize=(15,5))\n",
        "sns.catplot(y='Price',x='Airline',data=df.sort_values('Price',ascending=False))"
      ],
      "metadata": {
        "colab": {
          "base_uri": "https://localhost:8080/",
          "height": 404
        },
        "id": "rJInP_HU7tmw",
        "outputId": "9c3b8597-278e-4e57-c252-6c71a67e8640"
      },
      "execution_count": 105,
      "outputs": [
        {
          "output_type": "execute_result",
          "data": {
            "text/plain": [
              "<seaborn.axisgrid.FacetGrid at 0x7f9a4fa2f550>"
            ]
          },
          "metadata": {},
          "execution_count": 105
        },
        {
          "output_type": "display_data",
          "data": {
            "text/plain": [
              "<Figure size 1080x360 with 0 Axes>"
            ]
          },
          "metadata": {}
        },
        {
          "output_type": "display_data",
          "data": {
            "text/plain": [
              "<Figure size 360x360 with 1 Axes>"
            ],
            "image/png": "[encoded data removed]"
          },
          "metadata": {
            "needs_background": "light"
          }
        }
      ]
    },
    {
      "cell_type": "code",
      "source": [
        "plt.figure(figsize=(15,5))\n",
        "sns.boxplot(y='Price',x='Total_Stops',data=df)"
      ],
      "metadata": {
        "colab": {
          "base_uri": "https://localhost:8080/",
          "height": 352
        },
        "id": "RGiPko4W7vj1",
        "outputId": "2e7e486e-0b06-432d-9fa4-13812883ac2d"
      },
      "execution_count": 106,
      "outputs": [
        {
          "output_type": "execute_result",
          "data": {
            "text/plain": [
              "<matplotlib.axes._subplots.AxesSubplot at 0x7f9a4fa2fc10>"
            ]
          },
          "metadata": {},
          "execution_count": 106
        },
        {
          "output_type": "display_data",
          "data": {
            "text/plain": [
              "<Figure size 1080x360 with 1 Axes>"
            ],
            "image/png": "[encoded data removed]"
          },
          "metadata": {
            "needs_background": "light"
          }
        }
      ]
    },
    {
      "cell_type": "code",
      "source": [
        "Airline = pd.get_dummies(df['Airline'],drop_first=True)\n",
        "Airline.head()"
      ],
      "metadata": {
        "colab": {
          "base_uri": "https://localhost:8080/",
          "height": 268
        },
        "id": "P1zG51Yk7xZs",
        "outputId": "60487ec3-9528-4f28-d8b8-0aa2ab8d7115"
      },
      "execution_count": 107,
      "outputs": [
        {
          "output_type": "execute_result",
          "data": {
            "text/plain": [
              "   Air India  GoAir  IndiGo  Jet Airways  Jet Airways Business  \\\n",
              "0          0      0       1            0                     0   \n",
              "1          1      0       0            0                     0   \n",
              "2          0      0       0            1                     0   \n",
              "3          0      0       1            0                     0   \n",
              "4          0      0       1            0                     0   \n",
              "\n",
              "   Multiple carriers  Multiple carriers Premium economy  SpiceJet  Trujet  \\\n",
              "0                  0                                  0         0       0   \n",
              "1                  0                                  0         0       0   \n",
              "2                  0                                  0         0       0   \n",
              "3                  0                                  0         0       0   \n",
              "4                  0                                  0         0       0   \n",
              "\n",
              "   Vistara  Vistara Premium economy  \n",
              "0        0                        0  \n",
              "1        0                        0  \n",
              "2        0                        0  \n",
              "3        0                        0  \n",
              "4        0                        0  "
            ],
            "text/html": [
              "\n",
              "  <div id=\"df-2769eeae-705a-40ac-ba14-5c5acdd280e9\">\n",
              "    <div class=\"colab-df-container\">\n",
              "      <div>\n",
              "<style scoped>\n",
              "    .dataframe tbody tr th:only-of-type {\n",
              "        vertical-align: middle;\n",
              "    }\n",
              "\n",
              "    .dataframe tbody tr th {\n",
              "        vertical-align: top;\n",
              "    }\n",
              "\n",
              "    .dataframe thead th {\n",
              "        text-align: right;\n",
              "    }\n",
              "</style>\n",
              "<table border=\"1\" class=\"dataframe\">\n",
              "  <thead>\n",
              "    <tr style=\"text-align: right;\">\n",
              "      <th></th>\n",
              "      <th>Air India</th>\n",
              "      <th>GoAir</th>\n",
              "      <th>IndiGo</th>\n",
              "      <th>Jet Airways</th>\n",
              "      <th>Jet Airways Business</th>\n",
              "      <th>Multiple carriers</th>\n",
              "      <th>Multiple carriers Premium economy</th>\n",
              "      <th>SpiceJet</th>\n",
              "      <th>Trujet</th>\n",
              "      <th>Vistara</th>\n",
              "      <th>Vistara Premium economy</th>\n",
              "    </tr>\n",
              "  </thead>\n",
              "  <tbody>\n",
              "    <tr>\n",
              "      <th>0</th>\n",
              "      <td>0</td>\n",
              "      <td>0</td>\n",
              "      <td>1</td>\n",
              "      <td>0</td>\n",
              "      <td>0</td>\n",
              "      <td>0</td>\n",
              "      <td>0</td>\n",
              "      <td>0</td>\n",
              "      <td>0</td>\n",
              "      <td>0</td>\n",
              "      <td>0</td>\n",
              "    </tr>\n",
              "    <tr>\n",
              "      <th>1</th>\n",
              "      <td>1</td>\n",
              "      <td>0</td>\n",
              "      <td>0</td>\n",
              "      <td>0</td>\n",
              "      <td>0</td>\n",
              "      <td>0</td>\n",
              "      <td>0</td>\n",
              "      <td>0</td>\n",
              "      <td>0</td>\n",
              "      <td>0</td>\n",
              "      <td>0</td>\n",
              "    </tr>\n",
              "    <tr>\n",
              "      <th>2</th>\n",
              "      <td>0</td>\n",
              "      <td>0</td>\n",
              "      <td>0</td>\n",
              "      <td>1</td>\n",
              "      <td>0</td>\n",
              "      <td>0</td>\n",
              "      <td>0</td>\n",
              "      <td>0</td>\n",
              "      <td>0</td>\n",
              "      <td>0</td>\n",
              "      <td>0</td>\n",
              "    </tr>\n",
              "    <tr>\n",
              "      <th>3</th>\n",
              "      <td>0</td>\n",
              "      <td>0</td>\n",
              "      <td>1</td>\n",
              "      <td>0</td>\n",
              "      <td>0</td>\n",
              "      <td>0</td>\n",
              "      <td>0</td>\n",
              "      <td>0</td>\n",
              "      <td>0</td>\n",
              "      <td>0</td>\n",
              "      <td>0</td>\n",
              "    </tr>\n",
              "    <tr>\n",
              "      <th>4</th>\n",
              "      <td>0</td>\n",
              "      <td>0</td>\n",
              "      <td>1</td>\n",
              "      <td>0</td>\n",
              "      <td>0</td>\n",
              "      <td>0</td>\n",
              "      <td>0</td>\n",
              "      <td>0</td>\n",
              "      <td>0</td>\n",
              "      <td>0</td>\n",
              "      <td>0</td>\n",
              "    </tr>\n",
              "  </tbody>\n",
              "</table>\n",
              "</div>\n",
              "      <button class=\"colab-df-convert\" onclick=\"convertToInteractive('df-2769eeae-705a-40ac-ba14-5c5acdd280e9')\"\n",
              "              title=\"Convert this dataframe to an interactive table.\"\n",
              "              style=\"display:none;\">\n",
              "        \n",
              "  <svg xmlns=\"http://www.w3.org/2000/svg\" height=\"24px\"viewBox=\"0 0 24 24\"\n",
              "       width=\"24px\">\n",
              "    <path d=\"M0 0h24v24H0V0z\" fill=\"none\"/>\n",
              "    <path d=\"M18.56 5.44l.94 2.06.94-2.06 2.06-.94-2.06-.94-.94-2.06-.94 2.06-2.06.94zm-11 1L8.5 8.5l.94-2.06 2.06-.94-2.06-.94L8.5 2.5l-.94 2.06-2.06.94zm10 10l.94 2.06.94-2.06 2.06-.94-2.06-.94-.94-2.06-.94 2.06-2.06.94z\"/><path d=\"M17.41 7.96l-1.37-1.37c-.4-.4-.92-.59-1.43-.59-.52 0-1.04.2-1.43.59L10.3 9.45l-7.72 7.72c-.78.78-.78 2.05 0 2.83L4 21.41c.39.39.9.59 1.41.59.51 0 1.02-.2 1.41-.59l7.78-7.78 2.81-2.81c.8-.78.8-2.07 0-2.86zM5.41 20L4 18.59l7.72-7.72 1.47 1.35L5.41 20z\"/>\n",
              "  </svg>\n",
              "      </button>\n",
              "      \n",
              "  <style>\n",
              "    .colab-df-container {\n",
              "      display:flex;\n",
              "      flex-wrap:wrap;\n",
              "      gap: 12px;\n",
              "    }\n",
              "\n",
              "    .colab-df-convert {\n",
              "      background-color: #E8F0FE;\n",
              "      border: none;\n",
              "      border-radius: 50%;\n",
              "      cursor: pointer;\n",
              "      display: none;\n",
              "      fill: #1967D2;\n",
              "      height: 32px;\n",
              "      padding: 0 0 0 0;\n",
              "      width: 32px;\n",
              "    }\n",
              "\n",
              "    .colab-df-convert:hover {\n",
              "      background-color: #E2EBFA;\n",
              "      box-shadow: 0px 1px 2px rgba(60, 64, 67, 0.3), 0px 1px 3px 1px rgba(60, 64, 67, 0.15);\n",
              "      fill: #174EA6;\n",
              "    }\n",
              "\n",
              "    [theme=dark] .colab-df-convert {\n",
              "      background-color: #3B4455;\n",
              "      fill: #D2E3FC;\n",
              "    }\n",
              "\n",
              "    [theme=dark] .colab-df-convert:hover {\n",
              "      background-color: #434B5C;\n",
              "      box-shadow: 0px 1px 3px 1px rgba(0, 0, 0, 0.15);\n",
              "      filter: drop-shadow(0px 1px 2px rgba(0, 0, 0, 0.3));\n",
              "      fill: #FFFFFF;\n",
              "    }\n",
              "  </style>\n",
              "\n",
              "      <script>\n",
              "        const buttonEl =\n",
              "          document.querySelector('#df-2769eeae-705a-40ac-ba14-5c5acdd280e9 button.colab-df-convert');\n",
              "        buttonEl.style.display =\n",
              "          google.colab.kernel.accessAllowed ? 'block' : 'none';\n",
              "\n",
              "        async function convertToInteractive(key) {\n",
              "          const element = document.querySelector('#df-2769eeae-705a-40ac-ba14-5c5acdd280e9');\n",
              "          const dataTable =\n",
              "            await google.colab.kernel.invokeFunction('convertToInteractive',\n",
              "                                                     [key], {});\n",
              "          if (!dataTable) return;\n",
              "\n",
              "          const docLinkHtml = 'Like what you see? Visit the ' +\n",
              "            '<a target=\"_blank\" href=https://colab.research.google.com/notebooks/data_table.ipynb>data table notebook</a>'\n",
              "            + ' to learn more about interactive tables.';\n",
              "          element.innerHTML = '';\n",
              "          dataTable['output_type'] = 'display_data';\n",
              "          await google.colab.output.renderOutput(dataTable, element);\n",
              "          const docLink = document.createElement('div');\n",
              "          docLink.innerHTML = docLinkHtml;\n",
              "          element.appendChild(docLink);\n",
              "        }\n",
              "      </script>\n",
              "    </div>\n",
              "  </div>\n",
              "  "
            ]
          },
          "metadata": {},
          "execution_count": 107
        }
      ]
    },
    {
      "cell_type": "code",
      "source": [
        "plt.figure(figsize=(15,5))\n",
        "sns.boxplot(y='Price',x='Source',data=df.sort_values('Price',ascending=False))"
      ],
      "metadata": {
        "colab": {
          "base_uri": "https://localhost:8080/",
          "height": 351
        },
        "id": "4qnH7pLT7zGp",
        "outputId": "d66746ed-49de-4a44-df0f-abe53b2d648f"
      },
      "execution_count": 108,
      "outputs": [
        {
          "output_type": "execute_result",
          "data": {
            "text/plain": [
              "<matplotlib.axes._subplots.AxesSubplot at 0x7f9a4f868210>"
            ]
          },
          "metadata": {},
          "execution_count": 108
        },
        {
          "output_type": "display_data",
          "data": {
            "text/plain": [
              "<Figure size 1080x360 with 1 Axes>"
            ],
            "image/png": "[encoded data removed]"
          },
          "metadata": {
            "needs_background": "light"
          }
        }
      ]
    },
    {
      "cell_type": "code",
      "source": [
        "plt.figure(figsize=(15,5))\n",
        "sns.boxplot(y='Price',x='Source',data=df)"
      ],
      "metadata": {
        "colab": {
          "base_uri": "https://localhost:8080/",
          "height": 351
        },
        "id": "psNwkCw8705-",
        "outputId": "a55031f1-81af-45b0-8f7b-70efe0153268"
      },
      "execution_count": 109,
      "outputs": [
        {
          "output_type": "execute_result",
          "data": {
            "text/plain": [
              "<matplotlib.axes._subplots.AxesSubplot at 0x7f9a4f7a49d0>"
            ]
          },
          "metadata": {},
          "execution_count": 109
        },
        {
          "output_type": "display_data",
          "data": {
            "text/plain": [
              "<Figure size 1080x360 with 1 Axes>"
            ],
            "image/png": "[encoded data removed]"
          },
          "metadata": {
            "needs_background": "light"
          }
        }
      ]
    },
    {
      "cell_type": "code",
      "source": [
        "Source = pd.get_dummies(df['Source'],drop_first=True)\n",
        "Source.head()"
      ],
      "metadata": {
        "colab": {
          "base_uri": "https://localhost:8080/",
          "height": 206
        },
        "id": "GuPyqYyc72e3",
        "outputId": "727b7add-2ecd-4a94-8a96-0cc3948eae4e"
      },
      "execution_count": 110,
      "outputs": [
        {
          "output_type": "execute_result",
          "data": {
            "text/plain": [
              "   Chennai  Delhi  Kolkata  Mumbai\n",
              "0        0      0        0       0\n",
              "1        0      0        1       0\n",
              "2        0      1        0       0\n",
              "3        0      0        1       0\n",
              "4        0      0        0       0"
            ],
            "text/html": [
              "\n",
              "  <div id=\"df-ed621166-a5ef-448d-bba0-5f78c5a959b7\">\n",
              "    <div class=\"colab-df-container\">\n",
              "      <div>\n",
              "<style scoped>\n",
              "    .dataframe tbody tr th:only-of-type {\n",
              "        vertical-align: middle;\n",
              "    }\n",
              "\n",
              "    .dataframe tbody tr th {\n",
              "        vertical-align: top;\n",
              "    }\n",
              "\n",
              "    .dataframe thead th {\n",
              "        text-align: right;\n",
              "    }\n",
              "</style>\n",
              "<table border=\"1\" class=\"dataframe\">\n",
              "  <thead>\n",
              "    <tr style=\"text-align: right;\">\n",
              "      <th></th>\n",
              "      <th>Chennai</th>\n",
              "      <th>Delhi</th>\n",
              "      <th>Kolkata</th>\n",
              "      <th>Mumbai</th>\n",
              "    </tr>\n",
              "  </thead>\n",
              "  <tbody>\n",
              "    <tr>\n",
              "      <th>0</th>\n",
              "      <td>0</td>\n",
              "      <td>0</td>\n",
              "      <td>0</td>\n",
              "      <td>0</td>\n",
              "    </tr>\n",
              "    <tr>\n",
              "      <th>1</th>\n",
              "      <td>0</td>\n",
              "      <td>0</td>\n",
              "      <td>1</td>\n",
              "      <td>0</td>\n",
              "    </tr>\n",
              "    <tr>\n",
              "      <th>2</th>\n",
              "      <td>0</td>\n",
              "      <td>1</td>\n",
              "      <td>0</td>\n",
              "      <td>0</td>\n",
              "    </tr>\n",
              "    <tr>\n",
              "      <th>3</th>\n",
              "      <td>0</td>\n",
              "      <td>0</td>\n",
              "      <td>1</td>\n",
              "      <td>0</td>\n",
              "    </tr>\n",
              "    <tr>\n",
              "      <th>4</th>\n",
              "      <td>0</td>\n",
              "      <td>0</td>\n",
              "      <td>0</td>\n",
              "      <td>0</td>\n",
              "    </tr>\n",
              "  </tbody>\n",
              "</table>\n",
              "</div>\n",
              "      <button class=\"colab-df-convert\" onclick=\"convertToInteractive('df-ed621166-a5ef-448d-bba0-5f78c5a959b7')\"\n",
              "              title=\"Convert this dataframe to an interactive table.\"\n",
              "              style=\"display:none;\">\n",
              "        \n",
              "  <svg xmlns=\"http://www.w3.org/2000/svg\" height=\"24px\"viewBox=\"0 0 24 24\"\n",
              "       width=\"24px\">\n",
              "    <path d=\"M0 0h24v24H0V0z\" fill=\"none\"/>\n",
              "    <path d=\"M18.56 5.44l.94 2.06.94-2.06 2.06-.94-2.06-.94-.94-2.06-.94 2.06-2.06.94zm-11 1L8.5 8.5l.94-2.06 2.06-.94-2.06-.94L8.5 2.5l-.94 2.06-2.06.94zm10 10l.94 2.06.94-2.06 2.06-.94-2.06-.94-.94-2.06-.94 2.06-2.06.94z\"/><path d=\"M17.41 7.96l-1.37-1.37c-.4-.4-.92-.59-1.43-.59-.52 0-1.04.2-1.43.59L10.3 9.45l-7.72 7.72c-.78.78-.78 2.05 0 2.83L4 21.41c.39.39.9.59 1.41.59.51 0 1.02-.2 1.41-.59l7.78-7.78 2.81-2.81c.8-.78.8-2.07 0-2.86zM5.41 20L4 18.59l7.72-7.72 1.47 1.35L5.41 20z\"/>\n",
              "  </svg>\n",
              "      </button>\n",
              "      \n",
              "  <style>\n",
              "    .colab-df-container {\n",
              "      display:flex;\n",
              "      flex-wrap:wrap;\n",
              "      gap: 12px;\n",
              "    }\n",
              "\n",
              "    .colab-df-convert {\n",
              "      background-color: #E8F0FE;\n",
              "      border: none;\n",
              "      border-radius: 50%;\n",
              "      cursor: pointer;\n",
              "      display: none;\n",
              "      fill: #1967D2;\n",
              "      height: 32px;\n",
              "      padding: 0 0 0 0;\n",
              "      width: 32px;\n",
              "    }\n",
              "\n",
              "    .colab-df-convert:hover {\n",
              "      background-color: #E2EBFA;\n",
              "      box-shadow: 0px 1px 2px rgba(60, 64, 67, 0.3), 0px 1px 3px 1px rgba(60, 64, 67, 0.15);\n",
              "      fill: #174EA6;\n",
              "    }\n",
              "\n",
              "    [theme=dark] .colab-df-convert {\n",
              "      background-color: #3B4455;\n",
              "      fill: #D2E3FC;\n",
              "    }\n",
              "\n",
              "    [theme=dark] .colab-df-convert:hover {\n",
              "      background-color: #434B5C;\n",
              "      box-shadow: 0px 1px 3px 1px rgba(0, 0, 0, 0.15);\n",
              "      filter: drop-shadow(0px 1px 2px rgba(0, 0, 0, 0.3));\n",
              "      fill: #FFFFFF;\n",
              "    }\n",
              "  </style>\n",
              "\n",
              "      <script>\n",
              "        const buttonEl =\n",
              "          document.querySelector('#df-ed621166-a5ef-448d-bba0-5f78c5a959b7 button.colab-df-convert');\n",
              "        buttonEl.style.display =\n",
              "          google.colab.kernel.accessAllowed ? 'block' : 'none';\n",
              "\n",
              "        async function convertToInteractive(key) {\n",
              "          const element = document.querySelector('#df-ed621166-a5ef-448d-bba0-5f78c5a959b7');\n",
              "          const dataTable =\n",
              "            await google.colab.kernel.invokeFunction('convertToInteractive',\n",
              "                                                     [key], {});\n",
              "          if (!dataTable) return;\n",
              "\n",
              "          const docLinkHtml = 'Like what you see? Visit the ' +\n",
              "            '<a target=\"_blank\" href=https://colab.research.google.com/notebooks/data_table.ipynb>data table notebook</a>'\n",
              "            + ' to learn more about interactive tables.';\n",
              "          element.innerHTML = '';\n",
              "          dataTable['output_type'] = 'display_data';\n",
              "          await google.colab.output.renderOutput(dataTable, element);\n",
              "          const docLink = document.createElement('div');\n",
              "          docLink.innerHTML = docLinkHtml;\n",
              "          element.appendChild(docLink);\n",
              "        }\n",
              "      </script>\n",
              "    </div>\n",
              "  </div>\n",
              "  "
            ]
          },
          "metadata": {},
          "execution_count": 110
        }
      ]
    },
    {
      "cell_type": "code",
      "source": [
        "df['Destination'].value_counts()"
      ],
      "metadata": {
        "colab": {
          "base_uri": "https://localhost:8080/"
        },
        "id": "hL7h4Vcs738X",
        "outputId": "ee089945-55d6-4957-955e-bac8b6814516"
      },
      "execution_count": 111,
      "outputs": [
        {
          "output_type": "execute_result",
          "data": {
            "text/plain": [
              "Cochin       4536\n",
              "Banglore     2871\n",
              "Delhi        1265\n",
              "New Delhi     932\n",
              "Hyderabad     697\n",
              "Kolkata       381\n",
              "Name: Destination, dtype: int64"
            ]
          },
          "metadata": {},
          "execution_count": 111
        }
      ]
    },
    {
      "cell_type": "code",
      "source": [
        "df['Source'].value_counts()"
      ],
      "metadata": {
        "colab": {
          "base_uri": "https://localhost:8080/"
        },
        "id": "QMyD5msf758O",
        "outputId": "c9268bba-8684-49d4-edf1-4f2fdf55b964"
      },
      "execution_count": 112,
      "outputs": [
        {
          "output_type": "execute_result",
          "data": {
            "text/plain": [
              "Delhi       4536\n",
              "Kolkata     2871\n",
              "Banglore    2197\n",
              "Mumbai       697\n",
              "Chennai      381\n",
              "Name: Source, dtype: int64"
            ]
          },
          "metadata": {},
          "execution_count": 112
        }
      ]
    },
    {
      "cell_type": "code",
      "source": [
        "Destination = pd.get_dummies(df['Destination'],drop_first=True)\n",
        "Destination.head()"
      ],
      "metadata": {
        "colab": {
          "base_uri": "https://localhost:8080/",
          "height": 206
        },
        "id": "51MxLDsI8AbM",
        "outputId": "c8b1d65c-b915-4e70-893b-9efc1657b3ed"
      },
      "execution_count": 113,
      "outputs": [
        {
          "output_type": "execute_result",
          "data": {
            "text/plain": [
              "   Cochin  Delhi  Hyderabad  Kolkata  New Delhi\n",
              "0       0      0          0        0          1\n",
              "1       0      0          0        0          0\n",
              "2       1      0          0        0          0\n",
              "3       0      0          0        0          0\n",
              "4       0      0          0        0          1"
            ],
            "text/html": [
              "\n",
              "  <div id=\"df-b5b141fd-92ba-46cc-b261-b88384f4a6e3\">\n",
              "    <div class=\"colab-df-container\">\n",
              "      <div>\n",
              "<style scoped>\n",
              "    .dataframe tbody tr th:only-of-type {\n",
              "        vertical-align: middle;\n",
              "    }\n",
              "\n",
              "    .dataframe tbody tr th {\n",
              "        vertical-align: top;\n",
              "    }\n",
              "\n",
              "    .dataframe thead th {\n",
              "        text-align: right;\n",
              "    }\n",
              "</style>\n",
              "<table border=\"1\" class=\"dataframe\">\n",
              "  <thead>\n",
              "    <tr style=\"text-align: right;\">\n",
              "      <th></th>\n",
              "      <th>Cochin</th>\n",
              "      <th>Delhi</th>\n",
              "      <th>Hyderabad</th>\n",
              "      <th>Kolkata</th>\n",
              "      <th>New Delhi</th>\n",
              "    </tr>\n",
              "  </thead>\n",
              "  <tbody>\n",
              "    <tr>\n",
              "      <th>0</th>\n",
              "      <td>0</td>\n",
              "      <td>0</td>\n",
              "      <td>0</td>\n",
              "      <td>0</td>\n",
              "      <td>1</td>\n",
              "    </tr>\n",
              "    <tr>\n",
              "      <th>1</th>\n",
              "      <td>0</td>\n",
              "      <td>0</td>\n",
              "      <td>0</td>\n",
              "      <td>0</td>\n",
              "      <td>0</td>\n",
              "    </tr>\n",
              "    <tr>\n",
              "      <th>2</th>\n",
              "      <td>1</td>\n",
              "      <td>0</td>\n",
              "      <td>0</td>\n",
              "      <td>0</td>\n",
              "      <td>0</td>\n",
              "    </tr>\n",
              "    <tr>\n",
              "      <th>3</th>\n",
              "      <td>0</td>\n",
              "      <td>0</td>\n",
              "      <td>0</td>\n",
              "      <td>0</td>\n",
              "      <td>0</td>\n",
              "    </tr>\n",
              "    <tr>\n",
              "      <th>4</th>\n",
              "      <td>0</td>\n",
              "      <td>0</td>\n",
              "      <td>0</td>\n",
              "      <td>0</td>\n",
              "      <td>1</td>\n",
              "    </tr>\n",
              "  </tbody>\n",
              "</table>\n",
              "</div>\n",
              "      <button class=\"colab-df-convert\" onclick=\"convertToInteractive('df-b5b141fd-92ba-46cc-b261-b88384f4a6e3')\"\n",
              "              title=\"Convert this dataframe to an interactive table.\"\n",
              "              style=\"display:none;\">\n",
              "        \n",
              "  <svg xmlns=\"http://www.w3.org/2000/svg\" height=\"24px\"viewBox=\"0 0 24 24\"\n",
              "       width=\"24px\">\n",
              "    <path d=\"M0 0h24v24H0V0z\" fill=\"none\"/>\n",
              "    <path d=\"M18.56 5.44l.94 2.06.94-2.06 2.06-.94-2.06-.94-.94-2.06-.94 2.06-2.06.94zm-11 1L8.5 8.5l.94-2.06 2.06-.94-2.06-.94L8.5 2.5l-.94 2.06-2.06.94zm10 10l.94 2.06.94-2.06 2.06-.94-2.06-.94-.94-2.06-.94 2.06-2.06.94z\"/><path d=\"M17.41 7.96l-1.37-1.37c-.4-.4-.92-.59-1.43-.59-.52 0-1.04.2-1.43.59L10.3 9.45l-7.72 7.72c-.78.78-.78 2.05 0 2.83L4 21.41c.39.39.9.59 1.41.59.51 0 1.02-.2 1.41-.59l7.78-7.78 2.81-2.81c.8-.78.8-2.07 0-2.86zM5.41 20L4 18.59l7.72-7.72 1.47 1.35L5.41 20z\"/>\n",
              "  </svg>\n",
              "      </button>\n",
              "      \n",
              "  <style>\n",
              "    .colab-df-container {\n",
              "      display:flex;\n",
              "      flex-wrap:wrap;\n",
              "      gap: 12px;\n",
              "    }\n",
              "\n",
              "    .colab-df-convert {\n",
              "      background-color: #E8F0FE;\n",
              "      border: none;\n",
              "      border-radius: 50%;\n",
              "      cursor: pointer;\n",
              "      display: none;\n",
              "      fill: #1967D2;\n",
              "      height: 32px;\n",
              "      padding: 0 0 0 0;\n",
              "      width: 32px;\n",
              "    }\n",
              "\n",
              "    .colab-df-convert:hover {\n",
              "      background-color: #E2EBFA;\n",
              "      box-shadow: 0px 1px 2px rgba(60, 64, 67, 0.3), 0px 1px 3px 1px rgba(60, 64, 67, 0.15);\n",
              "      fill: #174EA6;\n",
              "    }\n",
              "\n",
              "    [theme=dark] .colab-df-convert {\n",
              "      background-color: #3B4455;\n",
              "      fill: #D2E3FC;\n",
              "    }\n",
              "\n",
              "    [theme=dark] .colab-df-convert:hover {\n",
              "      background-color: #434B5C;\n",
              "      box-shadow: 0px 1px 3px 1px rgba(0, 0, 0, 0.15);\n",
              "      filter: drop-shadow(0px 1px 2px rgba(0, 0, 0, 0.3));\n",
              "      fill: #FFFFFF;\n",
              "    }\n",
              "  </style>\n",
              "\n",
              "      <script>\n",
              "        const buttonEl =\n",
              "          document.querySelector('#df-b5b141fd-92ba-46cc-b261-b88384f4a6e3 button.colab-df-convert');\n",
              "        buttonEl.style.display =\n",
              "          google.colab.kernel.accessAllowed ? 'block' : 'none';\n",
              "\n",
              "        async function convertToInteractive(key) {\n",
              "          const element = document.querySelector('#df-b5b141fd-92ba-46cc-b261-b88384f4a6e3');\n",
              "          const dataTable =\n",
              "            await google.colab.kernel.invokeFunction('convertToInteractive',\n",
              "                                                     [key], {});\n",
              "          if (!dataTable) return;\n",
              "\n",
              "          const docLinkHtml = 'Like what you see? Visit the ' +\n",
              "            '<a target=\"_blank\" href=https://colab.research.google.com/notebooks/data_table.ipynb>data table notebook</a>'\n",
              "            + ' to learn more about interactive tables.';\n",
              "          element.innerHTML = '';\n",
              "          dataTable['output_type'] = 'display_data';\n",
              "          await google.colab.output.renderOutput(dataTable, element);\n",
              "          const docLink = document.createElement('div');\n",
              "          docLink.innerHTML = docLinkHtml;\n",
              "          element.appendChild(docLink);\n",
              "        }\n",
              "      </script>\n",
              "    </div>\n",
              "  </div>\n",
              "  "
            ]
          },
          "metadata": {},
          "execution_count": 113
        }
      ]
    },
    {
      "cell_type": "code",
      "source": [
        "df.drop('Additional_Info',axis=1,inplace=True)"
      ],
      "metadata": {
        "id": "jxOBJBUo8B_E"
      },
      "execution_count": 114,
      "outputs": []
    },
    {
      "cell_type": "code",
      "source": [
        "df['Route']"
      ],
      "metadata": {
        "colab": {
          "base_uri": "https://localhost:8080/"
        },
        "id": "C_JyqqjV8DYE",
        "outputId": "47e677c1-645f-429a-9a1e-d204a9e4c018"
      },
      "execution_count": 115,
      "outputs": [
        {
          "output_type": "execute_result",
          "data": {
            "text/plain": [
              "0                    BLR ? DEL\n",
              "1        CCU ? IXR ? BBI ? BLR\n",
              "2        DEL ? LKO ? BOM ? COK\n",
              "3              CCU ? NAG ? BLR\n",
              "4              BLR ? NAG ? DEL\n",
              "                 ...          \n",
              "10678                CCU ? BLR\n",
              "10679                CCU ? BLR\n",
              "10680                BLR ? DEL\n",
              "10681                BLR ? DEL\n",
              "10682    DEL ? GOI ? BOM ? COK\n",
              "Name: Route, Length: 10682, dtype: object"
            ]
          },
          "metadata": {},
          "execution_count": 115
        }
      ]
    },
    {
      "cell_type": "code",
      "source": [
        "df['Route_1']=df['Route'].str.split('?').str[0]\n",
        "df['Route_2']=df['Route'].str.split('?').str[1]\n",
        "df['Route_3']=df['Route'].str.split('?').str[2]\n",
        "df['Route_4']=df['Route'].str.split('?').str[3]\n",
        "df['Route_5']=df['Route'].str.split('?').str[4]"
      ],
      "metadata": {
        "id": "ZZRuIGN78E3H"
      },
      "execution_count": 116,
      "outputs": []
    },
    {
      "cell_type": "code",
      "source": [
        "df['Route_1'].fillna('none',inplace=True)\n",
        "df['Route_2'].fillna('none',inplace=True)\n",
        "df['Route_3'].fillna('none',inplace=True)\n",
        "df['Route_4'].fillna('none',inplace=True)\n",
        "df['Route_5'].fillna('none',inplace=True)"
      ],
      "metadata": {
        "id": "Z8Y50_M78GNX"
      },
      "execution_count": 117,
      "outputs": []
    },
    {
      "cell_type": "code",
      "source": [
        "from sklearn.preprocessing import LabelEncoder"
      ],
      "metadata": {
        "id": "hOwV5Zvb8HoX"
      },
      "execution_count": 118,
      "outputs": []
    },
    {
      "cell_type": "code",
      "source": [
        "encoder=LabelEncoder()"
      ],
      "metadata": {
        "id": "2-mhOT1h8I5U"
      },
      "execution_count": 119,
      "outputs": []
    },
    {
      "cell_type": "code",
      "source": [
        "for i in ['Route_1','Route_2','Route_3','Route_4','Route_5']:\n",
        "    df[i]=encoder.fit_transform(df[i])"
      ],
      "metadata": {
        "id": "FMv_AFl_8KTG"
      },
      "execution_count": 120,
      "outputs": []
    },
    {
      "cell_type": "code",
      "source": [
        "df.head()"
      ],
      "metadata": {
        "colab": {
          "base_uri": "https://localhost:8080/",
          "height": 600
        },
        "id": "Ur7vwmea8MM8",
        "outputId": "4ff634db-a77a-41f7-a0c8-7863d2fd889d"
      },
      "execution_count": 121,
      "outputs": [
        {
          "output_type": "execute_result",
          "data": {
            "text/plain": [
              "       Airline    Source Destination                  Route  \\\n",
              "0       IndiGo  Banglore   New Delhi              BLR ? DEL   \n",
              "1    Air India   Kolkata    Banglore  CCU ? IXR ? BBI ? BLR   \n",
              "2  Jet Airways     Delhi      Cochin  DEL ? LKO ? BOM ? COK   \n",
              "3       IndiGo   Kolkata    Banglore        CCU ? NAG ? BLR   \n",
              "4       IndiGo  Banglore   New Delhi        BLR ? NAG ? DEL   \n",
              "\n",
              "             Dep_Time        Arrival_Time Duration Total_Stops  Price  \\\n",
              "0 2022-04-30 22:20:00 2022-03-22 01:10:00   2h 50m    non-stop   3897   \n",
              "1 2022-04-30 05:50:00 2022-04-30 13:15:00   7h 25m     2 stops   7662   \n",
              "2 2022-04-30 09:25:00 2022-06-10 04:25:00      19h     2 stops  13882   \n",
              "3 2022-04-30 18:05:00 2022-04-30 23:30:00   5h 25m      1 stop   6218   \n",
              "4 2022-04-30 16:50:00 2022-04-30 21:35:00   4h 45m      1 stop  13302   \n",
              "\n",
              "   Journey_Day  Journey_Month  Journey_Hour  Journey_Minute  Arrival_Hour  \\\n",
              "0           24              3            22              20             1   \n",
              "1            5              1             5              50            13   \n",
              "2            6              9             9              25             4   \n",
              "3            5             12            18               5            23   \n",
              "4            3              1            16              50            21   \n",
              "\n",
              "   Arrival_Minute  Route_1  Route_2  Route_3  Route_4  Route_5  \n",
              "0              10        0       13       29       13        5  \n",
              "1              15        2       25        1        3        5  \n",
              "2              25        3       32        4        5        5  \n",
              "3              30        2       34        3       13        5  \n",
              "4              35        0       34        8       13        5  "
            ],
            "text/html": [
              "\n",
              "  <div id=\"df-671e7523-6e3e-4143-9561-e022016c1396\">\n",
              "    <div class=\"colab-df-container\">\n",
              "      <div>\n",
              "<style scoped>\n",
              "    .dataframe tbody tr th:only-of-type {\n",
              "        vertical-align: middle;\n",
              "    }\n",
              "\n",
              "    .dataframe tbody tr th {\n",
              "        vertical-align: top;\n",
              "    }\n",
              "\n",
              "    .dataframe thead th {\n",
              "        text-align: right;\n",
              "    }\n",
              "</style>\n",
              "<table border=\"1\" class=\"dataframe\">\n",
              "  <thead>\n",
              "    <tr style=\"text-align: right;\">\n",
              "      <th></th>\n",
              "      <th>Airline</th>\n",
              "      <th>Source</th>\n",
              "      <th>Destination</th>\n",
              "      <th>Route</th>\n",
              "      <th>Dep_Time</th>\n",
              "      <th>Arrival_Time</th>\n",
              "      <th>Duration</th>\n",
              "      <th>Total_Stops</th>\n",
              "      <th>Price</th>\n",
              "      <th>Journey_Day</th>\n",
              "      <th>Journey_Month</th>\n",
              "      <th>Journey_Hour</th>\n",
              "      <th>Journey_Minute</th>\n",
              "      <th>Arrival_Hour</th>\n",
              "      <th>Arrival_Minute</th>\n",
              "      <th>Route_1</th>\n",
              "      <th>Route_2</th>\n",
              "      <th>Route_3</th>\n",
              "      <th>Route_4</th>\n",
              "      <th>Route_5</th>\n",
              "    </tr>\n",
              "  </thead>\n",
              "  <tbody>\n",
              "    <tr>\n",
              "      <th>0</th>\n",
              "      <td>IndiGo</td>\n",
              "      <td>Banglore</td>\n",
              "      <td>New Delhi</td>\n",
              "      <td>BLR ? DEL</td>\n",
              "      <td>2022-04-30 22:20:00</td>\n",
              "      <td>2022-03-22 01:10:00</td>\n",
              "      <td>2h 50m</td>\n",
              "      <td>non-stop</td>\n",
              "      <td>3897</td>\n",
              "      <td>24</td>\n",
              "      <td>3</td>\n",
              "      <td>22</td>\n",
              "      <td>20</td>\n",
              "      <td>1</td>\n",
              "      <td>10</td>\n",
              "      <td>0</td>\n",
              "      <td>13</td>\n",
              "      <td>29</td>\n",
              "      <td>13</td>\n",
              "      <td>5</td>\n",
              "    </tr>\n",
              "    <tr>\n",
              "      <th>1</th>\n",
              "      <td>Air India</td>\n",
              "      <td>Kolkata</td>\n",
              "      <td>Banglore</td>\n",
              "      <td>CCU ? IXR ? BBI ? BLR</td>\n",
              "      <td>2022-04-30 05:50:00</td>\n",
              "      <td>2022-04-30 13:15:00</td>\n",
              "      <td>7h 25m</td>\n",
              "      <td>2 stops</td>\n",
              "      <td>7662</td>\n",
              "      <td>5</td>\n",
              "      <td>1</td>\n",
              "      <td>5</td>\n",
              "      <td>50</td>\n",
              "      <td>13</td>\n",
              "      <td>15</td>\n",
              "      <td>2</td>\n",
              "      <td>25</td>\n",
              "      <td>1</td>\n",
              "      <td>3</td>\n",
              "      <td>5</td>\n",
              "    </tr>\n",
              "    <tr>\n",
              "      <th>2</th>\n",
              "      <td>Jet Airways</td>\n",
              "      <td>Delhi</td>\n",
              "      <td>Cochin</td>\n",
              "      <td>DEL ? LKO ? BOM ? COK</td>\n",
              "      <td>2022-04-30 09:25:00</td>\n",
              "      <td>2022-06-10 04:25:00</td>\n",
              "      <td>19h</td>\n",
              "      <td>2 stops</td>\n",
              "      <td>13882</td>\n",
              "      <td>6</td>\n",
              "      <td>9</td>\n",
              "      <td>9</td>\n",
              "      <td>25</td>\n",
              "      <td>4</td>\n",
              "      <td>25</td>\n",
              "      <td>3</td>\n",
              "      <td>32</td>\n",
              "      <td>4</td>\n",
              "      <td>5</td>\n",
              "      <td>5</td>\n",
              "    </tr>\n",
              "    <tr>\n",
              "      <th>3</th>\n",
              "      <td>IndiGo</td>\n",
              "      <td>Kolkata</td>\n",
              "      <td>Banglore</td>\n",
              "      <td>CCU ? NAG ? BLR</td>\n",
              "      <td>2022-04-30 18:05:00</td>\n",
              "      <td>2022-04-30 23:30:00</td>\n",
              "      <td>5h 25m</td>\n",
              "      <td>1 stop</td>\n",
              "      <td>6218</td>\n",
              "      <td>5</td>\n",
              "      <td>12</td>\n",
              "      <td>18</td>\n",
              "      <td>5</td>\n",
              "      <td>23</td>\n",
              "      <td>30</td>\n",
              "      <td>2</td>\n",
              "      <td>34</td>\n",
              "      <td>3</td>\n",
              "      <td>13</td>\n",
              "      <td>5</td>\n",
              "    </tr>\n",
              "    <tr>\n",
              "      <th>4</th>\n",
              "      <td>IndiGo</td>\n",
              "      <td>Banglore</td>\n",
              "      <td>New Delhi</td>\n",
              "      <td>BLR ? NAG ? DEL</td>\n",
              "      <td>2022-04-30 16:50:00</td>\n",
              "      <td>2022-04-30 21:35:00</td>\n",
              "      <td>4h 45m</td>\n",
              "      <td>1 stop</td>\n",
              "      <td>13302</td>\n",
              "      <td>3</td>\n",
              "      <td>1</td>\n",
              "      <td>16</td>\n",
              "      <td>50</td>\n",
              "      <td>21</td>\n",
              "      <td>35</td>\n",
              "      <td>0</td>\n",
              "      <td>34</td>\n",
              "      <td>8</td>\n",
              "      <td>13</td>\n",
              "      <td>5</td>\n",
              "    </tr>\n",
              "  </tbody>\n",
              "</table>\n",
              "</div>\n",
              "      <button class=\"colab-df-convert\" onclick=\"convertToInteractive('df-671e7523-6e3e-4143-9561-e022016c1396')\"\n",
              "              title=\"Convert this dataframe to an interactive table.\"\n",
              "              style=\"display:none;\">\n",
              "        \n",
              "  <svg xmlns=\"http://www.w3.org/2000/svg\" height=\"24px\"viewBox=\"0 0 24 24\"\n",
              "       width=\"24px\">\n",
              "    <path d=\"M0 0h24v24H0V0z\" fill=\"none\"/>\n",
              "    <path d=\"M18.56 5.44l.94 2.06.94-2.06 2.06-.94-2.06-.94-.94-2.06-.94 2.06-2.06.94zm-11 1L8.5 8.5l.94-2.06 2.06-.94-2.06-.94L8.5 2.5l-.94 2.06-2.06.94zm10 10l.94 2.06.94-2.06 2.06-.94-2.06-.94-.94-2.06-.94 2.06-2.06.94z\"/><path d=\"M17.41 7.96l-1.37-1.37c-.4-.4-.92-.59-1.43-.59-.52 0-1.04.2-1.43.59L10.3 9.45l-7.72 7.72c-.78.78-.78 2.05 0 2.83L4 21.41c.39.39.9.59 1.41.59.51 0 1.02-.2 1.41-.59l7.78-7.78 2.81-2.81c.8-.78.8-2.07 0-2.86zM5.41 20L4 18.59l7.72-7.72 1.47 1.35L5.41 20z\"/>\n",
              "  </svg>\n",
              "      </button>\n",
              "      \n",
              "  <style>\n",
              "    .colab-df-container {\n",
              "      display:flex;\n",
              "      flex-wrap:wrap;\n",
              "      gap: 12px;\n",
              "    }\n",
              "\n",
              "    .colab-df-convert {\n",
              "      background-color: #E8F0FE;\n",
              "      border: none;\n",
              "      border-radius: 50%;\n",
              "      cursor: pointer;\n",
              "      display: none;\n",
              "      fill: #1967D2;\n",
              "      height: 32px;\n",
              "      padding: 0 0 0 0;\n",
              "      width: 32px;\n",
              "    }\n",
              "\n",
              "    .colab-df-convert:hover {\n",
              "      background-color: #E2EBFA;\n",
              "      box-shadow: 0px 1px 2px rgba(60, 64, 67, 0.3), 0px 1px 3px 1px rgba(60, 64, 67, 0.15);\n",
              "      fill: #174EA6;\n",
              "    }\n",
              "\n",
              "    [theme=dark] .colab-df-convert {\n",
              "      background-color: #3B4455;\n",
              "      fill: #D2E3FC;\n",
              "    }\n",
              "\n",
              "    [theme=dark] .colab-df-convert:hover {\n",
              "      background-color: #434B5C;\n",
              "      box-shadow: 0px 1px 3px 1px rgba(0, 0, 0, 0.15);\n",
              "      filter: drop-shadow(0px 1px 2px rgba(0, 0, 0, 0.3));\n",
              "      fill: #FFFFFF;\n",
              "    }\n",
              "  </style>\n",
              "\n",
              "      <script>\n",
              "        const buttonEl =\n",
              "          document.querySelector('#df-671e7523-6e3e-4143-9561-e022016c1396 button.colab-df-convert');\n",
              "        buttonEl.style.display =\n",
              "          google.colab.kernel.accessAllowed ? 'block' : 'none';\n",
              "\n",
              "        async function convertToInteractive(key) {\n",
              "          const element = document.querySelector('#df-671e7523-6e3e-4143-9561-e022016c1396');\n",
              "          const dataTable =\n",
              "            await google.colab.kernel.invokeFunction('convertToInteractive',\n",
              "                                                     [key], {});\n",
              "          if (!dataTable) return;\n",
              "\n",
              "          const docLinkHtml = 'Like what you see? Visit the ' +\n",
              "            '<a target=\"_blank\" href=https://colab.research.google.com/notebooks/data_table.ipynb>data table notebook</a>'\n",
              "            + ' to learn more about interactive tables.';\n",
              "          element.innerHTML = '';\n",
              "          dataTable['output_type'] = 'display_data';\n",
              "          await google.colab.output.renderOutput(dataTable, element);\n",
              "          const docLink = document.createElement('div');\n",
              "          docLink.innerHTML = docLinkHtml;\n",
              "          element.appendChild(docLink);\n",
              "        }\n",
              "      </script>\n",
              "    </div>\n",
              "  </div>\n",
              "  "
            ]
          },
          "metadata": {},
          "execution_count": 121
        }
      ]
    },
    {
      "cell_type": "code",
      "source": [
        "df['Total_Stops'].value_counts()"
      ],
      "metadata": {
        "colab": {
          "base_uri": "https://localhost:8080/"
        },
        "id": "JDWsbQoQ8Odf",
        "outputId": "21b60d40-00fc-438d-8b24-d623f851fa65"
      },
      "execution_count": 122,
      "outputs": [
        {
          "output_type": "execute_result",
          "data": {
            "text/plain": [
              "1 stop      5625\n",
              "non-stop    3491\n",
              "2 stops     1520\n",
              "3 stops       45\n",
              "4 stops        1\n",
              "Name: Total_Stops, dtype: int64"
            ]
          },
          "metadata": {},
          "execution_count": 122
        }
      ]
    },
    {
      "cell_type": "code",
      "source": [
        "dic={'non-stop':0,'1 stop':1,'2 stops':2,'3 stops':3,'4 stops':4}"
      ],
      "metadata": {
        "id": "IG3Plw6T8QBo"
      },
      "execution_count": 123,
      "outputs": []
    },
    {
      "cell_type": "code",
      "source": [
        "df['Total_Stops']=df['Total_Stops'].map(dic)"
      ],
      "metadata": {
        "id": "YL4uYqgx8Rm-"
      },
      "execution_count": 124,
      "outputs": []
    },
    {
      "cell_type": "code",
      "source": [
        "df.head()"
      ],
      "metadata": {
        "colab": {
          "base_uri": "https://localhost:8080/",
          "height": 600
        },
        "id": "8WdYuJ_k8S8u",
        "outputId": "4f63a1cb-f6e1-4f41-de66-b147234880c5"
      },
      "execution_count": 125,
      "outputs": [
        {
          "output_type": "execute_result",
          "data": {
            "text/plain": [
              "       Airline    Source Destination                  Route  \\\n",
              "0       IndiGo  Banglore   New Delhi              BLR ? DEL   \n",
              "1    Air India   Kolkata    Banglore  CCU ? IXR ? BBI ? BLR   \n",
              "2  Jet Airways     Delhi      Cochin  DEL ? LKO ? BOM ? COK   \n",
              "3       IndiGo   Kolkata    Banglore        CCU ? NAG ? BLR   \n",
              "4       IndiGo  Banglore   New Delhi        BLR ? NAG ? DEL   \n",
              "\n",
              "             Dep_Time        Arrival_Time Duration  Total_Stops  Price  \\\n",
              "0 2022-04-30 22:20:00 2022-03-22 01:10:00   2h 50m            0   3897   \n",
              "1 2022-04-30 05:50:00 2022-04-30 13:15:00   7h 25m            2   7662   \n",
              "2 2022-04-30 09:25:00 2022-06-10 04:25:00      19h            2  13882   \n",
              "3 2022-04-30 18:05:00 2022-04-30 23:30:00   5h 25m            1   6218   \n",
              "4 2022-04-30 16:50:00 2022-04-30 21:35:00   4h 45m            1  13302   \n",
              "\n",
              "   Journey_Day  Journey_Month  Journey_Hour  Journey_Minute  Arrival_Hour  \\\n",
              "0           24              3            22              20             1   \n",
              "1            5              1             5              50            13   \n",
              "2            6              9             9              25             4   \n",
              "3            5             12            18               5            23   \n",
              "4            3              1            16              50            21   \n",
              "\n",
              "   Arrival_Minute  Route_1  Route_2  Route_3  Route_4  Route_5  \n",
              "0              10        0       13       29       13        5  \n",
              "1              15        2       25        1        3        5  \n",
              "2              25        3       32        4        5        5  \n",
              "3              30        2       34        3       13        5  \n",
              "4              35        0       34        8       13        5  "
            ],
            "text/html": [
              "\n",
              "  <div id=\"df-38068840-128d-4f31-9f68-a353b33295a4\">\n",
              "    <div class=\"colab-df-container\">\n",
              "      <div>\n",
              "<style scoped>\n",
              "    .dataframe tbody tr th:only-of-type {\n",
              "        vertical-align: middle;\n",
              "    }\n",
              "\n",
              "    .dataframe tbody tr th {\n",
              "        vertical-align: top;\n",
              "    }\n",
              "\n",
              "    .dataframe thead th {\n",
              "        text-align: right;\n",
              "    }\n",
              "</style>\n",
              "<table border=\"1\" class=\"dataframe\">\n",
              "  <thead>\n",
              "    <tr style=\"text-align: right;\">\n",
              "      <th></th>\n",
              "      <th>Airline</th>\n",
              "      <th>Source</th>\n",
              "      <th>Destination</th>\n",
              "      <th>Route</th>\n",
              "      <th>Dep_Time</th>\n",
              "      <th>Arrival_Time</th>\n",
              "      <th>Duration</th>\n",
              "      <th>Total_Stops</th>\n",
              "      <th>Price</th>\n",
              "      <th>Journey_Day</th>\n",
              "      <th>Journey_Month</th>\n",
              "      <th>Journey_Hour</th>\n",
              "      <th>Journey_Minute</th>\n",
              "      <th>Arrival_Hour</th>\n",
              "      <th>Arrival_Minute</th>\n",
              "      <th>Route_1</th>\n",
              "      <th>Route_2</th>\n",
              "      <th>Route_3</th>\n",
              "      <th>Route_4</th>\n",
              "      <th>Route_5</th>\n",
              "    </tr>\n",
              "  </thead>\n",
              "  <tbody>\n",
              "    <tr>\n",
              "      <th>0</th>\n",
              "      <td>IndiGo</td>\n",
              "      <td>Banglore</td>\n",
              "      <td>New Delhi</td>\n",
              "      <td>BLR ? DEL</td>\n",
              "      <td>2022-04-30 22:20:00</td>\n",
              "      <td>2022-03-22 01:10:00</td>\n",
              "      <td>2h 50m</td>\n",
              "      <td>0</td>\n",
              "      <td>3897</td>\n",
              "      <td>24</td>\n",
              "      <td>3</td>\n",
              "      <td>22</td>\n",
              "      <td>20</td>\n",
              "      <td>1</td>\n",
              "      <td>10</td>\n",
              "      <td>0</td>\n",
              "      <td>13</td>\n",
              "      <td>29</td>\n",
              "      <td>13</td>\n",
              "      <td>5</td>\n",
              "    </tr>\n",
              "    <tr>\n",
              "      <th>1</th>\n",
              "      <td>Air India</td>\n",
              "      <td>Kolkata</td>\n",
              "      <td>Banglore</td>\n",
              "      <td>CCU ? IXR ? BBI ? BLR</td>\n",
              "      <td>2022-04-30 05:50:00</td>\n",
              "      <td>2022-04-30 13:15:00</td>\n",
              "      <td>7h 25m</td>\n",
              "      <td>2</td>\n",
              "      <td>7662</td>\n",
              "      <td>5</td>\n",
              "      <td>1</td>\n",
              "      <td>5</td>\n",
              "      <td>50</td>\n",
              "      <td>13</td>\n",
              "      <td>15</td>\n",
              "      <td>2</td>\n",
              "      <td>25</td>\n",
              "      <td>1</td>\n",
              "      <td>3</td>\n",
              "      <td>5</td>\n",
              "    </tr>\n",
              "    <tr>\n",
              "      <th>2</th>\n",
              "      <td>Jet Airways</td>\n",
              "      <td>Delhi</td>\n",
              "      <td>Cochin</td>\n",
              "      <td>DEL ? LKO ? BOM ? COK</td>\n",
              "      <td>2022-04-30 09:25:00</td>\n",
              "      <td>2022-06-10 04:25:00</td>\n",
              "      <td>19h</td>\n",
              "      <td>2</td>\n",
              "      <td>13882</td>\n",
              "      <td>6</td>\n",
              "      <td>9</td>\n",
              "      <td>9</td>\n",
              "      <td>25</td>\n",
              "      <td>4</td>\n",
              "      <td>25</td>\n",
              "      <td>3</td>\n",
              "      <td>32</td>\n",
              "      <td>4</td>\n",
              "      <td>5</td>\n",
              "      <td>5</td>\n",
              "    </tr>\n",
              "    <tr>\n",
              "      <th>3</th>\n",
              "      <td>IndiGo</td>\n",
              "      <td>Kolkata</td>\n",
              "      <td>Banglore</td>\n",
              "      <td>CCU ? NAG ? BLR</td>\n",
              "      <td>2022-04-30 18:05:00</td>\n",
              "      <td>2022-04-30 23:30:00</td>\n",
              "      <td>5h 25m</td>\n",
              "      <td>1</td>\n",
              "      <td>6218</td>\n",
              "      <td>5</td>\n",
              "      <td>12</td>\n",
              "      <td>18</td>\n",
              "      <td>5</td>\n",
              "      <td>23</td>\n",
              "      <td>30</td>\n",
              "      <td>2</td>\n",
              "      <td>34</td>\n",
              "      <td>3</td>\n",
              "      <td>13</td>\n",
              "      <td>5</td>\n",
              "    </tr>\n",
              "    <tr>\n",
              "      <th>4</th>\n",
              "      <td>IndiGo</td>\n",
              "      <td>Banglore</td>\n",
              "      <td>New Delhi</td>\n",
              "      <td>BLR ? NAG ? DEL</td>\n",
              "      <td>2022-04-30 16:50:00</td>\n",
              "      <td>2022-04-30 21:35:00</td>\n",
              "      <td>4h 45m</td>\n",
              "      <td>1</td>\n",
              "      <td>13302</td>\n",
              "      <td>3</td>\n",
              "      <td>1</td>\n",
              "      <td>16</td>\n",
              "      <td>50</td>\n",
              "      <td>21</td>\n",
              "      <td>35</td>\n",
              "      <td>0</td>\n",
              "      <td>34</td>\n",
              "      <td>8</td>\n",
              "      <td>13</td>\n",
              "      <td>5</td>\n",
              "    </tr>\n",
              "  </tbody>\n",
              "</table>\n",
              "</div>\n",
              "      <button class=\"colab-df-convert\" onclick=\"convertToInteractive('df-38068840-128d-4f31-9f68-a353b33295a4')\"\n",
              "              title=\"Convert this dataframe to an interactive table.\"\n",
              "              style=\"display:none;\">\n",
              "        \n",
              "  <svg xmlns=\"http://www.w3.org/2000/svg\" height=\"24px\"viewBox=\"0 0 24 24\"\n",
              "       width=\"24px\">\n",
              "    <path d=\"M0 0h24v24H0V0z\" fill=\"none\"/>\n",
              "    <path d=\"M18.56 5.44l.94 2.06.94-2.06 2.06-.94-2.06-.94-.94-2.06-.94 2.06-2.06.94zm-11 1L8.5 8.5l.94-2.06 2.06-.94-2.06-.94L8.5 2.5l-.94 2.06-2.06.94zm10 10l.94 2.06.94-2.06 2.06-.94-2.06-.94-.94-2.06-.94 2.06-2.06.94z\"/><path d=\"M17.41 7.96l-1.37-1.37c-.4-.4-.92-.59-1.43-.59-.52 0-1.04.2-1.43.59L10.3 9.45l-7.72 7.72c-.78.78-.78 2.05 0 2.83L4 21.41c.39.39.9.59 1.41.59.51 0 1.02-.2 1.41-.59l7.78-7.78 2.81-2.81c.8-.78.8-2.07 0-2.86zM5.41 20L4 18.59l7.72-7.72 1.47 1.35L5.41 20z\"/>\n",
              "  </svg>\n",
              "      </button>\n",
              "      \n",
              "  <style>\n",
              "    .colab-df-container {\n",
              "      display:flex;\n",
              "      flex-wrap:wrap;\n",
              "      gap: 12px;\n",
              "    }\n",
              "\n",
              "    .colab-df-convert {\n",
              "      background-color: #E8F0FE;\n",
              "      border: none;\n",
              "      border-radius: 50%;\n",
              "      cursor: pointer;\n",
              "      display: none;\n",
              "      fill: #1967D2;\n",
              "      height: 32px;\n",
              "      padding: 0 0 0 0;\n",
              "      width: 32px;\n",
              "    }\n",
              "\n",
              "    .colab-df-convert:hover {\n",
              "      background-color: #E2EBFA;\n",
              "      box-shadow: 0px 1px 2px rgba(60, 64, 67, 0.3), 0px 1px 3px 1px rgba(60, 64, 67, 0.15);\n",
              "      fill: #174EA6;\n",
              "    }\n",
              "\n",
              "    [theme=dark] .colab-df-convert {\n",
              "      background-color: #3B4455;\n",
              "      fill: #D2E3FC;\n",
              "    }\n",
              "\n",
              "    [theme=dark] .colab-df-convert:hover {\n",
              "      background-color: #434B5C;\n",
              "      box-shadow: 0px 1px 3px 1px rgba(0, 0, 0, 0.15);\n",
              "      filter: drop-shadow(0px 1px 2px rgba(0, 0, 0, 0.3));\n",
              "      fill: #FFFFFF;\n",
              "    }\n",
              "  </style>\n",
              "\n",
              "      <script>\n",
              "        const buttonEl =\n",
              "          document.querySelector('#df-38068840-128d-4f31-9f68-a353b33295a4 button.colab-df-convert');\n",
              "        buttonEl.style.display =\n",
              "          google.colab.kernel.accessAllowed ? 'block' : 'none';\n",
              "\n",
              "        async function convertToInteractive(key) {\n",
              "          const element = document.querySelector('#df-38068840-128d-4f31-9f68-a353b33295a4');\n",
              "          const dataTable =\n",
              "            await google.colab.kernel.invokeFunction('convertToInteractive',\n",
              "                                                     [key], {});\n",
              "          if (!dataTable) return;\n",
              "\n",
              "          const docLinkHtml = 'Like what you see? Visit the ' +\n",
              "            '<a target=\"_blank\" href=https://colab.research.google.com/notebooks/data_table.ipynb>data table notebook</a>'\n",
              "            + ' to learn more about interactive tables.';\n",
              "          element.innerHTML = '';\n",
              "          dataTable['output_type'] = 'display_data';\n",
              "          await google.colab.output.renderOutput(dataTable, element);\n",
              "          const docLink = document.createElement('div');\n",
              "          docLink.innerHTML = docLinkHtml;\n",
              "          element.appendChild(docLink);\n",
              "        }\n",
              "      </script>\n",
              "    </div>\n",
              "  </div>\n",
              "  "
            ]
          },
          "metadata": {},
          "execution_count": 125
        }
      ]
    },
    {
      "cell_type": "code",
      "source": [
        "duration=list(df['Duration'])\n",
        "for i in range(len(duration)):\n",
        "    if len(duration[i].split(' '))==2:\n",
        "        pass\n",
        "    else:\n",
        "        if 'h' in duration[i]:\n",
        "            duration[i]=duration[i]+' 0m'\n",
        "        else:\n",
        "            duration[i]='0h '+duration[i]"
      ],
      "metadata": {
        "id": "1qPc8uzl8U2d"
      },
      "execution_count": 126,
      "outputs": []
    },
    {
      "cell_type": "code",
      "source": [
        "df['Duration'] = duration"
      ],
      "metadata": {
        "id": "VcBIMUO_8WOh"
      },
      "execution_count": 127,
      "outputs": []
    },
    {
      "cell_type": "code",
      "source": [
        "'2h 50m'.split(' ')[0][0:-1]"
      ],
      "metadata": {
        "colab": {
          "base_uri": "https://localhost:8080/",
          "height": 35
        },
        "id": "4aFi9JzA8Xcb",
        "outputId": "9832f432-9607-4d2d-9d6b-e678fa0fb62e"
      },
      "execution_count": 128,
      "outputs": [
        {
          "output_type": "execute_result",
          "data": {
            "text/plain": [
              "'2'"
            ],
            "application/vnd.google.colaboratory.intrinsic+json": {
              "type": "string"
            }
          },
          "metadata": {},
          "execution_count": 128
        }
      ]
    },
    {
      "cell_type": "code",
      "source": [
        "def hour(x):\n",
        "    return x.split(' ')[0][0:-1]\n",
        "def min(x):\n",
        "    return x.split(' ')[0][0:-1]\n",
        "    "
      ],
      "metadata": {
        "id": "-InyhPLP8ZKV"
      },
      "execution_count": 129,
      "outputs": []
    },
    {
      "cell_type": "code",
      "source": [
        "df['Duration_hours']=df['Duration'].apply(hour)\n",
        "df['Duration_mins']=df['Duration'].apply(min)"
      ],
      "metadata": {
        "id": "jZWLB0Z18a08"
      },
      "execution_count": 130,
      "outputs": []
    },
    {
      "cell_type": "code",
      "source": [
        "'2h 50m'.split(' ')[1][0:-1]"
      ],
      "metadata": {
        "colab": {
          "base_uri": "https://localhost:8080/",
          "height": 35
        },
        "id": "u-_4Y0ZJ8cEX",
        "outputId": "79dd6f83-3c0a-4524-f8c9-6e8f4c7839bc"
      },
      "execution_count": 131,
      "outputs": [
        {
          "output_type": "execute_result",
          "data": {
            "text/plain": [
              "'50'"
            ],
            "application/vnd.google.colaboratory.intrinsic+json": {
              "type": "string"
            }
          },
          "metadata": {},
          "execution_count": 131
        }
      ]
    },
    {
      "cell_type": "code",
      "source": [
        "df.drop('Duration',axis=1,inplace=True)"
      ],
      "metadata": {
        "id": "OyzH3YDU8dUm"
      },
      "execution_count": 132,
      "outputs": []
    },
    {
      "cell_type": "code",
      "source": [
        "df.dtypes"
      ],
      "metadata": {
        "colab": {
          "base_uri": "https://localhost:8080/"
        },
        "id": "pa0gLnef8fDF",
        "outputId": "6f1c1bd6-7640-4c1f-d083-ae07a50c4f74"
      },
      "execution_count": 133,
      "outputs": [
        {
          "output_type": "execute_result",
          "data": {
            "text/plain": [
              "Airline                   object\n",
              "Source                    object\n",
              "Destination               object\n",
              "Route                     object\n",
              "Dep_Time          datetime64[ns]\n",
              "Arrival_Time      datetime64[ns]\n",
              "Total_Stops                int64\n",
              "Price                      int64\n",
              "Journey_Day                int64\n",
              "Journey_Month              int64\n",
              "Journey_Hour               int64\n",
              "Journey_Minute             int64\n",
              "Arrival_Hour               int64\n",
              "Arrival_Minute             int64\n",
              "Route_1                    int64\n",
              "Route_2                    int64\n",
              "Route_3                    int64\n",
              "Route_4                    int64\n",
              "Route_5                    int64\n",
              "Duration_hours            object\n",
              "Duration_mins             object\n",
              "dtype: object"
            ]
          },
          "metadata": {},
          "execution_count": 133
        }
      ]
    },
    {
      "cell_type": "code",
      "source": [
        "print(Source)"
      ],
      "metadata": {
        "colab": {
          "base_uri": "https://localhost:8080/"
        },
        "id": "M5obAuaV8gW2",
        "outputId": "61a264fb-e6ae-4f45-9ca6-837317d91e1b"
      },
      "execution_count": 134,
      "outputs": [
        {
          "output_type": "stream",
          "name": "stdout",
          "text": [
            "       Chennai  Delhi  Kolkata  Mumbai\n",
            "0            0      0        0       0\n",
            "1            0      0        1       0\n",
            "2            0      1        0       0\n",
            "3            0      0        1       0\n",
            "4            0      0        0       0\n",
            "...        ...    ...      ...     ...\n",
            "10678        0      0        1       0\n",
            "10679        0      0        1       0\n",
            "10680        0      0        0       0\n",
            "10681        0      0        0       0\n",
            "10682        0      1        0       0\n",
            "\n",
            "[10682 rows x 4 columns]\n"
          ]
        }
      ]
    },
    {
      "cell_type": "code",
      "source": [
        "print(Destination)"
      ],
      "metadata": {
        "colab": {
          "base_uri": "https://localhost:8080/"
        },
        "id": "ioMstd5C8hrc",
        "outputId": "aa4b7be8-45f2-4831-af9c-f3ecc8de9ece"
      },
      "execution_count": 135,
      "outputs": [
        {
          "output_type": "stream",
          "name": "stdout",
          "text": [
            "       Cochin  Delhi  Hyderabad  Kolkata  New Delhi\n",
            "0           0      0          0        0          1\n",
            "1           0      0          0        0          0\n",
            "2           1      0          0        0          0\n",
            "3           0      0          0        0          0\n",
            "4           0      0          0        0          1\n",
            "...       ...    ...        ...      ...        ...\n",
            "10678       0      0          0        0          0\n",
            "10679       0      0          0        0          0\n",
            "10680       0      1          0        0          0\n",
            "10681       0      0          0        0          1\n",
            "10682       1      0          0        0          0\n",
            "\n",
            "[10682 rows x 5 columns]\n"
          ]
        }
      ]
    },
    {
      "cell_type": "code",
      "source": [
        "print(duration)"
      ],
      "metadata": {
        "colab": {
          "base_uri": "https://localhost:8080/"
        },
        "id": "lR0tgosv8jPk",
        "outputId": "52d295db-35ca-4771-eccd-78334c6d4fb1"
      },
      "execution_count": 136,
      "outputs": [
        {
          "output_type": "stream",
          "name": "stdout",
          "text": [
            "['2h 50m', '7h 25m', '19h 0m', '5h 25m', '4h 45m', '2h 25m', '15h 30m', '21h 5m', '25h 30m', '7h 50m', '13h 15m', '2h 35m', '2h 15m', '12h 10m', '2h 35m', '26h 35m', '4h 30m', '22h 35m', '23h 0m', '20h 35m', '5h 10m', '15h 20m', '2h 50m', '2h 55m', '13h 20m', '15h 10m', '5h 45m', '5h 55m', '2h 50m', '2h 15m', '2h 15m', '13h 25m', '2h 50m', '22h 0m', '5h 30m', '10h 25m', '5h 15m', '2h 30m', '6h 15m', '11h 55m', '11h 5m', '8h 30m', '22h 5m', '2h 45m', '12h 0m', '2h 50m', '2h 50m', '2h 15m', '16h 5m', '19h 55m', '3h 15m', '25h 20m', '2h 50m', '3h 0m', '2h 50m', '16h 15m', '15h 5m', '2h 15m', '6h 30m', '25h 5m', '12h 25m', '27h 20m', '10h 15m', '10h 30m', '2h 15m', '10h 25m', '2h 50m', '1h 30m', '13h 20m', '2h 15m', '1h 25m', '26h 30m', '7h 20m', '13h 30m', '5h 0m', '2h 45m', '2h 50m', '1h 30m', '19h 5m', '2h 15m', '14h 50m', '2h 40m', '22h 10m', '9h 35m', '10h 0m', '21h 20m', '5h 25m', '18h 45m', '12h 20m', '18h 0m', '9h 15m', '11h 5m', '17h 30m', '13h 20m', '2h 35m', '2h 25m', '2h 40m', '3h 0m', '1h 25m', '16h 35m', '12h 20m', '12h 15m', '7h 30m', '24h 0m', '2h 45m', '8h 55m', '7h 10m', '14h 30m', '30h 20m', '19h 55m', '15h 0m', '2h 55m', '12h 45m', '10h 10m', '5h 55m', '15h 25m', '16h 5m', '10h 10m', '2h 40m', '11h 55m', '2h 40m', '1h 25m', '14h 5m', '20h 15m', '2h 25m', '23h 10m', '18h 10m', '16h 0m', '2h 50m', '2h 20m', '8h 0m', '16h 55m', '3h 10m', '2h 45m', '14h 0m', '23h 50m', '21h 40m', '21h 15m', '2h 45m', '10h 50m', '8h 0m', '8h 15m', '5h 25m', '8h 35m', '11h 50m', '27h 35m', '8h 25m', '20h 55m', '4h 50m', '8h 10m', '2h 20m', '24h 25m', '2h 50m', '12h 20m', '12h 15m', '23h 35m', '16h 35m', '2h 50m', '25h 45m', '26h 10m', '28h 50m', '2h 45m', '25h 15m', '9h 20m', '4h 30m', '15h 25m', '1h 30m', '2h 40m', '9h 10m', '2h 45m', '22h 35m', '3h 5m', '11h 30m', '9h 30m', '12h 10m', '17h 35m', '5h 5m', '25h 50m', '20h 0m', '13h 0m', '18h 25m', '1h 30m', '9h 30m', '16h 0m', '2h 20m', '4h 30m', '5h 45m', '24h 10m', '2h 35m', '2h 45m', '4h 55m', '25h 35m', '6h 20m', '3h 5m', '18h 40m', '2h 15m', '12h 10m', '19h 25m', '2h 50m', '8h 25m', '9h 15m', '2h 50m', '3h 15m', '2h 50m', '12h 20m', '2h 55m', '9h 35m', '2h 35m', '9h 30m', '29h 20m', '2h 55m', '5h 15m', '9h 5m', '10h 45m', '4h 55m', '1h 30m', '11h 40m', '2h 45m', '2h 55m', '10h 0m', '2h 45m', '10h 15m', '1h 25m', '9h 15m', '22h 55m', '28h 50m', '37h 25m', '2h 50m', '1h 30m', '1h 30m', '25h 40m', '2h 35m', '6h 15m', '17h 30m', '5h 45m', '2h 35m', '25h 30m', '13h 55m', '2h 55m', '10h 15m', '8h 40m', '5h 30m', '12h 0m', '2h 15m', '2h 15m', '2h 50m', '9h 10m', '10h 25m', '2h 20m', '4h 30m', '3h 10m', '23h 30m', '27h 20m', '12h 35m', '24h 15m', '1h 20m', '2h 45m', '3h 0m', '11h 0m', '13h 30m', '2h 50m', '2h 55m', '2h 45m', '11h 15m', '14h 35m', '13h 55m', '14h 5m', '15h 5m', '2h 15m', '15h 0m', '12h 55m', '9h 0m', '12h 15m', '7h 40m', '27h 20m', '1h 25m', '1h 20m', '5h 30m', '11h 45m', '3h 15m', '24h 55m', '27h 20m', '2h 55m', '17h 5m', '2h 40m', '8h 0m', '3h 0m', '27h 35m', '7h 30m', '22h 55m', '8h 35m', '29h 55m', '22h 15m', '1h 20m', '2h 40m', '3h 0m', '12h 10m', '2h 35m', '11h 45m', '2h 35m', '1h 30m', '2h 40m', '2h 35m', '22h 55m', '14h 40m', '15h 25m', '7h 15m', '20h 10m', '20h 45m', '2h 30m', '23h 50m', '27h 0m', '5h 30m', '11h 50m', '2h 15m', '24h 30m', '2h 20m', '6h 30m', '20h 25m', '2h 35m', '2h 55m', '5h 35m', '2h 30m', '14h 45m', '12h 20m', '25h 30m', '5h 35m', '11h 45m', '2h 55m', '5h 40m', '4h 5m', '8h 0m', '2h 45m', '2h 40m', '2h 55m', '15h 55m', '23h 10m', '7h 20m', '2h 50m', '7h 30m', '3h 0m', '7h 45m', '25h 20m', '10h 25m', '30h 20m', '2h 35m', '9h 0m', '15h 10m', '28h 20m', '3h 0m', '2h 45m', '4h 55m', '2h 40m', '22h 10m', '10h 10m', '2h 50m', '4h 20m', '11h 0m', '3h 0m', '22h 35m', '3h 5m', '2h 40m', '2h 50m', '21h 5m', '11h 50m', '25h 35m', '15h 25m', '2h 25m', '3h 40m', '2h 55m', '3h 10m', '11h 50m', '2h 50m', '2h 50m', '1h 30m', '11h 30m', '8h 50m', '20h 15m', '20h 10m', '16h 5m', '12h 35m', '17h 5m', '3h 0m', '15h 30m', '11h 30m', '2h 20m', '23h 45m', '1h 30m', '2h 35m', '24h 45m', '21h 35m', '5h 30m', '12h 15m', '8h 5m', '5h 0m', '2h 50m', '6h 25m', '2h 20m', '2h 45m', '12h 45m', '15h 50m', '27h 0m', '26h 25m', '2h 55m', '24h 50m', '8h 40m', '25h 45m', '2h 50m', '6h 15m', '10h 30m', '26h 0m', '17h 5m', '21h 20m', '5h 35m', '2h 50m', '25h 50m', '12h 10m', '17h 5m', '8h 30m', '23h 5m', '9h 20m', '7h 55m', '1h 30m', '2h 50m', '2h 15m', '10h 0m', '2h 35m', '7h 45m', '2h 55m', '26h 20m', '2h 40m', '11h 0m', '19h 25m', '2h 55m', '2h 45m', '23h 15m', '9h 0m', '3h 10m', '6h 25m', '8h 40m', '2h 50m', '12h 20m', '5h 20m', '4h 0m', '9h 45m', '2h 55m', '26h 20m', '2h 15m', '9h 45m', '24h 55m', '11h 55m', '8h 20m', '17h 25m', '2h 50m', '7h 5m', '21h 15m', '5h 0m', '2h 25m', '5h 15m', '15h 10m', '11h 45m', '3h 0m', '4h 55m', '2h 45m', '2h 30m', '9h 45m', '2h 40m', '6h 30m', '5h 30m', '2h 40m', '34h 5m', '15h 25m', '9h 30m', '6h 5m', '2h 40m', '5h 50m', '2h 45m', '27h 20m', '3h 0m', '5h 15m', '16h 0m', '7h 0m', '8h 40m', '9h 0m', '2h 20m', '2h 20m', '6h 20m', '4h 25m', '2h 20m', '11h 5m', '16h 55m', '13h 45m', '25h 45m', '13h 55m', '5h 15m', '19h 15m', '7h 30m', '9h 0m', '24h 0m', '18h 10m', '2h 55m', '1h 30m', '21h 20m', '6h 15m', '14h 30m', '1h 20m', '12h 55m', '2h 25m', '22h 30m', '22h 55m', '5h 25m', '1h 25m', '7h 15m', '12h 20m', '20h 10m', '21h 15m', '2h 15m', '10h 30m', '14h 5m', '2h 50m', '16h 25m', '5h 15m', '13h 50m', '2h 15m', '7h 15m', '27h 5m', '27h 35m', '5h 0m', '2h 50m', '2h 50m', '15h 20m', '5h 20m', '10h 10m', '27h 35m', '9h 35m', '28h 10m', '14h 0m', '2h 35m', '2h 55m', '2h 35m', '4h 40m', '2h 30m', '11h 15m', '7h 55m', '8h 50m', '1h 25m', '15h 40m', '2h 35m', '2h 55m', '13h 25m', '4h 35m', '18h 30m', '2h 15m', '38h 15m', '3h 5m', '25h 50m', '3h 10m', '2h 50m', '11h 30m', '6h 35m', '27h 35m', '2h 35m', '7h 30m', '3h 15m', '9h 35m', '12h 30m', '11h 20m', '3h 0m', '2h 35m', '1h 30m', '26h 10m', '4h 55m', '2h 45m', '8h 40m', '7h 5m', '2h 45m', '24h 50m', '2h 20m', '11h 0m', '9h 0m', '2h 55m', '3h 5m', '2h 35m', '13h 0m', '1h 25m', '7h 35m', '2h 40m', '12h 55m', '29h 20m', '5h 0m', '8h 40m', '3h 0m', '3h 0m', '2h 45m', '12h 10m', '2h 20m', '7h 55m', '29h 35m', '26h 55m', '12h 45m', '7h 35m', '2h 30m', '11h 45m', '23h 40m', '13h 50m', '12h 50m', '9h 50m', '2h 30m', '21h 55m', '26h 10m', '2h 55m', '20h 15m', '20h 10m', '10h 55m', '2h 30m', '21h 10m', '2h 35m', '20h 40m', '2h 50m', '6h 30m', '30h 0m', '13h 10m', '2h 55m', '18h 0m', '8h 0m', '8h 45m', '12h 30m', '13h 20m', '6h 10m', '7h 30m', '19h 15m', '2h 35m', '12h 0m', '3h 0m', '2h 50m', '1h 25m', '23h 5m', '2h 50m', '22h 5m', '2h 15m', '5h 45m', '2h 50m', '9h 30m', '8h 55m', '17h 45m', '2h 50m', '21h 45m', '12h 35m', '1h 30m', '2h 15m', '3h 55m', '2h 45m', '7h 30m', '17h 20m', '1h 30m', '1h 30m', '30h 30m', '5h 0m', '11h 15m', '2h 50m', '19h 5m', '6h 35m', '7h 30m', '2h 15m', '2h 45m', '12h 45m', '2h 50m', '26h 35m', '12h 55m', '1h 30m', '8h 40m', '14h 0m', '23h 30m', '29h 55m', '22h 10m', '4h 50m', '2h 45m', '13h 30m', '13h 20m', '2h 20m', '11h 55m', '5h 10m', '11h 45m', '13h 50m', '3h 0m', '6h 10m', '2h 20m', '10h 45m', '2h 15m', '2h 55m', '1h 30m', '7h 35m', '26h 35m', '4h 45m', '21h 25m', '8h 35m', '8h 30m', '2h 15m', '12h 40m', '8h 25m', '25h 40m', '2h 45m', '29h 20m', '2h 40m', '2h 50m', '2h 20m', '7h 15m', '20h 15m', '11h 45m', '2h 35m', '13h 30m', '1h 30m', '24h 35m', '20h 35m', '2h 50m', '4h 35m', '2h 20m', '11h 45m', '1h 30m', '12h 50m', '24h 30m', '11h 30m', '4h 0m', '11h 0m', '5h 25m', '2h 35m', '5h 10m', '10h 10m', '26h 55m', '7h 15m', '8h 10m', '2h 55m', '5h 15m', '2h 20m', '1h 25m', '4h 50m', '2h 20m', '2h 20m', '13h 15m', '19h 10m', '22h 40m', '14h 50m', '15h 10m', '7h 5m', '1h 25m', '2h 55m', '8h 0m', '2h 45m', '14h 55m', '1h 30m', '16h 15m', '2h 50m', '5h 0m', '22h 15m', '5h 30m', '8h 35m', '15h 25m', '21h 0m', '13h 30m', '2h 50m', '6h 45m', '1h 30m', '8h 40m', '1h 30m', '2h 50m', '2h 35m', '16h 5m', '23h 50m', '27h 5m', '16h 15m', '15h 25m', '2h 50m', '8h 35m', '13h 50m', '2h 40m', '2h 25m', '3h 10m', '2h 55m', '28h 40m', '2h 50m', '2h 35m', '9h 40m', '16h 40m', '6h 20m', '27h 0m', '14h 35m', '12h 10m', '7h 35m', '2h 20m', '19h 10m', '20h 0m', '3h 0m', '5h 10m', '2h 40m', '29h 35m', '4h 55m', '3h 0m', '12h 30m', '12h 35m', '26h 20m', '13h 15m', '2h 50m', '12h 45m', '16h 20m', '2h 40m', '8h 15m', '12h 0m', '2h 50m', '11h 0m', '2h 20m', '13h 50m', '8h 10m', '12h 10m', '2h 40m', '2h 45m', '2h 50m', '24h 0m', '3h 0m', '12h 35m', '25h 50m', '2h 55m', '17h 5m', '29h 20m', '8h 55m', '3h 5m', '9h 0m', '10h 25m', '16h 45m', '2h 45m', '26h 20m', '13h 15m', '10h 30m', '7h 35m', '11h 0m', '2h 50m', '25h 45m', '6h 25m', '1h 25m', '20h 10m', '11h 55m', '2h 50m', '5h 0m', '27h 0m', '2h 50m', '1h 15m', '10h 15m', '24h 50m', '2h 50m', '20h 0m', '5h 30m', '2h 45m', '6h 55m', '2h 45m', '5h 15m', '6h 15m', '2h 50m', '19h 25m', '2h 55m', '11h 25m', '14h 5m', '2h 45m', '3h 15m', '14h 20m', '12h 30m', '5h 20m', '26h 20m', '3h 5m', '1h 30m', '7h 5m', '6h 10m', '8h 0m', '12h 5m', '12h 55m', '9h 35m', '15h 10m', '11h 40m', '2h 55m', '4h 30m', '2h 40m', '2h 30m', '24h 10m', '28h 20m', '1h 25m', '10h 10m', '11h 30m', '2h 50m', '13h 45m', '6h 25m', '12h 55m', '4h 25m', '13h 30m', '24h 5m', '16h 5m', '8h 20m', '3h 40m', '9h 30m', '28h 15m', '13h 20m', '17h 50m', '20h 20m', '28h 5m', '15h 25m', '12h 5m', '10h 20m', '12h 25m', '7h 35m', '2h 50m', '4h 35m', '11h 15m', '2h 35m', '26h 0m', '2h 25m', '2h 35m', '14h 15m', '2h 35m', '22h 5m', '6h 35m', '8h 30m', '18h 45m', '35h 15m', '2h 15m', '2h 30m', '2h 20m', '2h 30m', '7h 35m', '35h 35m', '26h 30m', '11h 30m', '26h 40m', '3h 0m', '1h 30m', '2h 55m', '14h 15m', '16h 55m', '12h 20m', '29h 35m', '20h 20m', '8h 25m', '13h 50m', '10h 0m', '19h 25m', '28h 0m', '2h 50m', '17h 20m', '2h 45m', '2h 55m', '13h 25m', '12h 55m', '9h 45m', '21h 25m', '15h 40m', '2h 20m', '14h 25m', '2h 50m', '6h 35m', '22h 10m', '14h 25m', '2h 30m', '23h 35m', '13h 5m', '1h 30m', '5h 5m', '1h 20m', '22h 55m', '1h 30m', '2h 35m', '37h 20m', '2h 50m', '2h 50m', '36h 10m', '9h 15m', '1h 25m', '5h 5m', '2h 15m', '15h 10m', '25h 55m', '5h 40m', '7h 30m', '17h 45m', '2h 20m', '8h 15m', '3h 40m', '5h 55m', '2h 30m', '17h 30m', '13h 50m', '2h 15m', '21h 35m', '9h 30m', '8h 40m', '10h 25m', '35h 5m', '14h 15m', '3h 0m', '25h 50m', '2h 30m', '8h 40m', '10h 0m', '11h 30m', '7h 30m', '7h 0m', '2h 15m', '7h 5m', '8h 0m', '5h 25m', '23h 35m', '6h 35m', '3h 0m', '19h 5m', '2h 35m', '4h 30m', '1h 30m', '2h 40m', '26h 40m', '12h 25m', '14h 25m', '2h 50m', '3h 5m', '1h 30m', '8h 0m', '19h 45m', '2h 45m', '9h 20m', '3h 0m', '26h 55m', '21h 15m', '2h 50m', '2h 50m', '16h 55m', '1h 30m', '25h 45m', '1h 30m', '9h 15m', '11h 5m', '6h 20m', '28h 50m', '27h 55m', '12h 15m', '22h 55m', '2h 35m', '2h 50m', '1h 20m', '26h 0m', '8h 45m', '18h 10m', '14h 55m', '7h 30m', '19h 10m', '7h 15m', '11h 40m', '8h 40m', '11h 0m', '14h 25m', '4h 35m', '7h 40m', '11h 45m', '3h 0m', '1h 30m', '10h 30m', '2h 35m', '5h 35m', '21h 15m', '11h 45m', '20h 0m', '5h 45m', '1h 30m', '2h 35m', '47h 0m', '3h 15m', '21h 15m', '13h 20m', '2h 45m', '2h 55m', '5h 20m', '21h 20m', '5h 30m', '3h 0m', '2h 35m', '12h 35m', '26h 20m', '2h 55m', '6h 35m', '2h 30m', '23h 10m', '12h 55m', '26h 30m', '10h 35m', '1h 35m', '17h 5m', '1h 30m', '2h 45m', '28h 40m', '2h 15m', '1h 30m', '2h 40m', '7h 35m', '14h 25m', '25h 20m', '9h 50m', '16h 10m', '2h 40m', '5h 30m', '16h 45m', '2h 50m', '11h 30m', '9h 45m', '12h 55m', '10h 0m', '10h 55m', '7h 40m', '15h 0m', '2h 20m', '1h 30m', '38h 20m', '2h 45m', '21h 5m', '2h 55m', '2h 50m', '25h 55m', '2h 50m', '1h 20m', '16h 25m', '2h 55m', '13h 0m', '7h 20m', '2h 50m', '5h 15m', '17h 25m', '11h 45m', '22h 5m', '3h 10m', '2h 45m', '5h 20m', '9h 50m', '7h 5m', '20h 45m', '14h 0m', '6h 0m', '4h 30m', '14h 50m', '27h 35m', '24h 0m', '17h 5m', '16h 50m', '2h 50m', '7h 20m', '6h 55m', '2h 40m', '26h 55m', '14h 10m', '2h 20m', '11h 45m', '1h 25m', '15h 30m', '19h 55m', '11h 0m', '2h 50m', '2h 15m', '2h 45m', '10h 0m', '2h 15m', '6h 20m', '7h 15m', '5h 30m', '2h 25m', '1h 30m', '13h 20m', '2h 45m', '4h 30m', '5h 45m', '23h 20m', '16h 40m', '5h 0m', '14h 25m', '13h 20m', '12h 30m', '5h 25m', '27h 35m', '2h 35m', '17h 40m', '21h 40m', '13h 20m', '2h 30m', '9h 35m', '2h 55m', '11h 35m', '2h 35m', '1h 25m', '4h 55m', '7h 30m', '16h 0m', '24h 10m', '3h 15m', '12h 35m', '12h 5m', '12h 10m', '7h 45m', '30h 30m', '7h 15m', '14h 25m', '2h 30m', '6h 25m', '15h 0m', '18h 20m', '19h 55m', '2h 55m', '13h 15m', '8h 45m', '1h 30m', '14h 35m', '2h 50m', '4h 30m', '13h 25m', '12h 45m', '2h 30m', '24h 10m', '5h 25m', '16h 45m', '26h 25m', '5h 20m', '10h 25m', '2h 30m', '1h 30m', '2h 45m', '13h 30m', '6h 40m', '13h 25m', '8h 10m', '15h 30m', '10h 0m', '2h 15m', '3h 0m', '6h 35m', '27h 20m', '5h 0m', '2h 15m', '2h 50m', '7h 5m', '14h 0m', '5h 45m', '2h 40m', '9h 50m', '1h 25m', '5h 20m', '15h 30m', '21h 20m', '7h 15m', '5h 50m', '14h 35m', '7h 55m', '6h 35m', '25h 45m', '10h 30m', '30h 55m', '22h 55m', '15h 10m', '25h 20m', '8h 5m', '15h 40m', '11h 50m', '2h 40m', '21h 35m', '5h 20m', '2h 55m', '2h 50m', '14h 20m', '11h 0m', '12h 40m', '24h 40m', '2h 45m', '10h 15m', '11h 0m', '7h 35m', '12h 30m', '2h 15m', '16h 15m', '3h 0m', '22h 0m', '14h 25m', '26h 35m', '3h 10m', '6h 30m', '2h 50m', '7h 30m', '22h 55m', '5h 30m', '5h 55m', '8h 10m', '6h 40m', '8h 45m', '2h 45m', '8h 40m', '2h 35m', '2h 15m', '26h 55m', '2h 45m', '16h 0m', '16h 50m', '5h 5m', '10h 35m', '12h 0m', '1h 15m', '11h 45m', '21h 10m', '2h 30m', '2h 25m', '2h 50m', '27h 20m', '10h 30m', '2h 55m', '3h 5m', '7h 30m', '29h 50m', '1h 20m', '12h 25m', '11h 50m', '15h 55m', '8h 10m', '35h 5m', '21h 35m', '4h 50m', '20h 20m', '1h 15m', '5h 10m', '3h 0m', '2h 55m', '7h 5m', '4h 30m', '1h 30m', '7h 20m', '1h 30m', '2h 45m', '18h 20m', '2h 45m', '2h 20m', '1h 30m', '23h 40m', '2h 45m', '2h 50m', '8h 45m', '7h 55m', '6h 35m', '23h 35m', '21h 10m', '2h 50m', '14h 35m', '37h 20m', '6h 15m', '26h 0m', '14h 5m', '7h 30m', '16h 45m', '7h 40m', '28h 25m', '5h 0m', '8h 55m', '23h 20m', '14h 15m', '4h 50m', '2h 45m', '22h 55m', '5h 45m', '29h 35m', '2h 35m', '2h 50m', '17h 15m', '2h 35m', '8h 30m', '10h 0m', '8h 15m', '6h 10m', '13h 0m', '3h 15m', '19h 25m', '8h 0m', '2h 35m', '2h 30m', '6h 20m', '2h 15m', '2h 25m', '19h 55m', '3h 0m', '4h 30m', '12h 30m', '7h 45m', '2h 35m', '25h 35m', '6h 10m', '2h 30m', '9h 20m', '18h 45m', '5h 15m', '7h 45m', '14h 30m', '2h 15m', '19h 55m', '5h 25m', '16h 50m', '2h 50m', '4h 35m', '12h 25m', '9h 30m', '2h 35m', '2h 55m', '1h 25m', '2h 45m', '2h 50m', '5h 5m', '10h 15m', '8h 30m', '2h 30m', '4h 55m', '8h 25m', '4h 35m', '3h 5m', '10h 25m', '1h 15m', '13h 15m', '22h 55m', '5h 55m', '2h 55m', '2h 45m', '2h 55m', '2h 30m', '26h 30m', '25h 55m', '1h 20m', '2h 40m', '1h 35m', '2h 20m', '2h 40m', '4h 35m', '3h 5m', '15h 10m', '2h 55m', '9h 5m', '15h 25m', '4h 40m', '9h 35m', '4h 35m', '30h 55m', '2h 55m', '37h 20m', '26h 0m', '20h 10m', '25h 20m', '11h 5m', '23h 50m', '10h 0m', '2h 35m', '20h 35m', '14h 50m', '2h 20m', '9h 50m', '7h 30m', '7h 15m', '22h 45m', '2h 50m', '20h 10m', '2h 50m', '22h 55m', '25h 25m', '5h 5m', '2h 45m', '12h 0m', '11h 5m', '21h 50m', '9h 0m', '13h 30m', '8h 25m', '8h 30m', '10h 0m', '1h 30m', '2h 20m', '1h 30m', '3h 5m', '23h 45m', '1h 30m', '6h 5m', '9h 20m', '20h 10m', '19h 45m', '13h 55m', '2h 15m', '7h 20m', '3h 10m', '3h 15m', '2h 50m', '7h 15m', '2h 55m', '7h 35m', '2h 55m', '28h 20m', '8h 40m', '9h 5m', '15h 20m', '37h 20m', '2h 55m', '11h 45m', '2h 50m', '15h 10m', '10h 15m', '16h 40m', '2h 20m', '2h 45m', '9h 5m', '2h 20m', '23h 50m', '8h 0m', '33h 15m', '14h 45m', '27h 20m', '2h 25m', '1h 30m', '7h 5m', '1h 30m', '4h 50m', '6h 35m', '10h 15m', '11h 30m', '21h 15m', '16h 15m', '25h 50m', '24h 30m', '2h 20m', '15h 10m', '14h 5m', '12h 35m', '10h 20m', '13h 20m', '2h 45m', '3h 0m', '2h 50m', '21h 40m', '2h 40m', '2h 50m', '9h 10m', '8h 25m', '28h 25m', '8h 10m', '12h 30m', '2h 50m', '1h 30m', '13h 30m', '2h 20m', '11h 40m', '6h 35m', '2h 50m', '5h 15m', '2h 15m', '11h 0m', '37h 25m', '2h 50m', '21h 10m', '2h 45m', '6h 25m', '15h 10m', '7h 45m', '4h 55m', '5h 15m', '3h 10m', '22h 35m', '30h 15m', '5h 15m', '2h 35m', '21h 40m', '28h 25m', '12h 45m', '1h 30m', '14h 30m', '2h 35m', '25h 55m', '2h 35m', '9h 15m', '3h 35m', '9h 10m', '7h 20m', '14h 25m', '12h 30m', '27h 5m', '1h 30m', '13h 30m', '13h 20m', '12h 55m', '23h 45m', '27h 40m', '4h 35m', '3h 0m', '9h 15m', '7h 20m', '1h 30m', '22h 0m', '2h 45m', '22h 55m', '4h 50m', '12h 45m', '8h 40m', '2h 45m', '16h 55m', '9h 10m', '8h 30m', '20h 25m', '8h 25m', '7h 15m', '9h 50m', '16h 10m', '13h 55m', '8h 0m', '21h 15m', '3h 10m', '26h 35m', '28h 50m', '2h 45m', '1h 30m', '27h 0m', '4h 35m', '23h 40m', '2h 45m', '2h 30m', '3h 0m', '3h 0m', '2h 50m', '2h 50m', '5h 35m', '3h 0m', '20h 10m', '19h 5m', '28h 20m', '29h 55m', '25h 45m', '2h 15m', '2h 55m', '18h 10m', '8h 55m', '19h 0m', '2h 50m', '2h 50m', '2h 45m', '15h 10m', '29h 20m', '1h 30m', '2h 15m', '15h 40m', '24h 40m', '13h 55m', '2h 50m', '23h 20m', '9h 0m', '2h 50m', '6h 10m', '15h 0m', '15h 5m', '1h 30m', '2h 30m', '12h 20m', '7h 40m', '14h 25m', '38h 15m', '12h 10m', '2h 50m', '9h 35m', '2h 40m', '6h 10m', '6h 30m', '25h 50m', '30h 25m', '3h 0m', '13h 50m', '17h 30m', '2h 30m', '2h 35m', '2h 20m', '13h 15m', '9h 50m', '2h 55m', '12h 25m', '24h 35m', '5h 30m', '15h 10m', '23h 40m', '2h 35m', '10h 0m', '13h 50m', '14h 35m', '7h 35m', '13h 30m', '13h 30m', '8h 15m', '12h 40m', '14h 55m', '27h 35m', '14h 35m', '9h 30m', '15h 10m', '2h 35m', '3h 5m', '4h 55m', '4h 50m', '2h 55m', '1h 30m', '10h 30m', '12h 30m', '6h 0m', '2h 50m', '2h 55m', '7h 35m', '2h 55m', '2h 35m', '29h 35m', '7h 30m', '2h 35m', '3h 15m', '16h 20m', '18h 50m', '28h 20m', '23h 15m', '22h 5m', '2h 35m', '1h 30m', '2h 35m', '4h 45m', '28h 50m', '27h 45m', '17h 5m', '6h 20m', '16h 5m', '9h 10m', '22h 45m', '2h 35m', '5h 0m', '15h 15m', '13h 20m', '17h 5m', '17h 45m', '5h 25m', '5h 20m', '14h 25m', '2h 20m', '15h 55m', '22h 55m', '2h 55m', '1h 30m', '15h 30m', '3h 0m', '26h 0m', '2h 50m', '6h 55m', '23h 35m', '2h 30m', '10h 10m', '11h 30m', '27h 0m', '6h 35m', '2h 50m', '8h 20m', '3h 5m', '20h 20m', '2h 20m', '2h 45m', '7h 35m', '2h 40m', '12h 55m', '11h 15m', '2h 30m', '2h 50m', '4h 50m', '18h 20m', '8h 55m', '13h 0m', '10h 40m', '13h 15m', '13h 20m', '2h 35m', '2h 55m', '12h 30m', '7h 5m', '6h 10m', '2h 45m', '2h 50m', '14h 45m', '5h 45m', '2h 15m', '8h 55m', '1h 25m', '33h 15m', '6h 45m', '23h 30m', '2h 45m', '26h 15m', '7h 30m', '1h 30m', '36h 25m', '28h 5m', '12h 20m', '6h 25m', '17h 5m', '1h 30m', '10h 10m', '8h 40m', '13h 30m', '17h 5m', '5h 15m', '5h 0m', '14h 35m', '38h 15m', '11h 15m', '7h 20m', '21h 40m', '2h 40m', '3h 15m', '13h 30m', '2h 50m', '8h 40m', '6h 35m', '23h 45m', '5h 40m', '2h 55m', '24h 35m', '8h 40m', '2h 55m', '2h 50m', '25h 30m', '8h 15m', '12h 20m', '14h 5m', '8h 40m', '2h 45m', '3h 15m', '24h 35m', '16h 55m', '14h 35m', '2h 50m', '14h 5m', '9h 45m', '11h 0m', '10h 20m', '2h 20m', '23h 40m', '12h 15m', '5h 35m', '27h 35m', '3h 15m', '23h 5m', '9h 30m', '1h 25m', '2h 55m', '17h 15m', '22h 30m', '11h 45m', '2h 45m', '28h 50m', '29h 20m', '12h 0m', '1h 25m', '26h 50m', '1h 30m', '2h 50m', '2h 30m', '16h 5m', '10h 55m', '15h 45m', '14h 25m', '23h 40m', '19h 40m', '10h 25m', '2h 35m', '24h 50m', '14h 0m', '9h 5m', '20h 0m', '3h 0m', '22h 25m', '2h 50m', '9h 5m', '19h 35m', '26h 35m', '20h 10m', '1h 30m', '2h 45m', '26h 55m', '15h 10m', '2h 25m', '13h 0m', '10h 30m', '2h 45m', '3h 15m', '22h 35m', '2h 55m', '24h 45m', '11h 55m', '23h 0m', '26h 55m', '7h 40m', '2h 50m', '8h 20m', '9h 20m', '2h 30m', '10h 10m', '9h 0m', '7h 30m', '7h 40m', '23h 10m', '5h 30m', '2h 45m', '2h 55m', '16h 15m', '4h 30m', '6h 15m', '7h 5m', '3h 0m', '2h 20m', '24h 55m', '6h 10m', '12h 55m', '11h 25m', '13h 30m', '2h 50m', '16h 45m', '15h 20m', '6h 15m', '3h 0m', '12h 15m', '17h 5m', '2h 35m', '22h 10m', '9h 30m', '2h 55m', '9h 50m', '2h 30m', '23h 15m', '13h 50m', '15h 10m', '13h 0m', '15h 0m', '6h 35m', '22h 30m', '14h 40m', '28h 50m', '24h 0m', '11h 45m', '15h 40m', '13h 45m', '1h 25m', '2h 45m', '24h 45m', '15h 30m', '1h 30m', '1h 30m', '7h 40m', '4h 30m', '6h 40m', '26h 55m', '2h 50m', '20h 15m', '25h 45m', '2h 45m', '29h 55m', '10h 15m', '2h 45m', '2h 55m', '3h 0m', '3h 0m', '10h 35m', '8h 40m', '7h 45m', '14h 35m', '4h 30m', '11h 30m', '19h 40m', '7h 15m', '9h 30m', '29h 20m', '10h 25m', '24h 35m', '27h 0m', '2h 35m', '2h 20m', '7h 15m', '14h 0m', '2h 45m', '25h 55m', '1h 25m', '23h 30m', '2h 50m', '13h 30m', '28h 50m', '2h 25m', '26h 35m', '8h 0m', '3h 0m', '1h 30m', '14h 55m', '1h 30m', '8h 0m', '1h 30m', '3h 0m', '12h 0m', '11h 5m', '26h 10m', '7h 55m', '8h 15m', '3h 0m', '2h 55m', '12h 15m', '4h 40m', '13h 45m', '15h 30m', '2h 50m', '6h 45m', '6h 10m', '12h 5m', '10h 30m', '21h 25m', '26h 40m', '21h 35m', '3h 10m', '11h 20m', '9h 30m', '16h 45m', '12h 30m', '9h 35m', '25h 0m', '10h 15m', '8h 40m', '8h 40m', '12h 30m', '1h 30m', '24h 55m', '19h 45m', '11h 5m', '2h 30m', '26h 50m', '7h 35m', '10h 30m', '24h 40m', '22h 30m', '11h 35m', '25h 55m', '5h 20m', '15h 25m', '21h 15m', '25h 30m', '2h 20m', '6h 35m', '2h 50m', '7h 35m', '1h 30m', '11h 0m', '3h 0m', '20h 25m', '2h 35m', '2h 50m', '18h 45m', '12h 35m', '1h 20m', '24h 35m', '1h 20m', '7h 15m', '16h 45m', '7h 25m', '26h 45m', '11h 45m', '21h 40m', '28h 0m', '8h 0m', '10h 15m', '15h 10m', '1h 30m', '2h 55m', '20h 20m', '14h 0m', '7h 35m', '2h 30m', '14h 35m', '8h 40m', '9h 50m', '11h 25m', '2h 55m', '3h 0m', '20h 0m', '28h 20m', '3h 15m', '8h 25m', '1h 15m', '12h 35m', '2h 50m', '6h 35m', '28h 50m', '1h 30m', '20h 0m', '23h 50m', '2h 50m', '13h 30m', '22h 55m', '11h 0m', '22h 45m', '21h 15m', '14h 50m', '11h 0m', '5h 5m', '1h 30m', '2h 20m', '1h 30m', '9h 0m', '3h 15m', '2h 45m', '6h 35m', '25h 25m', '7h 40m', '2h 30m', '13h 0m', '12h 0m', '7h 15m', '2h 50m', '2h 45m', '2h 40m', '6h 55m', '6h 5m', '19h 55m', '7h 0m', '23h 45m', '4h 50m', '5h 30m', '9h 5m', '24h 55m', '23h 50m', '6h 10m', '24h 15m', '2h 40m', '2h 25m', '3h 15m', '5h 30m', '1h 30m', '3h 0m', '13h 30m', '10h 55m', '12h 0m', '14h 0m', '24h 50m', '12h 40m', '2h 45m', '1h 30m', '4h 55m', '30h 55m', '2h 55m', '1h 30m', '2h 50m', '7h 35m', '3h 10m', '2h 45m', '24h 15m', '4h 30m', '9h 30m', '22h 5m', '29h 20m', '7h 30m', '5h 0m', '3h 0m', '1h 25m', '2h 40m', '2h 35m', '4h 45m', '7h 30m', '1h 25m', '23h 10m', '16h 50m', '1h 25m', '2h 45m', '3h 0m', '3h 0m', '9h 0m', '23h 10m', '38h 0m', '9h 50m', '6h 10m', '9h 30m', '12h 30m', '3h 15m', '4h 15m', '23h 40m', '3h 0m', '13h 30m', '2h 20m', '25h 10m', '2h 30m', '5h 5m', '5h 40m', '5h 50m', '9h 0m', '2h 25m', '7h 10m', '18h 15m', '1h 30m', '24h 50m', '2h 45m', '4h 25m', '11h 45m', '7h 30m', '6h 15m', '1h 30m', '1h 25m', '2h 50m', '28h 20m', '2h 20m', '13h 55m', '5h 5m', '10h 30m', '12h 20m', '1h 25m', '16h 10m', '2h 45m', '18h 45m', '4h 20m', '5h 15m', '2h 45m', '9h 30m', '1h 30m', '10h 35m', '10h 45m', '9h 5m', '2h 20m', '8h 0m', '20h 40m', '3h 0m', '13h 45m', '3h 5m', '5h 15m', '13h 30m', '8h 25m', '19h 25m', '13h 30m', '14h 35m', '20h 25m', '12h 10m', '15h 25m', '7h 50m', '15h 15m', '2h 55m', '6h 50m', '24h 10m', '23h 55m', '23h 35m', '14h 0m', '28h 50m', '3h 10m', '27h 35m', '7h 30m', '4h 55m', '11h 35m', '15h 10m', '23h 55m', '18h 20m', '22h 5m', '1h 30m', '22h 15m', '2h 55m', '24h 10m', '22h 0m', '7h 15m', '5h 15m', '23h 50m', '5h 20m', '14h 25m', '8h 0m', '17h 20m', '2h 55m', '2h 50m', '13h 55m', '10h 30m', '2h 50m', '2h 50m', '2h 50m', '13h 25m', '2h 45m', '12h 25m', '8h 15m', '27h 45m', '17h 55m', '2h 55m', '3h 40m', '15h 15m', '2h 45m', '12h 5m', '22h 0m', '12h 15m', '2h 20m', '10h 40m', '23h 25m', '6h 10m', '3h 0m', '7h 35m', '28h 0m', '5h 25m', '7h 15m', '12h 30m', '9h 0m', '15h 25m', '2h 35m', '8h 25m', '7h 15m', '15h 20m', '9h 50m', '1h 30m', '16h 45m', '2h 45m', '15h 20m', '2h 35m', '14h 30m', '2h 50m', '9h 10m', '18h 20m', '22h 55m', '1h 30m', '2h 45m', '15h 30m', '15h 20m', '3h 0m', '7h 40m', '10h 35m', '10h 45m', '10h 15m', '17h 10m', '12h 30m', '8h 0m', '11h 5m', '2h 55m', '1h 30m', '10h 55m', '2h 30m', '24h 20m', '2h 55m', '1h 30m', '13h 15m', '4h 40m', '13h 0m', '16h 0m', '17h 25m', '12h 10m', '9h 30m', '10h 0m', '1h 20m', '8h 0m', '5h 55m', '23h 40m', '24h 55m', '7h 30m', '26h 55m', '12h 10m', '6h 40m', '14h 20m', '5h 35m', '1h 30m', '2h 50m', '18h 30m', '9h 20m', '18h 10m', '2h 55m', '2h 50m', '8h 50m', '13h 20m', '29h 50m', '23h 50m', '5h 55m', '10h 25m', '10h 40m', '2h 50m', '7h 20m', '12h 15m', '9h 30m', '2h 35m', '13h 20m', '9h 30m', '10h 0m', '10h 30m', '28h 30m', '5h 35m', '3h 5m', '24h 40m', '13h 30m', '5h 50m', '12h 35m', '19h 40m', '27h 35m', '4h 35m', '10h 25m', '2h 40m', '1h 30m', '6h 30m', '2h 35m', '12h 10m', '2h 35m', '11h 5m', '9h 35m', '2h 35m', '1h 30m', '11h 0m', '6h 35m', '3h 15m', '26h 10m', '7h 40m', '27h 10m', '12h 30m', '12h 45m', '9h 40m', '26h 10m', '17h 35m', '24h 40m', '13h 10m', '15h 20m', '2h 35m', '11h 5m', '19h 20m', '2h 50m', '12h 0m', '23h 0m', '1h 30m', '8h 0m', '2h 50m', '4h 50m', '2h 50m', '2h 35m', '3h 0m', '2h 50m', '2h 20m', '17h 5m', '2h 50m', '1h 25m', '9h 50m', '1h 30m', '13h 20m', '15h 40m', '27h 0m', '3h 0m', '23h 55m', '9h 50m', '13h 20m', '8h 45m', '4h 55m', '7h 45m', '11h 5m', '2h 35m', '1h 30m', '12h 0m', '2h 50m', '15h 25m', '13h 15m', '1h 30m', '22h 5m', '11h 45m', '7h 30m', '15h 35m', '11h 0m', '9h 15m', '2h 30m', '22h 0m', '2h 40m', '14h 30m', '2h 50m', '2h 45m', '8h 0m', '2h 55m', '2h 35m', '25h 30m', '2h 35m', '7h 30m', '1h 30m', '2h 15m', '1h 30m', '7h 20m', '23h 35m', '9h 35m', '22h 55m', '3h 0m', '5h 0m', '27h 0m', '2h 35m', '20h 20m', '14h 55m', '19h 40m', '27h 20m', '5h 0m', '23h 25m', '14h 5m', '5h 35m', '1h 30m', '1h 25m', '17h 20m', '2h 30m', '25h 0m', '20h 25m', '2h 55m', '1h 25m', '7h 30m', '22h 55m', '9h 10m', '14h 45m', '2h 30m', '12h 25m', '2h 50m', '10h 50m', '17h 15m', '2h 20m', '5h 30m', '11h 30m', '2h 55m', '10h 40m', '14h 20m', '2h 50m', '1h 30m', '10h 0m', '2h 50m', '27h 20m', '23h 50m', '14h 35m', '17h 35m', '2h 45m', '2h 30m', '10h 25m', '8h 55m', '6h 5m', '13h 15m', '22h 30m', '2h 35m', '25h 30m', '2h 55m', '11h 55m', '2h 40m', '22h 30m', '2h 30m', '7h 40m', '2h 30m', '27h 5m', '8h 0m', '18h 20m', '6h 35m', '2h 55m', '11h 15m', '9h 25m', '26h 20m', '26h 55m', '24h 55m', '1h 30m', '10h 55m', '10h 55m', '2h 45m', '2h 25m', '8h 0m', '9h 35m', '29h 20m', '5h 30m', '22h 0m', '2h 15m', '12h 40m', '37h 25m', '23h 40m', '22h 15m', '17h 30m', '3h 0m', '10h 0m', '12h 10m', '9h 10m', '3h 15m', '12h 5m', '9h 35m', '14h 20m', '19h 15m', '15h 15m', '15h 20m', '21h 30m', '2h 30m', '2h 15m', '34h 25m', '1h 35m', '12h 15m', '12h 10m', '16h 55m', '22h 5m', '25h 45m', '7h 20m', '18h 35m', '12h 20m', '2h 45m', '15h 10m', '11h 25m', '26h 50m', '18h 10m', '7h 35m', '2h 25m', '21h 20m', '23h 30m', '2h 50m', '20h 0m', '2h 35m', '5h 35m', '12h 20m', '23h 30m', '16h 0m', '25h 50m', '2h 35m', '11h 30m', '3h 10m', '12h 40m', '2h 55m', '2h 45m', '26h 55m', '2h 50m', '23h 15m', '4h 55m', '29h 40m', '5h 20m', '3h 0m', '26h 20m', '13h 20m', '13h 30m', '2h 25m', '2h 35m', '2h 40m', '21h 10m', '6h 15m', '8h 5m', '26h 10m', '12h 45m', '2h 55m', '29h 35m', '2h 45m', '26h 5m', '2h 45m', '13h 0m', '2h 45m', '14h 25m', '2h 35m', '7h 30m', '2h 30m', '9h 25m', '2h 40m', '9h 10m', '8h 15m', '10h 50m', '11h 25m', '2h 55m', '29h 20m', '37h 20m', '10h 55m', '8h 10m', '20h 0m', '2h 45m', '29h 5m', '12h 5m', '9h 50m', '2h 50m', '2h 20m', '2h 50m', '9h 10m', '15h 45m', '38h 15m', '2h 50m', '12h 30m', '2h 45m', '22h 55m', '24h 0m', '27h 0m', '23h 50m', '23h 15m', '2h 35m', '14h 50m', '16h 50m', '27h 25m', '2h 35m', '20h 10m', '2h 50m', '5h 35m', '18h 20m', '7h 0m', '5h 30m', '18h 0m', '2h 20m', '13h 15m', '22h 55m', '27h 20m', '21h 35m', '27h 35m', '1h 25m', '21h 55m', '2h 50m', '2h 20m', '15h 55m', '12h 20m', '8h 0m', '11h 15m', '3h 15m', '16h 5m', '26h 20m', '2h 50m', '6h 5m', '3h 40m', '7h 55m', '1h 30m', '5h 35m', '28h 20m', '19h 5m', '13h 50m', '25h 40m', '27h 40m', '2h 55m', '21h 10m', '5h 25m', '2h 20m', '7h 40m', '8h 25m', '2h 30m', '1h 20m', '19h 25m', '2h 50m', '3h 0m', '6h 35m', '16h 35m', '21h 15m', '2h 55m', '38h 0m', '11h 15m', '22h 5m', '6h 30m', '1h 30m', '20h 45m', '1h 30m', '6h 40m', '5h 5m', '7h 5m', '11h 55m', '1h 30m', '14h 50m', '8h 40m', '27h 10m', '2h 20m', '2h 55m', '9h 50m', '2h 45m', '14h 5m', '12h 0m', '9h 30m', '2h 50m', '11h 45m', '6h 0m', '11h 55m', '12h 10m', '2h 50m', '10h 25m', '12h 45m', '21h 5m', '9h 30m', '8h 40m', '9h 15m', '21h 55m', '23h 50m', '9h 0m', '23h 15m', '9h 15m', '5h 35m', '2h 15m', '9h 30m', '8h 40m', '2h 45m', '25h 20m', '2h 50m', '3h 0m', '3h 0m', '2h 45m', '16h 35m', '26h 20m', '16h 15m', '6h 5m', '16h 10m', '2h 25m', '2h 50m', '11h 30m', '2h 50m', '23h 40m', '27h 0m', '3h 15m', '11h 30m', '2h 30m', '2h 45m', '10h 0m', '5h 15m', '23h 5m', '2h 50m', '12h 20m', '9h 45m', '8h 35m', '2h 45m', '1h 30m', '18h 25m', '2h 45m', '2h 30m', '6h 35m', '13h 30m', '11h 5m', '26h 10m', '5h 45m', '7h 35m', '6h 45m', '2h 45m', '12h 40m', '7h 15m', '11h 40m', '2h 15m', '12h 45m', '2h 50m', '1h 25m', '18h 0m', '2h 45m', '12h 55m', '15h 0m', '1h 15m', '24h 40m', '1h 30m', '13h 30m', '2h 55m', '2h 25m', '20h 10m', '12h 10m', '12h 15m', '24h 30m', '8h 30m', '1h 30m', '3h 15m', '2h 35m', '2h 30m', '13h 20m', '15h 35m', '5h 0m', '2h 50m', '2h 35m', '12h 0m', '2h 50m', '14h 20m', '9h 5m', '12h 25m', '25h 0m', '12h 10m', '12h 0m', '12h 5m', '12h 45m', '2h 35m', '2h 25m', '22h 55m', '5h 10m', '9h 45m', '3h 5m', '10h 0m', '10h 20m', '26h 10m', '12h 5m', '23h 10m', '2h 35m', '17h 5m', '2h 50m', '16h 30m', '11h 25m', '10h 0m', '13h 20m', '7h 30m', '16h 5m', '8h 20m', '27h 0m', '8h 25m', '2h 35m', '11h 30m', '2h 55m', '2h 55m', '2h 50m', '25h 50m', '1h 30m', '27h 5m', '24h 40m', '12h 30m', '26h 10m', '3h 5m', '3h 15m', '2h 55m', '21h 15m', '17h 25m', '21h 55m', '25h 20m', '14h 25m', '16h 50m', '3h 15m', '12h 15m', '1h 30m', '3h 0m', '2h 55m', '2h 30m', '24h 45m', '2h 20m', '8h 25m', '14h 50m', '2h 35m', '1h 25m', '2h 35m', '14h 5m', '25h 15m', '20h 20m', '8h 20m', '29h 20m', '9h 45m', '1h 20m', '27h 0m', '15h 40m', '5h 30m', '7h 30m', '2h 35m', '19h 25m', '2h 50m', '14h 35m', '8h 40m', '15h 25m', '28h 20m', '1h 30m', '13h 25m', '23h 30m', '10h 35m', '1h 25m', '18h 30m', '24h 50m', '5h 40m', '1h 30m', '15h 0m', '27h 20m', '12h 40m', '23h 0m', '2h 45m', '2h 45m', '2h 45m', '2h 50m', '6h 30m', '2h 45m', '2h 55m', '23h 55m', '25h 25m', '2h 50m', '14h 30m', '7h 15m', '22h 45m', '26h 55m', '2h 45m', '4h 45m', '10h 20m', '7h 45m', '7h 15m', '22h 30m', '7h 45m', '1h 20m', '2h 35m', '7h 55m', '12h 20m', '13h 0m', '17h 45m', '17h 5m', '2h 40m', '2h 45m', '5h 35m', '5h 40m', '9h 30m', '2h 15m', '17h 5m', '8h 25m', '16h 35m', '15h 10m', '26h 5m', '2h 55m', '5h 30m', '3h 5m', '1h 30m', '11h 10m', '2h 30m', '8h 10m', '24h 55m', '2h 40m', '12h 10m', '21h 35m', '34h 25m', '2h 55m', '14h 55m', '3h 0m', '6h 15m', '23h 30m', '2h 55m', '10h 25m', '2h 50m', '4h 40m', '6h 5m', '2h 25m', '14h 25m', '2h 45m', '27h 40m', '10h 0m', '22h 45m', '14h 20m', '15h 25m', '15h 0m', '16h 5m', '2h 55m', '15h 40m', '21h 15m', '1h 35m', '2h 45m', '6h 0m', '13h 20m', '4h 55m', '2h 40m', '9h 30m', '1h 20m', '3h 0m', '24h 35m', '2h 35m', '12h 10m', '15h 10m', '2h 40m', '1h 30m', '24h 55m', '7h 35m', '18h 45m', '6h 5m', '11h 5m', '9h 40m', '13h 30m', '14h 25m', '6h 25m', '2h 50m', '5h 55m', '14h 25m', '13h 20m', '6h 30m', '22h 35m', '11h 0m', '7h 45m', '2h 50m', '2h 20m', '6h 20m', '2h 30m', '10h 0m', '12h 5m', '2h 40m', '7h 45m', '17h 5m', '8h 40m', '2h 20m', '7h 20m', '18h 0m', '13h 20m', '11h 45m', '2h 40m', '12h 30m', '12h 35m', '3h 0m', '10h 15m', '2h 50m', '7h 55m', '10h 15m', '15h 30m', '3h 5m', '2h 25m', '2h 35m', '11h 30m', '13h 25m', '2h 35m', '14h 30m', '23h 25m', '2h 25m', '5h 30m', '17h 25m', '7h 50m', '26h 50m', '16h 45m', '2h 45m', '28h 5m', '14h 20m', '9h 45m', '2h 20m', '14h 25m', '3h 15m', '3h 0m', '5h 5m', '8h 5m', '10h 0m', '1h 30m', '20h 10m', '14h 25m', '26h 0m', '19h 0m', '18h 25m', '15h 30m', '5h 30m', '9h 30m', '14h 35m', '21h 25m', '9h 25m', '14h 25m', '5h 55m', '1h 30m', '2h 45m', '20h 45m', '13h 30m', '28h 55m', '4h 30m', '29h 5m', '12h 45m', '5h 5m', '18h 20m', '22h 35m', '4h 25m', '9h 40m', '10h 0m', '16h 50m', '5h 40m', '2h 50m', '2h 30m', '11h 30m', '10h 30m', '15h 20m', '9h 50m', '13h 20m', '23h 10m', '2h 20m', '25h 5m', '2h 35m', '2h 55m', '13h 10m', '2h 20m', '8h 35m', '14h 20m', '8h 0m', '2h 50m', '29h 10m', '1h 25m', '2h 55m', '5h 25m', '2h 50m', '2h 50m', '2h 20m', '8h 55m', '5h 15m', '11h 25m', '2h 55m', '2h 50m', '8h 30m', '3h 40m', '23h 45m', '13h 30m', '1h 30m', '26h 35m', '22h 55m', '34h 0m', '8h 0m', '14h 25m', '15h 25m', '2h 35m', '9h 25m', '2h 35m', '2h 50m', '2h 50m', '28h 25m', '1h 30m', '25h 5m', '14h 30m', '22h 30m', '7h 5m', '1h 30m', '18h 15m', '7h 15m', '17h 30m', '8h 55m', '2h 50m', '20h 35m', '20h 0m', '8h 10m', '17h 5m', '9h 15m', '2h 25m', '8h 25m', '13h 30m', '2h 50m', '6h 0m', '18h 25m', '14h 5m', '22h 30m', '25h 30m', '1h 30m', '2h 25m', '15h 35m', '2h 20m', '26h 15m', '3h 5m', '2h 35m', '13h 0m', '18h 45m', '3h 0m', '11h 25m', '11h 45m', '1h 30m', '22h 5m', '27h 45m', '15h 40m', '2h 30m', '24h 35m', '1h 30m', '5h 10m', '5h 25m', '13h 20m', '8h 35m', '1h 25m', '3h 0m', '10h 30m', '3h 0m', '2h 30m', '12h 5m', '22h 10m', '22h 10m', '3h 15m', '6h 20m', '24h 30m', '4h 15m', '6h 35m', '14h 50m', '2h 50m', '8h 25m', '2h 35m', '12h 0m', '18h 45m', '25h 25m', '8h 30m', '2h 55m', '20h 0m', '24h 45m', '8h 40m', '6h 5m', '10h 55m', '14h 5m', '18h 50m', '2h 30m', '7h 40m', '7h 15m', '3h 5m', '10h 25m', '2h 50m', '9h 10m', '11h 40m', '13h 50m', '2h 15m', '2h 30m', '5h 40m', '16h 15m', '2h 55m', '2h 45m', '9h 0m', '14h 25m', '15h 20m', '9h 30m', '2h 30m', '25h 50m', '30h 20m', '2h 55m', '1h 30m', '15h 40m', '20h 25m', '22h 5m', '3h 5m', '20h 15m', '21h 40m', '7h 35m', '6h 35m', '3h 0m', '23h 40m', '1h 30m', '9h 5m', '5h 25m', '9h 5m', '1h 30m', '21h 10m', '2h 30m', '24h 45m', '2h 45m', '16h 0m', '21h 40m', '2h 45m', '7h 5m', '15h 5m', '7h 20m', '2h 40m', '2h 35m', '25h 45m', '2h 20m', '2h 25m', '2h 45m', '27h 45m', '16h 15m', '2h 35m', '28h 50m', '9h 50m', '5h 15m', '25h 45m', '21h 20m', '2h 20m', '17h 5m', '10h 55m', '9h 10m', '16h 35m', '22h 5m', '2h 45m', '2h 40m', '8h 10m', '26h 0m', '12h 55m', '1h 25m', '2h 55m', '10h 55m', '2h 30m', '9h 25m', '13h 0m', '29h 20m', '11h 0m', '2h 55m', '11h 20m', '8h 20m', '27h 20m', '30h 40m', '25h 15m', '8h 35m', '15h 10m', '2h 20m', '1h 30m', '15h 5m', '7h 40m', '29h 5m', '12h 15m', '23h 50m', '28h 50m', '7h 35m', '10h 30m', '2h 50m', '21h 25m', '16h 5m', '3h 0m', '13h 45m', '9h 20m', '27h 20m', '12h 0m', '2h 55m', '12h 15m', '2h 55m', '24h 0m', '2h 45m', '2h 55m', '4h 55m', '7h 20m', '4h 55m', '23h 35m', '7h 15m', '1h 30m', '2h 30m', '4h 35m', '16h 20m', '2h 50m', '28h 55m', '15h 5m', '3h 0m', '2h 55m', '27h 10m', '2h 45m', '1h 25m', '5h 45m', '12h 15m', '3h 35m', '7h 30m', '15h 25m', '25h 20m', '2h 50m', '4h 50m', '16h 55m', '15h 25m', '10h 25m', '6h 15m', '8h 0m', '7h 5m', '1h 30m', '5h 55m', '9h 30m', '8h 40m', '18h 20m', '19h 40m', '22h 10m', '12h 45m', '23h 15m', '11h 0m', '2h 55m', '1h 30m', '15h 25m', '2h 15m', '2h 35m', '2h 45m', '21h 30m', '22h 55m', '18h 10m', '2h 20m', '14h 5m', '2h 45m', '25h 50m', '2h 30m', '2h 30m', '2h 50m', '14h 30m', '8h 55m', '2h 40m', '2h 25m', '2h 50m', '6h 25m', '10h 20m', '15h 40m', '11h 25m', '15h 10m', '23h 35m', '2h 20m', '2h 40m', '20h 20m', '8h 30m', '2h 15m', '6h 15m', '26h 50m', '30h 45m', '5h 0m', '27h 20m', '6h 25m', '2h 45m', '2h 50m', '5h 15m', '22h 55m', '14h 45m', '16h 45m', '18h 25m', '16h 35m', '2h 35m', '7h 50m', '12h 40m', '1h 25m', '19h 45m', '16h 55m', '2h 50m', '14h 15m', '27h 35m', '1h 30m', '22h 55m', '12h 20m', '2h 45m', '8h 40m', '2h 35m', '22h 5m', '24h 0m', '36h 10m', '14h 0m', '16h 50m', '27h 5m', '7h 15m', '20h 55m', '5h 0m', '7h 0m', '2h 30m', '5h 15m', '10h 50m', '5h 15m', '20h 55m', '8h 40m', '2h 15m', '12h 0m', '6h 15m', '8h 40m', '14h 10m', '32h 55m', '2h 50m', '6h 25m', '2h 30m', '2h 30m', '10h 40m', '19h 55m', '8h 40m', '11h 0m', '10h 5m', '4h 55m', '30h 55m', '11h 25m', '26h 35m', '3h 5m', '14h 35m', '2h 25m', '4h 50m', '3h 0m', '11h 30m', '35h 20m', '2h 40m', '28h 50m', '2h 35m', '2h 55m', '17h 25m', '14h 50m', '10h 30m', '5h 35m', '1h 30m', '2h 30m', '8h 55m', '1h 30m', '4h 30m', '12h 15m', '9h 30m', '14h 25m', '27h 20m', '26h 55m', '13h 30m', '12h 5m', '2h 30m', '22h 55m', '15h 40m', '5h 0m', '14h 5m', '2h 55m', '23h 15m', '21h 15m', '2h 55m', '2h 55m', '25h 50m', '5h 25m', '3h 0m', '3h 0m', '2h 40m', '17h 20m', '3h 10m', '8h 30m', '12h 5m', '8h 20m', '15h 0m', '13h 10m', '8h 30m', '26h 55m', '1h 30m', '25h 0m', '2h 55m', '9h 0m', '26h 20m', '1h 20m', '13h 30m', '9h 30m', '2h 30m', '1h 30m', '17h 45m', '11h 25m', '23h 35m', '2h 50m', '2h 55m', '2h 25m', '3h 15m', '5h 55m', '6h 10m', '18h 20m', '26h 10m', '21h 35m', '21h 15m', '23h 20m', '5h 30m', '3h 15m', '5h 55m', '13h 25m', '2h 35m', '26h 35m', '13h 15m', '2h 15m', '2h 30m', '2h 35m', '7h 40m', '2h 40m', '1h 30m', '2h 35m', '23h 30m', '6h 10m', '5h 30m', '1h 30m', '3h 10m', '13h 55m', '2h 50m', '7h 35m', '7h 55m', '2h 25m', '1h 30m', '9h 0m', '14h 35m', '11h 15m', '3h 0m', '2h 35m', '23h 40m', '4h 40m', '21h 15m', '23h 5m', '2h 55m', '8h 45m', '19h 55m', '2h 45m', '12h 35m', '2h 45m', '16h 10m', '30h 30m', '4h 40m', '27h 35m', '12h 45m', '11h 5m', '3h 0m', '11h 30m', '2h 50m', '20h 0m', '10h 10m', '2h 30m', '13h 10m', '2h 45m', '6h 40m', '27h 0m', '23h 45m', '5h 20m', '12h 30m', '27h 35m', '7h 35m', '11h 45m', '13h 30m', '3h 0m', '27h 40m', '7h 30m', '9h 30m', '13h 30m', '3h 5m', '20h 10m', '10h 15m', '9h 15m', '14h 25m', '8h 25m', '14h 50m', '2h 40m', '8h 30m', '2h 50m', '2h 45m', '23h 15m', '16h 50m', '2h 30m', '1h 25m', '6h 35m', '14h 25m', '12h 25m', '2h 20m', '1h 30m', '10h 40m', '1h 30m', '27h 10m', '12h 25m', '8h 50m', '2h 50m', '24h 0m', '20h 55m', '6h 5m', '12h 15m', '2h 30m', '2h 35m', '12h 30m', '12h 35m', '16h 5m', '21h 15m', '2h 20m', '2h 30m', '12h 15m', '23h 50m', '2h 50m', '23h 10m', '8h 5m', '10h 40m', '2h 30m', '7h 15m', '1h 30m', '10h 30m', '23h 15m', '2h 30m', '5h 0m', '25h 5m', '9h 45m', '2h 25m', '15h 25m', '13h 30m', '20h 15m', '15h 30m', '15h 0m', '21h 30m', '7h 5m', '2h 55m', '28h 20m', '2h 30m', '18h 10m', '21h 15m', '11h 5m', '10h 40m', '10h 0m', '4h 50m', '5h 30m', '13h 20m', '9h 30m', '26h 45m', '9h 15m', '1h 15m', '7h 35m', '1h 30m', '2h 50m', '5h 10m', '1h 30m', '2h 55m', '16h 45m', '2h 20m', '19h 55m', '3h 5m', '2h 55m', '2h 55m', '26h 0m', '2h 55m', '15h 25m', '11h 5m', '1h 30m', '16h 15m', '6h 20m', '26h 55m', '20h 45m', '24h 45m', '5h 45m', '9h 45m', '2h 40m', '5h 35m', '2h 45m', '3h 0m', '2h 35m', '24h 35m', '2h 35m', '2h 40m', '20h 20m', '2h 35m', '3h 0m', '6h 15m', '2h 20m', '2h 20m', '10h 40m', '8h 30m', '1h 30m', '15h 50m', '2h 30m', '12h 0m', '1h 30m', '21h 35m', '2h 45m', '26h 15m', '2h 50m', '1h 25m', '3h 0m', '2h 30m', '7h 30m', '2h 20m', '10h 30m', '2h 50m', '2h 45m', '14h 0m', '2h 50m', '1h 30m', '27h 35m', '6h 35m', '11h 40m', '2h 55m', '11h 50m', '9h 50m', '26h 50m', '2h 45m', '4h 55m', '2h 45m', '13h 10m', '27h 10m', '2h 45m', '15h 50m', '8h 25m', '2h 20m', '14h 5m', '2h 50m', '16h 20m', '25h 10m', '2h 50m', '38h 20m', '11h 5m', '2h 55m', '19h 55m', '15h 45m', '9h 15m', '2h 35m', '4h 55m', '13h 15m', '26h 0m', '18h 30m', '9h 0m', '27h 35m', '19h 15m', '11h 45m', '22h 55m', '8h 10m', '6h 55m', '12h 45m', '2h 35m', '2h 50m', '10h 15m', '3h 0m', '12h 30m', '4h 50m', '38h 0m', '13h 20m', '12h 45m', '26h 35m', '16h 40m', '2h 50m', '4h 15m', '2h 45m', '1h 30m', '2h 35m', '7h 30m', '29h 20m', '23h 0m', '2h 45m', '12h 10m', '7h 5m', '2h 40m', '15h 40m', '7h 45m', '5h 45m', '2h 30m', '10h 10m', '12h 10m', '1h 30m', '2h 50m', '12h 15m', '1h 30m', '9h 10m', '22h 5m', '10h 0m', '6h 15m', '2h 55m', '2h 35m', '9h 50m', '23h 50m', '5h 45m', '8h 15m', '10h 25m', '14h 15m', '13h 20m', '2h 45m', '34h 0m', '7h 5m', '8h 55m', '15h 30m', '11h 50m', '1h 30m', '9h 15m', '15h 30m', '3h 0m', '7h 30m', '2h 35m', '2h 35m', '14h 30m', '6h 15m', '10h 30m', '2h 50m', '7h 5m', '13h 10m', '13h 15m', '7h 15m', '26h 0m', '11h 0m', '24h 45m', '2h 35m', '27h 35m', '14h 25m', '20h 10m', '2h 45m', '12h 20m', '2h 15m', '8h 50m', '26h 10m', '2h 45m', '1h 25m', '10h 0m', '1h 30m', '5h 15m', '2h 50m', '20h 20m', '6h 35m', '12h 35m', '2h 35m', '2h 20m', '11h 45m', '2h 50m', '2h 20m', '1h 30m', '2h 20m', '1h 30m', '22h 5m', '7h 15m', '9h 15m', '27h 10m', '12h 45m', '4h 30m', '2h 55m', '14h 30m', '12h 10m', '22h 25m', '9h 10m', '10h 0m', '1h 30m', '2h 30m', '5h 30m', '12h 45m', '15h 10m', '23h 20m', '2h 20m', '8h 0m', '11h 15m', '19h 0m', '10h 0m', '2h 35m', '5h 15m', '8h 5m', '2h 15m', '11h 30m', '33h 15m', '1h 30m', '13h 5m', '2h 55m', '2h 55m', '2h 35m', '22h 55m', '21h 5m', '5h 10m', '13h 30m', '12h 15m', '2h 40m', '19h 35m', '28h 50m', '2h 35m', '18h 20m', '24h 10m', '2h 50m', '26h 50m', '2h 15m', '2h 55m', '24h 30m', '14h 10m', '22h 45m', '16h 35m', '5h 20m', '8h 30m', '9h 50m', '8h 40m', '21h 40m', '7h 30m', '13h 45m', '1h 30m', '38h 15m', '1h 30m', '16h 5m', '15h 10m', '20h 10m', '10h 55m', '5h 40m', '2h 45m', '2h 45m', '18h 20m', '13h 50m', '7h 35m', '23h 15m', '13h 20m', '23h 20m', '19h 25m', '13h 30m', '2h 30m', '23h 15m', '2h 20m', '1h 15m', '3h 10m', '11h 30m', '4h 50m', '22h 0m', '20h 15m', '11h 15m', '12h 45m', '12h 30m', '11h 30m', '17h 15m', '5h 0m', '1h 30m', '7h 35m', '2h 55m', '7h 25m', '5h 55m', '15h 45m', '11h 30m', '9h 45m', '12h 30m', '5h 0m', '22h 0m', '22h 5m', '16h 55m', '1h 25m', '2h 45m', '10h 0m', '1h 20m', '14h 25m', '18h 0m', '4h 55m', '7h 30m', '7h 55m', '2h 30m', '9h 45m', '2h 45m', '7h 5m', '9h 30m', '1h 30m', '15h 0m', '17h 5m', '24h 20m', '12h 30m', '24h 40m', '3h 5m', '2h 25m', '2h 45m', '7h 30m', '1h 30m', '4h 55m', '2h 45m', '8h 40m', '28h 50m', '7h 15m', '20h 15m', '2h 50m', '12h 45m', '30h 40m', '4h 5m', '10h 15m', '38h 15m', '21h 35m', '15h 25m', '2h 20m', '5h 20m', '2h 50m', '22h 45m', '2h 50m', '25h 50m', '6h 30m', '2h 25m', '14h 35m', '2h 55m', '12h 40m', '2h 15m', '9h 35m', '17h 20m', '11h 50m', '2h 55m', '1h 25m', '16h 55m', '2h 20m', '2h 55m', '9h 30m', '2h 40m', '7h 15m', '4h 55m', '19h 10m', '10h 45m', '22h 15m', '13h 20m', '10h 35m', '7h 15m', '18h 25m', '15h 40m', '7h 35m', '2h 40m', '16h 45m', '5h 35m', '11h 0m', '2h 45m', '7h 55m', '9h 30m', '5h 45m', '29h 20m', '1h 30m', '7h 5m', '4h 40m', '1h 25m', '26h 55m', '26h 30m', '1h 30m', '2h 45m', '3h 0m', '3h 0m', '2h 50m', '30h 30m', '2h 50m', '20h 45m', '22h 30m', '2h 50m', '26h 0m', '16h 25m', '9h 20m', '7h 5m', '24h 35m', '2h 20m', '22h 10m', '7h 35m', '26h 0m', '16h 5m', '38h 0m', '13h 15m', '10h 40m', '2h 50m', '16h 10m', '13h 20m', '6h 30m', '1h 30m', '10h 25m', '12h 45m', '32h 5m', '8h 15m', '3h 0m', '18h 45m', '29h 20m', '31h 40m', '2h 50m', '2h 55m', '28h 50m', '1h 15m', '18h 20m', '12h 15m', '2h 25m', '3h 0m', '33h 15m', '2h 50m', '14h 0m', '7h 50m', '7h 35m', '21h 15m', '2h 50m', '2h 40m', '25h 5m', '7h 35m', '7h 30m', '9h 15m', '2h 35m', '1h 30m', '8h 0m', '2h 30m', '15h 20m', '5h 50m', '2h 25m', '26h 10m', '2h 40m', '21h 20m', '2h 50m', '3h 0m', '4h 50m', '7h 45m', '10h 45m', '3h 0m', '9h 50m', '10h 0m', '6h 55m', '18h 30m', '2h 40m', '20h 10m', '2h 25m', '23h 15m', '11h 15m', '5h 30m', '10h 15m', '22h 55m', '1h 30m', '9h 0m', '16h 20m', '12h 15m', '6h 20m', '7h 20m', '1h 30m', '15h 15m', '1h 20m', '5h 30m', '9h 35m', '8h 55m', '2h 50m', '12h 20m', '23h 50m', '16h 55m', '2h 55m', '16h 5m', '23h 15m', '14h 25m', '1h 30m', '13h 20m', '3h 5m', '28h 50m', '14h 40m', '2h 45m', '5h 50m', '9h 5m', '1h 30m', '23h 30m', '8h 40m', '14h 20m', '2h 15m', '2h 45m', '5h 20m', '3h 0m', '5h 20m', '2h 50m', '2h 15m', '2h 55m', '8h 0m', '25h 40m', '23h 45m', '22h 35m', '8h 40m', '23h 40m', '7h 50m', '4h 50m', '2h 55m', '30h 40m', '14h 55m', '27h 20m', '23h 35m', '9h 0m', '20h 55m', '20h 10m', '14h 25m', '7h 35m', '7h 0m', '2h 55m', '1h 30m', '1h 25m', '9h 50m', '7h 20m', '14h 30m', '9h 50m', '2h 35m', '8h 0m', '2h 30m', '5h 20m', '2h 25m', '14h 55m', '25h 45m', '23h 50m', '10h 30m', '2h 55m', '6h 15m', '16h 10m', '23h 0m', '23h 20m', '7h 30m', '1h 30m', '14h 0m', '7h 5m', '2h 55m', '12h 15m', '2h 45m', '20h 15m', '27h 5m', '20h 15m', '2h 45m', '11h 45m', '1h 25m', '2h 45m', '3h 0m', '11h 0m', '24h 55m', '26h 35m', '23h 40m', '23h 35m', '25h 45m', '2h 45m', '1h 25m', '19h 15m', '15h 30m', '24h 30m', '13h 20m', '7h 35m', '2h 45m', '2h 50m', '10h 10m', '30h 30m', '2h 50m', '8h 25m', '1h 30m', '12h 25m', '24h 55m', '2h 35m', '21h 15m', '22h 55m', '2h 35m', '3h 0m', '8h 55m', '22h 30m', '1h 30m', '9h 5m', '21h 25m', '2h 40m', '13h 30m', '6h 25m', '20h 55m', '10h 10m', '26h 30m', '10h 15m', '7h 20m', '10h 45m', '7h 5m', '2h 20m', '12h 0m', '20h 20m', '11h 0m', '13h 50m', '9h 0m', '7h 50m', '16h 5m', '9h 0m', '12h 40m', '3h 5m', '1h 30m', '11h 15m', '12h 25m', '12h 20m', '2h 25m', '15h 35m', '2h 50m', '5h 5m', '6h 35m', '7h 5m', '2h 50m', '13h 30m', '2h 50m', '3h 0m', '33h 15m', '23h 10m', '2h 55m', '6h 30m', '2h 30m', '2h 55m', '10h 45m', '23h 40m', '2h 35m', '9h 0m', '1h 30m', '1h 35m', '11h 45m', '2h 55m', '15h 30m', '27h 35m', '2h 50m', '5h 15m', '14h 35m', '2h 40m', '7h 30m', '2h 50m', '1h 30m', '6h 35m', '2h 35m', '11h 40m', '2h 50m', '2h 45m', '5h 0m', '7h 15m', '8h 35m', '3h 0m', '17h 5m', '11h 0m', '3h 10m', '5h 20m', '9h 0m', '6h 30m', '15h 25m', '2h 45m', '6h 30m', '16h 5m', '12h 15m', '25h 30m', '12h 35m', '27h 45m', '6h 15m', '2h 55m', '6h 10m', '2h 40m', '7h 30m', '5h 20m', '22h 25m', '26h 30m', '3h 0m', '2h 40m', '7h 45m', '25h 5m', '9h 20m', '3h 5m', '9h 45m', '25h 35m', '2h 40m', '5h 15m', '24h 55m', '1h 30m', '2h 50m', '2h 15m', '26h 55m', '2h 15m', '24h 30m', '10h 15m', '5h 25m', '10h 20m', '7h 5m', '3h 0m', '23h 5m', '24h 50m', '12h 45m', '22h 10m', '8h 10m', '2h 30m', '9h 20m', '6h 5m', '24h 35m', '3h 0m', '11h 15m', '8h 25m', '2h 40m', '20h 20m', '1h 30m', '30h 20m', '15h 30m', '2h 45m', '7h 0m', '3h 5m', '7h 35m', '2h 50m', '13h 55m', '23h 45m', '2h 45m', '10h 15m', '10h 5m', '12h 45m', '2h 35m', '2h 50m', '14h 45m', '7h 20m', '23h 10m', '2h 20m', '5h 30m', '13h 45m', '2h 20m', '1h 30m', '2h 20m', '2h 55m', '12h 45m', '2h 20m', '24h 45m', '38h 0m', '4h 55m', '11h 45m', '11h 45m', '3h 10m', '2h 50m', '2h 35m', '6h 35m', '1h 20m', '2h 15m', '23h 40m', '5h 0m', '2h 40m', '23h 40m', '12h 10m', '7h 35m', '29h 20m', '2h 55m', '13h 20m', '12h 25m', '1h 20m', '28h 15m', '5h 20m', '1h 20m', '7h 5m', '1h 30m', '23h 20m', '2h 50m', '11h 30m', '2h 45m', '2h 35m', '7h 5m', '3h 15m', '2h 45m', '14h 30m', '28h 20m', '2h 50m', '2h 30m', '9h 50m', '6h 20m', '7h 0m', '2h 35m', '2h 40m', '8h 40m', '2h 40m', '10h 25m', '2h 25m', '13h 55m', '2h 35m', '2h 30m', '2h 30m', '25h 20m', '13h 0m', '5h 10m', '13h 20m', '4h 55m', '10h 35m', '18h 20m', '16h 5m', '7h 30m', '25h 5m', '11h 0m', '14h 35m', '1h 25m', '19h 55m', '2h 25m', '2h 55m', '5h 40m', '12h 10m', '11h 45m', '10h 15m', '1h 30m', '11h 35m', '2h 20m', '7h 20m', '6h 25m', '3h 0m', '11h 0m', '14h 30m', '12h 20m', '13h 15m', '11h 0m', '2h 45m', '25h 30m', '12h 0m', '15h 25m', '1h 25m', '7h 15m', '2h 35m', '16h 35m', '2h 55m', '1h 30m', '10h 45m', '7h 45m', '4h 45m', '12h 15m', '19h 25m', '2h 35m', '27h 20m', '2h 20m', '10h 30m', '25h 5m', '11h 15m', '24h 50m', '19h 50m', '2h 15m', '5h 10m', '29h 5m', '26h 0m', '9h 30m', '2h 35m', '2h 15m', '15h 55m', '2h 15m', '16h 5m', '23h 50m', '4h 50m', '16h 45m', '2h 20m', '15h 0m', '14h 5m', '13h 20m', '12h 30m', '7h 15m', '3h 5m', '2h 50m', '2h 55m', '2h 35m', '27h 35m', '1h 20m', '19h 55m', '3h 0m', '1h 30m', '14h 45m', '8h 35m', '19h 25m', '26h 35m', '5h 0m', '4h 50m', '7h 20m', '27h 45m', '3h 0m', '2h 50m', '2h 45m', '8h 35m', '3h 0m', '8h 5m', '2h 50m', '8h 30m', '11h 5m', '4h 30m', '2h 50m', '33h 45m', '2h 50m', '24h 45m', '30h 10m', '27h 5m', '15h 20m', '26h 10m', '21h 15m', '1h 30m', '17h 25m', '16h 45m', '3h 15m', '10h 20m', '10h 20m', '2h 35m', '2h 55m', '9h 35m', '7h 15m', '8h 55m', '2h 55m', '14h 5m', '18h 45m', '2h 35m', '2h 45m', '14h 10m', '1h 30m', '2h 35m', '2h 55m', '7h 20m', '11h 50m', '1h 20m', '7h 30m', '9h 20m', '24h 50m', '21h 15m', '24h 50m', '18h 20m', '2h 20m', '7h 25m', '2h 50m', '38h 0m', '1h 25m', '2h 40m', '3h 5m', '29h 55m', '2h 30m', '8h 0m', '14h 35m', '5h 15m', '1h 30m', '2h 45m', '2h 55m', '15h 55m', '2h 55m', '8h 25m', '7h 0m', '2h 50m', '21h 45m', '3h 5m', '11h 5m', '4h 55m', '23h 35m', '5h 15m', '22h 55m', '3h 15m', '21h 20m', '7h 30m', '1h 25m', '28h 50m', '10h 20m', '16h 40m', '7h 5m', '7h 20m', '2h 55m', '24h 35m', '24h 50m', '7h 35m', '11h 0m', '16h 15m', '14h 50m', '9h 50m', '13h 20m', '8h 25m', '27h 35m', '1h 30m', '2h 50m', '13h 15m', '25h 55m', '2h 35m', '22h 15m', '13h 40m', '10h 25m', '2h 50m', '15h 25m', '2h 50m', '22h 0m', '8h 25m', '25h 55m', '9h 30m', '12h 0m', '9h 45m', '23h 45m', '3h 15m', '15h 0m', '21h 25m', '8h 35m', '25h 20m', '21h 0m', '17h 35m', '1h 30m', '10h 50m', '23h 45m', '11h 25m', '2h 30m', '6h 35m', '2h 40m', '2h 25m', '13h 10m', '26h 35m', '1h 25m', '15h 30m', '14h 15m', '22h 0m', '10h 25m', '10h 25m', '14h 25m', '27h 0m', '8h 35m', '8h 0m', '12h 20m', '26h 35m', '3h 10m', '23h 50m', '25h 15m', '2h 20m', '28h 25m', '21h 30m', '12h 10m', '2h 50m', '22h 35m', '6h 15m', '2h 30m', '10h 55m', '13h 10m', '11h 45m', '9h 25m', '14h 15m', '12h 25m', '13h 30m', '20h 20m', '8h 10m', '16h 45m', '1h 30m', '2h 30m', '12h 10m', '6h 55m', '12h 40m', '3h 40m', '2h 40m', '21h 55m', '9h 50m', '2h 35m', '2h 45m', '1h 25m', '11h 45m', '6h 30m', '12h 5m', '16h 15m', '15h 10m', '19h 30m', '35h 5m', '29h 50m', '9h 40m', '11h 15m', '5h 45m', '21h 45m', '8h 55m', '13h 25m', '5h 30m', '2h 50m', '3h 0m', '9h 30m', '2h 45m', '24h 30m', '2h 50m', '2h 55m', '19h 5m', '2h 50m', '2h 30m', '7h 55m', '2h 50m', '1h 15m', '7h 45m', '3h 0m', '2h 45m', '19h 25m', '24h 10m', '4h 55m', '25h 0m', '2h 15m', '14h 10m', '8h 0m', '7h 50m', '2h 45m', '2h 30m', '16h 15m', '15h 40m', '18h 20m', '16h 15m', '19h 5m', '9h 30m', '5h 0m', '19h 15m', '27h 35m', '14h 35m', '4h 40m', '13h 25m', '7h 35m', '14h 0m', '2h 45m', '18h 25m', '21h 25m', '6h 35m', '11h 0m', '1h 30m', '5h 20m', '3h 0m', '28h 5m', '2h 40m', '2h 15m', '1h 15m', '24h 15m', '9h 20m', '2h 40m', '3h 0m', '3h 0m', '2h 45m', '5h 45m', '15h 0m', '23h 50m', '2h 50m', '16h 5m', '9h 5m', '23h 15m', '21h 15m', '11h 5m', '22h 0m', '2h 45m', '31h 30m', '1h 25m', '19h 55m', '5h 5m', '6h 15m', '5h 55m', '2h 55m', '21h 35m', '15h 10m', '25h 30m', '17h 5m', '2h 35m', '25h 40m', '5h 45m', '3h 5m', '9h 5m', '8h 0m', '5h 50m', '13h 25m', '2h 20m', '9h 30m', '27h 10m', '2h 40m', '20h 10m', '21h 10m', '2h 50m', '24h 0m', '15h 15m', '10h 30m', '4h 50m', '6h 5m', '2h 55m', '21h 35m', '9h 20m', '27h 20m', '2h 35m', '5h 15m', '4h 35m', '7h 30m', '2h 45m', '24h 30m', '7h 15m', '11h 55m', '8h 10m', '15h 40m', '10h 30m', '1h 25m', '10h 35m', '4h 55m', '21h 45m', '24h 5m', '2h 35m', '2h 35m', '10h 55m', '6h 20m', '7h 30m', '2h 45m', '22h 55m', '2h 50m', '2h 55m', '2h 45m', '3h 0m', '11h 40m', '26h 15m', '27h 0m', '11h 5m', '25h 45m', '1h 25m', '21h 25m', '1h 25m', '12h 20m', '5h 30m', '20h 35m', '9h 15m', '6h 30m', '2h 55m', '13h 50m', '22h 45m', '14h 35m', '3h 5m', '2h 20m', '6h 55m', '19h 55m', '18h 45m', '2h 50m', '13h 25m', '2h 55m', '2h 55m', '2h 45m', '5h 45m', '14h 45m', '2h 20m', '18h 20m', '13h 0m', '2h 45m', '8h 0m', '29h 5m', '10h 10m', '2h 35m', '15h 40m', '13h 20m', '2h 50m', '25h 45m', '2h 20m', '13h 0m', '4h 25m', '2h 50m', '22h 10m', '4h 30m', '13h 20m', '20h 20m', '3h 15m', '2h 35m', '2h 35m', '4h 50m', '10h 0m', '2h 50m', '11h 45m', '2h 35m', '2h 40m', '22h 10m', '25h 15m', '8h 55m', '6h 25m', '3h 0m', '19h 25m', '28h 5m', '2h 50m', '2h 50m', '25h 5m', '21h 35m', '21h 35m', '13h 0m', '7h 15m', '15h 55m', '7h 35m', '13h 20m', '2h 50m', '7h 0m', '12h 30m', '10h 50m', '1h 30m', '2h 35m', '2h 45m', '5h 40m', '2h 55m', '12h 25m', '2h 20m', '1h 20m', '20h 15m', '11h 35m', '27h 45m', '26h 10m', '5h 5m', '2h 55m', '23h 35m', '24h 10m', '3h 0m', '7h 0m', '21h 35m', '10h 25m', '15h 55m', '28h 20m', '2h 50m', '7h 20m', '2h 25m', '2h 35m', '3h 5m', '1h 30m', '2h 20m', '8h 40m', '30h 0m', '3h 0m', '25h 40m', '2h 55m', '2h 55m', '20h 10m', '6h 25m', '2h 50m', '27h 45m', '2h 45m', '13h 25m', '3h 40m', '18h 20m', '2h 25m', '11h 25m', '21h 40m', '30h 30m', '11h 0m', '7h 30m', '22h 40m', '1h 30m', '2h 45m', '13h 15m', '13h 55m', '9h 30m', '30h 20m', '1h 15m', '34h 30m', '3h 5m', '13h 45m', '23h 0m', '1h 25m', '14h 55m', '16h 45m', '26h 50m', '13h 20m', '8h 0m', '8h 0m', '21h 20m', '18h 20m', '2h 40m', '9h 35m', '15h 10m', '9h 50m', '20h 25m', '23h 50m', '10h 35m', '13h 20m', '14h 15m', '14h 20m', '24h 35m', '3h 0m', '1h 20m', '8h 0m', '2h 55m', '5h 5m', '7h 20m', '6h 30m', '21h 45m', '13h 20m', '18h 25m', '22h 0m', '25h 30m', '17h 25m', '2h 20m', '1h 30m', '15h 30m', '14h 25m', '2h 55m', '14h 35m', '4h 55m', '7h 35m', '9h 50m', '14h 40m', '8h 30m', '2h 50m', '14h 35m', '2h 35m', '2h 55m', '9h 35m', '13h 0m', '25h 55m', '25h 35m', '2h 15m', '24h 30m', '1h 25m', '10h 0m', '2h 50m', '2h 50m', '1h 30m', '12h 0m', '1h 30m', '21h 20m', '1h 30m', '12h 35m', '16h 45m', '13h 0m', '28h 0m', '2h 50m', '17h 10m', '9h 30m', '10h 20m', '7h 55m', '14h 0m', '2h 20m', '14h 25m', '2h 35m', '23h 30m', '16h 40m', '2h 45m', '2h 50m', '26h 35m', '12h 15m', '10h 20m', '15h 25m', '9h 0m', '2h 50m', '11h 20m', '2h 55m', '7h 40m', '11h 0m', '2h 35m', '5h 50m', '3h 10m', '25h 35m', '6h 15m', '2h 15m', '14h 5m', '2h 55m', '8h 20m', '19h 55m', '21h 25m', '4h 55m', '3h 0m', '3h 0m', '2h 55m', '5h 15m', '23h 0m', '18h 20m', '2h 50m', '2h 55m', '9h 30m', '1h 25m', '7h 45m', '12h 55m', '2h 40m', '2h 35m', '2h 50m', '15h 20m', '2h 55m', '9h 0m', '20h 25m', '13h 0m', '2h 50m', '15h 55m', '12h 45m', '19h 25m', '6h 40m', '24h 10m', '10h 20m', '2h 55m', '11h 5m', '19h 30m', '8h 20m', '7h 5m', '24h 40m', '3h 40m', '23h 0m', '14h 5m', '7h 20m', '1h 25m', '7h 30m', '2h 20m', '16h 0m', '2h 35m', '12h 10m', '1h 30m', '3h 5m', '8h 5m', '2h 55m', '21h 20m', '11h 45m', '1h 30m', '3h 0m', '4h 40m', '15h 20m', '2h 40m', '21h 35m', '25h 25m', '2h 30m', '1h 25m', '8h 40m', '19h 55m', '17h 5m', '1h 30m', '14h 25m', '26h 10m', '2h 30m', '10h 15m', '6h 25m', '11h 15m', '2h 35m', '27h 45m', '7h 35m', '10h 40m', '1h 25m', '2h 55m', '1h 20m', '2h 50m', '2h 45m', '5h 15m', '8h 45m', '18h 45m', '14h 20m', '1h 30m', '2h 30m', '26h 35m', '9h 30m', '7h 30m', '20h 10m', '5h 30m', '12h 45m', '2h 20m', '8h 40m', '7h 5m', '14h 50m', '19h 40m', '1h 30m', '13h 55m', '3h 5m', '5h 20m', '2h 35m', '14h 25m', '5h 0m', '14h 5m', '9h 0m', '2h 20m', '2h 20m', '1h 30m', '2h 50m', '11h 5m', '11h 25m', '2h 40m', '11h 45m', '2h 20m', '9h 0m', '22h 30m', '10h 35m', '11h 45m', '2h 20m', '1h 20m', '7h 15m', '21h 35m', '9h 5m', '11h 15m', '23h 20m', '2h 35m', '13h 30m', '8h 10m', '7h 15m', '2h 50m', '19h 25m', '21h 25m', '12h 20m', '2h 25m', '28h 15m', '2h 50m', '2h 55m', '2h 25m', '20h 55m', '6h 0m', '8h 20m', '3h 0m', '9h 20m', '2h 40m', '4h 15m', '18h 35m', '8h 40m', '2h 55m', '24h 45m', '24h 45m', '2h 20m', '1h 30m', '2h 35m', '23h 0m', '15h 30m', '2h 15m', '3h 5m', '2h 50m', '20h 0m', '17h 5m', '12h 45m', '24h 10m', '1h 30m', '26h 50m', '12h 25m', '9h 30m', '6h 25m', '1h 30m', '16h 15m', '24h 45m', '6h 20m', '21h 40m', '5h 15m', '27h 0m', '19h 40m', '14h 35m', '3h 40m', '2h 50m', '7h 5m', '2h 55m', '10h 0m', '33h 15m', '7h 45m', '2h 45m', '1h 20m', '12h 45m', '4h 30m', '8h 40m', '1h 20m', '1h 25m', '17h 20m', '12h 10m', '13h 30m', '1h 30m', '22h 0m', '25h 0m', '2h 15m', '1h 30m', '23h 30m', '13h 50m', '13h 30m', '2h 35m', '11h 30m', '3h 0m', '2h 55m', '2h 45m', '9h 45m', '6h 40m', '10h 55m', '2h 15m', '27h 10m', '7h 15m', '8h 20m', '15h 40m', '13h 45m', '21h 25m', '1h 30m', '7h 0m', '6h 10m', '14h 55m', '1h 30m', '19h 30m', '2h 55m', '1h 30m', '2h 55m', '12h 40m', '19h 55m', '2h 35m', '21h 35m', '5h 30m', '25h 30m', '26h 20m', '9h 10m', '8h 10m', '2h 25m', '8h 10m', '2h 30m', '23h 30m', '10h 40m', '2h 55m', '9h 50m', '2h 15m', '28h 5m', '17h 50m', '16h 30m', '25h 45m', '22h 45m', '2h 50m', '11h 45m', '1h 30m', '16h 45m', '9h 5m', '5h 30m', '7h 15m', '17h 25m', '13h 30m', '6h 30m', '2h 50m', '2h 55m', '2h 50m', '2h 20m', '2h 30m', '12h 10m', '8h 30m', '2h 50m', '2h 45m', '3h 0m', '16h 0m', '2h 35m', '2h 25m', '23h 35m', '22h 55m', '2h 15m', '3h 15m', '6h 5m', '5h 5m', '2h 20m', '26h 35m', '1h 30m', '2h 45m', '2h 50m', '11h 25m', '18h 50m', '2h 35m', '14h 20m', '2h 45m', '12h 10m', '5h 0m', '11h 0m', '2h 20m', '3h 0m', '19h 40m', '9h 30m', '2h 30m', '2h 50m', '2h 20m', '2h 45m', '16h 55m', '4h 30m', '25h 20m', '22h 0m', '22h 45m', '9h 20m', '2h 55m', '2h 45m', '2h 40m', '2h 35m', '21h 10m', '8h 20m', '23h 30m', '16h 55m', '5h 30m', '2h 25m', '24h 55m', '2h 55m', '27h 5m', '11h 45m', '2h 50m', '21h 15m', '5h 20m', '5h 45m', '11h 15m', '12h 55m', '21h 15m', '9h 30m', '12h 30m', '6h 35m', '3h 0m', '14h 10m', '2h 35m', '2h 35m', '14h 40m', '7h 45m', '2h 50m', '13h 30m', '1h 25m', '25h 45m', '21h 35m', '11h 0m', '7h 30m', '3h 15m', '2h 35m', '5h 50m', '2h 20m', '22h 55m', '11h 40m', '2h 35m', '2h 25m', '24h 0m', '3h 0m', '10h 35m', '36h 10m', '2h 25m', '2h 35m', '11h 30m', '2h 55m', '2h 50m', '8h 55m', '5h 15m', '12h 15m', '26h 40m', '8h 55m', '1h 20m', '23h 5m', '2h 15m', '8h 40m', '2h 30m', '5h 5m', '16h 55m', '15h 15m', '18h 45m', '20h 55m', '10h 0m', '10h 15m', '5h 40m', '28h 20m', '6h 30m', '15h 55m', '10h 40m', '26h 35m', '25h 45m', '5h 55m', '19h 45m', '9h 15m', '2h 40m', '11h 5m', '10h 15m', '2h 30m', '7h 30m', '6h 10m', '8h 30m', '2h 45m', '2h 35m', '4h 55m', '9h 20m', '12h 45m', '24h 50m', '9h 20m', '2h 55m', '2h 30m', '17h 55m', '2h 50m', '2h 30m', '3h 0m', '16h 50m', '1h 30m', '6h 0m', '2h 45m', '14h 15m', '11h 5m', '2h 40m', '20h 10m', '24h 55m', '3h 0m', '9h 50m', '12h 30m', '2h 50m', '9h 35m', '12h 0m', '2h 15m', '2h 50m', '1h 25m', '2h 35m', '9h 50m', '14h 45m', '12h 10m', '23h 45m', '21h 35m', '17h 55m', '2h 40m', '2h 25m', '2h 50m', '5h 30m', '14h 10m', '14h 5m', '14h 5m', '2h 45m', '5h 25m', '3h 40m', '9h 30m', '8h 40m', '9h 10m', '15h 20m', '3h 15m', '9h 50m', '23h 20m', '21h 5m', '10h 30m', '6h 35m', '1h 30m', '5h 15m', '10h 25m', '5h 5m', '9h 0m', '2h 55m', '7h 15m', '15h 30m', '11h 0m', '23h 30m', '15h 0m', '3h 0m', '29h 35m', '4h 25m', '11h 0m', '2h 35m', '8h 20m', '2h 45m', '11h 0m', '1h 30m', '10h 30m', '2h 45m', '13h 30m', '2h 50m', '25h 20m', '22h 5m', '9h 5m', '25h 30m', '13h 30m', '2h 50m', '5h 5m', '6h 15m', '2h 45m', '2h 35m', '5h 20m', '17h 30m', '14h 30m', '6h 15m', '22h 5m', '1h 30m', '3h 0m', '3h 10m', '5h 45m', '9h 15m', '2h 20m', '14h 55m', '2h 50m', '10h 5m', '14h 50m', '7h 15m', '25h 55m', '27h 35m', '3h 15m', '25h 30m', '2h 35m', '2h 45m', '1h 20m', '11h 45m', '9h 0m', '12h 50m', '2h 55m', '6h 15m', '23h 10m', '14h 20m', '10h 15m', '27h 50m', '3h 5m', '2h 30m', '26h 35m', '11h 50m', '7h 20m', '1h 25m', '2h 50m', '2h 15m', '2h 55m', '3h 0m', '16h 50m', '24h 50m', '16h 5m', '2h 20m', '13h 20m', '7h 30m', '18h 20m', '2h 50m', '25h 35m', '1h 35m', '21h 25m', '38h 35m', '2h 55m', '27h 40m', '27h 35m', '11h 15m', '1h 25m', '12h 0m', '1h 30m', '1h 30m', '15h 50m', '37h 25m', '8h 25m', '26h 20m', '10h 25m', '10h 25m', '2h 15m', '8h 55m', '14h 45m', '7h 15m', '12h 35m', '3h 0m', '2h 35m', '2h 55m', '9h 30m', '7h 35m', '2h 25m', '7h 20m', '6h 25m', '26h 10m', '9h 15m', '8h 25m', '11h 0m', '3h 0m', '19h 25m', '5h 25m', '2h 50m', '2h 45m', '8h 20m', '2h 15m', '8h 0m', '2h 40m', '1h 30m', '12h 35m', '1h 15m', '10h 25m', '3h 0m', '23h 55m', '16h 5m', '5h 20m', '24h 35m', '4h 55m', '6h 10m', '1h 30m', '2h 20m', '5h 15m', '7h 5m', '12h 30m', '2h 45m', '6h 15m', '20h 0m', '3h 15m', '8h 0m', '7h 40m', '13h 30m', '22h 45m', '2h 35m', '22h 45m', '10h 15m', '13h 30m', '2h 30m', '5h 15m', '6h 35m', '16h 5m', '3h 0m', '9h 50m', '23h 0m', '2h 50m', '5h 20m', '11h 0m', '14h 50m', '23h 30m', '36h 10m', '20h 55m', '3h 15m', '3h 15m', '9h 20m', '5h 15m', '1h 30m', '7h 30m', '2h 35m', '14h 20m', '21h 20m', '10h 30m', '24h 45m', '3h 15m', '22h 15m', '27h 20m', '6h 0m', '2h 50m', '7h 50m', '5h 0m', '3h 15m', '2h 50m', '2h 40m', '21h 55m', '8h 40m', '1h 30m', '15h 30m', '8h 40m', '6h 20m', '5h 35m', '12h 30m', '2h 50m', '11h 35m', '3h 5m', '26h 30m', '9h 0m', '2h 45m', '13h 20m', '20h 15m', '8h 15m', '1h 25m', '10h 30m', '20h 0m', '22h 25m', '9h 0m', '1h 30m', '5h 20m', '17h 5m', '13h 30m', '13h 25m', '2h 15m', '11h 50m', '2h 30m', '8h 0m', '11h 20m', '13h 30m', '13h 55m', '20h 55m', '10h 40m', '27h 5m', '3h 0m', '18h 50m', '22h 55m', '11h 15m', '2h 40m', '20h 10m', '15h 10m', '25h 55m', '5h 0m', '29h 50m', '7h 35m', '2h 50m', '28h 20m', '21h 40m', '22h 45m', '24h 10m', '7h 5m', '12h 40m', '2h 25m', '2h 45m', '24h 35m', '19h 0m', '2h 40m', '3h 0m', '23h 55m', '11h 5m', '1h 30m', '2h 50m', '2h 40m', '5h 10m', '27h 5m', '14h 0m', '2h 55m', '4h 50m', '10h 0m', '5h 55m', '12h 45m', '15h 15m', '12h 25m', '10h 0m', '3h 0m', '2h 30m', '10h 20m', '27h 5m', '1h 30m', '16h 15m', '13h 50m', '2h 35m', '23h 0m', '3h 5m', '3h 0m', '3h 0m', '2h 30m', '1h 30m', '20h 0m', '2h 40m', '2h 20m', '2h 40m', '8h 30m', '2h 45m', '7h 15m', '2h 25m', '2h 20m', '7h 30m', '4h 25m', '2h 50m', '14h 0m', '2h 55m', '13h 50m', '2h 55m', '20h 25m', '23h 40m', '9h 0m', '7h 15m', '2h 55m', '17h 55m', '8h 15m', '9h 15m', '16h 5m', '2h 45m', '2h 50m', '11h 35m', '5h 20m', '1h 25m', '15h 0m', '2h 35m', '20h 10m', '2h 50m', '2h 35m', '2h 50m', '5h 20m', '38h 15m', '4h 25m', '15h 15m', '12h 45m', '25h 5m', '12h 30m', '9h 35m', '1h 30m', '9h 20m', '11h 50m', '6h 25m', '5h 15m', '7h 30m', '1h 30m', '11h 55m', '7h 20m', '22h 45m', '2h 45m', '11h 30m', '26h 20m', '42h 5m', '13h 20m', '4h 25m', '2h 30m', '13h 50m', '4h 50m', '7h 0m', '3h 15m', '20h 20m', '2h 45m', '2h 20m', '2h 50m', '2h 30m', '3h 5m', '24h 35m', '30h 40m', '13h 20m', '2h 35m', '2h 35m', '7h 50m', '26h 35m', '29h 35m', '5h 30m', '16h 5m', '11h 50m', '12h 30m', '15h 5m', '30h 20m', '2h 50m', '26h 20m', '27h 5m', '28h 0m', '21h 15m', '27h 40m', '26h 10m', '4h 50m', '2h 25m', '1h 25m', '4h 35m', '1h 30m', '4h 50m', '27h 35m', '5h 0m', '17h 20m', '10h 0m', '8h 0m', '3h 5m', '2h 35m', '7h 20m', '23h 30m', '26h 55m', '9h 30m', '23h 35m', '28h 50m', '13h 20m', '16h 5m', '13h 55m', '2h 50m', '6h 30m', '12h 55m', '2h 25m', '2h 55m', '2h 55m', '7h 5m', '2h 30m', '2h 40m', '7h 15m', '12h 0m', '2h 50m', '2h 25m', '2h 30m', '21h 5m', '13h 30m', '15h 20m', '2h 55m', '3h 0m', '15h 10m', '7h 35m', '2h 20m', '2h 20m', '13h 50m', '1h 30m', '15h 55m', '6h 0m', '2h 35m', '22h 25m', '7h 40m', '23h 5m', '2h 20m', '2h 30m', '2h 45m', '21h 35m', '2h 15m', '2h 40m', '6h 15m', '23h 5m', '9h 50m', '3h 0m', '11h 5m', '21h 40m', '10h 30m', '3h 5m', '5h 5m', '2h 25m', '6h 0m', '4h 5m', '38h 35m', '2h 15m', '11h 30m', '16h 35m', '14h 25m', '2h 55m', '3h 0m', '6h 20m', '16h 5m', '5h 45m', '2h 50m', '9h 0m', '12h 45m', '2h 55m', '15h 20m', '7h 15m', '10h 25m', '12h 30m', '2h 30m', '2h 30m', '19h 30m', '2h 50m', '22h 0m', '2h 50m', '29h 55m', '13h 5m', '37h 20m', '13h 15m', '3h 0m', '9h 30m', '30h 45m', '12h 10m', '14h 5m', '4h 40m', '8h 5m', '15h 10m', '5h 45m', '1h 30m', '13h 10m', '2h 30m', '8h 55m', '2h 55m', '2h 55m', '7h 5m', '1h 20m', '18h 0m', '28h 40m', '7h 35m', '10h 40m', '24h 50m', '2h 50m', '22h 10m', '11h 40m', '5h 15m', '11h 25m', '13h 30m', '9h 0m', '6h 35m', '2h 55m', '2h 30m', '12h 30m', '2h 40m', '2h 35m', '5h 45m', '22h 10m', '25h 20m', '2h 15m', '33h 15m', '22h 45m', '8h 0m', '7h 40m', '2h 35m', '13h 20m', '3h 5m', '25h 0m', '21h 35m', '26h 55m', '6h 0m', '9h 0m', '2h 50m', '15h 0m', '12h 25m', '2h 50m', '1h 30m', '14h 10m', '2h 45m', '8h 35m', '21h 15m', '1h 20m', '25h 30m', '25h 50m', '25h 40m', '6h 35m', '3h 0m', '2h 50m', '11h 5m', '2h 50m', '2h 25m', '17h 40m', '3h 0m', '3h 0m', '9h 35m', '5h 30m', '17h 55m', '16h 15m', '2h 50m', '9h 40m', '15h 55m', '1h 25m', '5h 20m', '13h 5m', '22h 55m', '2h 25m', '8h 30m', '23h 40m', '2h 45m', '2h 55m', '7h 30m', '13h 55m', '19h 25m', '15h 10m', '10h 10m', '11h 30m', '2h 50m', '6h 15m', '21h 55m', '11h 45m', '8h 0m', '11h 30m', '18h 20m', '2h 25m', '8h 55m', '2h 30m', '17h 40m', '11h 35m', '5h 15m', '1h 30m', '3h 0m', '9h 0m', '2h 45m', '25h 45m', '3h 0m', '10h 35m', '15h 0m', '2h 45m', '2h 15m', '16h 55m', '25h 45m', '14h 55m', '9h 5m', '14h 5m', '8h 0m', '4h 10m', '10h 30m', '16h 45m', '8h 30m', '3h 40m', '23h 50m', '2h 30m', '21h 50m', '10h 15m', '2h 25m', '6h 40m', '10h 15m', '25h 15m', '2h 50m', '11h 10m', '2h 50m', '13h 20m', '12h 45m', '10h 30m', '2h 40m', '7h 35m', '12h 0m', '26h 10m', '14h 45m', '23h 15m', '5h 30m', '2h 35m', '1h 35m', '10h 10m', '10h 50m', '3h 5m', '2h 20m', '11h 45m', '10h 10m', '11h 40m', '28h 15m', '9h 0m', '24h 45m', '19h 10m', '1h 30m', '26h 35m', '12h 15m', '7h 50m', '12h 45m', '2h 40m', '2h 50m', '2h 30m', '1h 20m', '24h 45m', '7h 30m', '9h 0m', '2h 50m', '8h 0m', '14h 40m', '17h 25m', '14h 45m', '2h 45m', '26h 55m', '12h 10m', '2h 50m', '12h 30m', '6h 30m', '14h 25m', '16h 55m', '3h 15m', '2h 30m', '14h 25m', '1h 30m', '25h 45m', '19h 30m', '22h 55m', '11h 5m', '20h 55m', '6h 35m', '21h 20m', '3h 55m', '2h 50m', '12h 45m', '2h 50m', '6h 35m', '2h 20m', '2h 55m', '2h 20m', '12h 0m', '14h 25m', '2h 15m', '13h 30m', '25h 45m', '2h 50m', '24h 50m', '12h 35m', '11h 50m', '26h 55m', '8h 50m', '19h 25m', '12h 15m', '7h 35m', '19h 30m', '5h 20m', '8h 20m', '2h 45m', '28h 50m', '13h 20m', '23h 45m', '19h 0m', '22h 30m', '2h 35m', '2h 15m', '5h 30m', '2h 35m', '39h 5m', '9h 0m', '12h 30m', '4h 25m', '8h 55m', '12h 0m', '9h 15m', '2h 35m', '16h 0m', '27h 40m', '6h 30m', '12h 10m', '5h 15m', '2h 50m', '12h 45m', '8h 5m', '26h 55m', '19h 25m', '6h 30m', '1h 25m', '11h 45m', '10h 40m', '16h 25m', '2h 50m', '13h 30m', '5h 40m', '3h 50m', '1h 30m', '10h 30m', '2h 45m', '2h 35m', '1h 30m', '12h 35m', '5h 45m', '3h 5m', '2h 55m', '5h 50m', '4h 45m', '2h 55m', '12h 15m', '8h 25m', '27h 35m', '2h 30m', '8h 40m', '2h 55m', '3h 0m', '17h 20m', '2h 35m', '4h 55m', '2h 50m', '16h 15m', '5h 45m', '7h 50m', '2h 50m', '27h 35m', '14h 25m', '27h 45m', '6h 25m', '15h 10m', '3h 35m', '12h 15m', '5h 5m', '4h 55m', '3h 5m', '3h 40m', '22h 15m', '10h 30m', '2h 35m', '12h 55m', '2h 35m', '2h 50m', '7h 45m', '28h 5m', '12h 25m', '2h 45m', '25h 5m', '2h 35m', '13h 0m', '20h 35m', '21h 35m', '9h 50m', '12h 45m', '24h 45m', '1h 30m', '13h 45m', '4h 20m', '22h 30m', '2h 55m', '1h 20m', '14h 25m', '7h 15m', '3h 0m', '3h 10m', '3h 5m', '17h 25m', '14h 45m', '6h 10m', '2h 30m', '2h 55m', '2h 55m', '18h 25m', '22h 30m', '8h 0m', '28h 5m', '13h 45m', '2h 55m', '2h 55m', '2h 20m', '8h 25m', '28h 40m', '24h 55m', '1h 30m', '11h 15m', '5h 5m', '1h 30m', '24h 35m', '26h 50m', '9h 20m', '1h 30m', '24h 45m', '10h 30m', '13h 30m', '5h 45m', '26h 25m', '6h 5m', '11h 30m', '16h 0m', '13h 20m', '22h 55m', '3h 10m', '13h 20m', '9h 50m', '1h 30m', '3h 50m', '7h 50m', '5h 55m', '1h 15m', '4h 55m', '9h 30m', '7h 30m', '2h 15m', '2h 30m', '17h 20m', '14h 0m', '2h 20m', '20h 25m', '1h 30m', '2h 45m', '23h 50m', '12h 5m', '2h 45m', '11h 30m', '9h 30m', '0h 5m', '2h 50m', '38h 35m', '5h 30m', '26h 30m', '2h 55m', '1h 30m', '4h 25m', '1h 25m', '1h 25m', '4h 0m', '2h 55m', '5h 5m', '2h 40m', '8h 25m', '2h 50m', '13h 0m', '9h 30m', '20h 25m', '2h 40m', '30h 0m', '14h 50m', '2h 40m', '2h 50m', '2h 35m', '24h 0m', '13h 20m', '9h 35m', '1h 25m', '9h 45m', '16h 45m', '2h 45m', '11h 0m', '8h 15m', '2h 20m', '4h 25m', '24h 35m', '3h 0m', '21h 40m', '1h 35m', '2h 40m', '16h 15m', '12h 55m', '2h 40m', '11h 45m', '2h 20m', '2h 45m', '2h 50m', '3h 15m', '3h 15m', '2h 45m', '17h 5m', '2h 40m', '3h 15m', '2h 50m', '11h 55m', '14h 10m', '2h 35m', '23h 35m', '11h 45m', '2h 55m', '1h 30m', '7h 5m', '2h 20m', '14h 0m', '1h 25m', '10h 40m', '9h 30m', '25h 45m', '12h 0m', '2h 50m', '2h 50m', '21h 20m', '13h 20m', '6h 35m', '3h 15m', '1h 30m', '5h 35m', '8h 0m', '2h 45m', '2h 55m', '9h 50m', '5h 45m', '25h 45m', '2h 50m', '22h 25m', '11h 55m', '7h 30m', '3h 5m', '2h 35m', '7h 30m', '7h 30m', '14h 5m', '14h 45m', '22h 15m', '6h 15m', '6h 30m', '2h 55m', '2h 30m', '1h 15m', '4h 5m', '8h 25m', '14h 50m', '17h 35m', '3h 0m', '2h 50m', '18h 45m', '2h 35m', '1h 25m', '27h 10m', '2h 35m', '5h 45m', '6h 25m', '9h 30m', '8h 50m', '5h 55m', '5h 5m', '6h 35m', '2h 35m', '2h 55m', '2h 50m', '11h 15m', '7h 55m', '9h 0m', '23h 20m', '13h 55m', '10h 25m', '6h 35m', '7h 20m', '10h 25m', '12h 25m', '14h 20m', '12h 5m', '3h 0m', '3h 0m', '17h 25m', '27h 10m', '8h 55m', '15h 0m', '2h 45m', '2h 50m', '11h 0m', '15h 40m', '4h 0m', '23h 45m', '14h 5m', '14h 25m', '2h 55m', '2h 35m', '11h 45m', '13h 30m', '2h 30m', '12h 30m', '5h 55m', '15h 55m', '2h 50m', '2h 35m', '3h 0m', '8h 40m', '3h 0m', '15h 40m', '7h 20m', '2h 50m', '2h 45m', '8h 25m', '4h 25m', '7h 40m', '20h 35m', '7h 0m', '25h 30m', '2h 40m', '13h 45m', '13h 0m', '3h 0m', '26h 10m', '13h 30m', '10h 15m', '14h 55m', '4h 50m', '14h 55m', '2h 55m', '13h 50m', '2h 15m', '2h 45m', '21h 15m', '16h 30m', '3h 0m', '14h 30m', '16h 0m', '10h 55m', '5h 0m', '1h 25m', '6h 30m', '16h 5m', '23h 10m', '27h 40m', '26h 55m', '25h 55m', '16h 5m', '2h 45m', '2h 55m', '13h 10m', '2h 55m', '13h 0m', '10h 40m', '9h 15m', '10h 30m', '23h 35m', '16h 50m', '13h 40m', '22h 0m', '17h 45m', '10h 20m', '1h 30m', '17h 5m', '21h 35m', '12h 10m', '13h 0m', '1h 20m', '8h 55m', '14h 10m', '2h 25m', '3h 0m', '7h 55m', '2h 20m', '16h 5m', '2h 25m', '9h 15m', '13h 10m', '2h 55m', '2h 35m', '3h 0m', '2h 45m', '4h 0m', '5h 0m', '1h 30m', '19h 5m', '2h 30m', '7h 20m', '4h 30m', '1h 30m', '10h 35m', '2h 15m', '1h 30m', '14h 35m', '3h 0m', '2h 20m', '10h 55m', '7h 55m', '27h 35m', '1h 30m', '12h 40m', '13h 50m', '1h 30m', '3h 15m', '6h 35m', '19h 55m', '2h 50m', '5h 45m', '2h 30m', '10h 20m', '8h 55m', '2h 50m', '2h 20m', '3h 0m', '6h 35m', '15h 0m', '4h 50m', '13h 50m', '26h 5m', '2h 50m', '14h 45m', '6h 55m', '26h 30m', '24h 30m', '10h 25m', '9h 35m', '2h 20m', '2h 50m', '2h 30m', '15h 30m', '16h 10m', '2h 20m', '17h 5m', '18h 45m', '5h 0m', '14h 20m', '8h 25m', '5h 10m', '12h 15m', '9h 15m', '9h 50m', '2h 35m', '20h 15m', '16h 50m', '17h 45m', '2h 45m', '1h 30m', '16h 20m', '2h 50m', '9h 50m', '15h 0m', '15h 10m', '8h 20m', '25h 35m', '2h 15m', '14h 0m', '2h 50m', '24h 55m', '14h 30m', '13h 0m', '1h 15m', '7h 35m', '27h 40m', '2h 50m', '7h 20m', '1h 30m', '2h 55m', '2h 30m', '26h 20m', '2h 40m', '3h 0m', '2h 35m', '25h 55m', '6h 30m', '12h 25m', '5h 15m', '21h 10m', '2h 45m', '3h 0m', '29h 5m', '2h 55m', '15h 30m', '7h 5m', '18h 45m', '2h 15m', '2h 40m', '7h 50m', '27h 40m', '24h 40m', '7h 15m', '12h 25m', '6h 15m', '8h 0m', '6h 10m', '21h 40m', '15h 20m', '9h 45m', '23h 50m', '13h 25m', '14h 5m', '13h 0m', '2h 35m', '3h 15m', '9h 30m', '32h 5m', '2h 30m', '2h 30m', '23h 0m', '15h 30m', '11h 35m', '23h 0m', '2h 35m', '1h 30m', '8h 35m', '2h 55m', '2h 45m', '17h 15m', '2h 50m', '3h 0m', '20h 20m', '15h 40m', '2h 50m', '1h 30m', '2h 15m', '32h 30m', '14h 10m', '9h 35m', '20h 10m', '7h 30m', '4h 5m', '11h 15m', '2h 45m', '2h 35m', '9h 20m', '2h 35m', '8h 10m', '2h 55m', '8h 20m', '2h 35m', '3h 0m', '4h 55m', '5h 0m', '8h 55m', '6h 25m', '5h 0m', '24h 5m', '3h 0m', '2h 30m', '20h 10m', '15h 30m', '1h 30m', '1h 20m', '1h 20m', '2h 35m', '1h 30m', '3h 5m', '2h 55m', '4h 25m', '2h 50m', '38h 0m', '12h 55m', '9h 20m', '11h 25m', '2h 55m', '6h 5m', '2h 35m', '2h 50m', '20h 45m', '7h 5m', '15h 0m', '14h 5m', '23h 15m', '14h 50m', '26h 35m', '9h 0m', '2h 45m', '18h 10m', '2h 15m', '13h 20m', '9h 20m', '26h 45m', '3h 5m', '2h 35m', '2h 30m', '9h 40m', '5h 15m', '2h 40m', '12h 45m', '2h 45m', '19h 55m', '11h 15m', '25h 20m', '2h 50m', '2h 55m', '2h 20m', '15h 10m', '26h 20m', '9h 5m', '2h 50m', '10h 25m', '6h 25m', '15h 5m', '13h 30m', '27h 35m', '4h 25m', '14h 30m', '23h 40m', '24h 0m', '13h 20m', '2h 45m', '1h 30m', '2h 50m', '25h 30m', '11h 50m', '28h 0m', '17h 15m', '10h 0m', '2h 20m', '2h 50m', '12h 45m', '12h 25m', '2h 35m', '8h 20m', '2h 25m', '15h 10m', '5h 30m', '13h 30m', '5h 20m', '10h 40m', '17h 5m', '9h 15m', '11h 25m', '2h 30m', '12h 30m', '28h 50m', '2h 55m', '9h 15m', '24h 55m', '3h 40m', '9h 30m', '11h 0m', '2h 45m', '25h 5m', '23h 35m', '1h 30m', '19h 5m', '3h 15m', '29h 35m', '22h 45m', '28h 20m', '2h 35m', '2h 20m', '2h 30m', '2h 35m', '2h 50m', '24h 0m', '2h 50m', '8h 40m', '2h 50m', '16h 0m', '18h 50m', '22h 0m', '32h 5m', '20h 55m', '4h 50m', '2h 50m', '12h 40m', '23h 50m', '14h 55m', '1h 20m', '17h 5m', '1h 25m', '26h 50m', '2h 35m', '3h 0m', '21h 15m', '35h 15m', '7h 30m', '2h 55m', '2h 50m', '7h 5m', '12h 15m', '2h 50m', '2h 20m', '1h 30m', '22h 30m', '8h 20m', '2h 20m', '6h 25m', '18h 25m', '15h 25m', '21h 20m', '9h 15m', '2h 20m', '6h 15m', '2h 35m', '10h 40m', '13h 55m', '1h 25m', '2h 45m', '2h 25m', '2h 45m', '3h 0m', '2h 30m', '26h 30m', '14h 20m', '13h 25m', '8h 45m', '5h 20m', '5h 5m', '2h 45m', '3h 15m', '26h 50m', '12h 45m', '1h 30m', '2h 35m', '2h 55m', '2h 30m', '9h 20m', '26h 10m', '1h 20m', '7h 15m', '2h 35m', '5h 10m', '6h 15m', '8h 5m', '9h 20m', '7h 30m', '7h 45m', '2h 50m', '5h 45m', '12h 10m', '6h 40m', '2h 50m', '27h 10m', '7h 15m', '5h 40m', '13h 45m', '21h 5m', '7h 5m', '3h 15m', '2h 50m', '19h 10m', '14h 0m', '24h 30m', '2h 35m', '15h 15m', '2h 20m', '2h 50m', '11h 55m', '19h 30m', '8h 55m', '12h 10m', '2h 45m', '24h 25m', '2h 50m', '19h 45m', '9h 15m', '1h 30m', '2h 50m', '2h 40m', '20h 10m', '9h 50m', '18h 45m', '2h 20m', '2h 45m', '5h 35m', '2h 35m', '7h 35m', '7h 20m', '5h 30m', '1h 25m', '2h 45m', '2h 25m', '5h 20m', '31h 55m', '7h 40m', '28h 20m', '7h 25m', '21h 15m', '16h 5m', '2h 40m', '9h 50m', '2h 45m', '21h 40m', '2h 55m', '11h 0m', '21h 25m', '2h 50m', '28h 40m', '14h 20m', '20h 15m', '12h 10m', '10h 25m', '13h 30m', '5h 10m', '9h 0m', '2h 55m', '11h 0m', '30h 20m', '2h 50m', '4h 40m', '27h 35m', '3h 10m', '2h 50m', '28h 20m', '23h 50m', '12h 45m', '22h 0m', '5h 20m', '2h 55m', '8h 55m', '2h 55m', '4h 45m', '8h 5m', '2h 50m', '9h 0m', '2h 50m', '23h 40m', '2h 20m', '2h 30m', '17h 30m', '11h 30m', '2h 40m', '16h 20m', '15h 20m', '1h 25m', '15h 25m', '2h 50m', '3h 0m', '16h 45m', '18h 10m', '11h 15m', '12h 0m', '11h 30m', '3h 0m', '3h 40m', '2h 35m', '21h 15m', '10h 50m', '3h 0m', '16h 15m', '17h 35m', '9h 35m', '9h 0m', '10h 20m', '2h 35m', '17h 15m', '2h 55m', '2h 15m', '19h 25m', '16h 15m', '5h 5m', '2h 35m', '16h 55m', '8h 40m', '21h 35m', '5h 55m', '13h 30m', '9h 30m', '19h 55m', '2h 45m', '23h 50m', '20h 35m', '37h 25m', '2h 30m', '2h 50m', '15h 45m', '14h 5m', '2h 30m', '8h 25m', '7h 5m', '11h 30m', '23h 15m', '5h 45m', '1h 30m', '5h 30m', '2h 35m', '5h 55m', '11h 5m', '11h 40m', '3h 15m', '3h 5m', '24h 0m', '17h 35m', '22h 55m', '2h 40m', '15h 0m', '1h 20m', '4h 40m', '8h 55m', '16h 5m', '24h 30m', '2h 20m', '8h 40m', '4h 55m', '12h 55m', '1h 30m', '12h 30m', '2h 35m', '17h 55m', '24h 35m', '7h 30m', '2h 55m', '21h 15m', '2h 30m', '3h 0m', '37h 20m', '23h 30m', '13h 15m', '2h 55m', '9h 50m', '2h 50m', '1h 30m', '1h 15m', '21h 35m', '2h 50m', '6h 40m', '13h 25m', '10h 15m', '15h 10m', '18h 20m', '2h 15m', '26h 35m', '26h 25m', '6h 15m', '2h 55m', '13h 20m', '2h 50m', '7h 30m', '1h 30m', '15h 25m', '1h 25m', '7h 30m', '22h 55m', '20h 10m', '3h 15m', '11h 45m', '2h 30m', '9h 10m', '2h 45m', '15h 45m', '18h 25m', '11h 25m', '27h 45m', '15h 25m', '1h 30m', '5h 15m', '7h 15m', '9h 15m', '16h 5m', '25h 40m', '23h 30m', '2h 50m', '9h 0m', '3h 0m', '16h 15m', '2h 50m', '29h 20m', '2h 25m', '2h 30m', '16h 5m', '23h 10m', '2h 45m', '6h 20m', '15h 30m', '12h 10m', '1h 30m', '10h 25m', '12h 40m', '8h 35m', '7h 20m', '23h 40m', '1h 25m', '15h 30m', '16h 50m', '2h 50m', '18h 0m', '7h 20m', '17h 55m', '2h 50m', '38h 15m', '16h 45m', '9h 50m', '6h 35m', '13h 45m', '27h 45m', '6h 20m', '5h 45m', '2h 55m', '5h 20m', '1h 30m', '12h 0m', '15h 10m', '5h 5m', '2h 50m', '7h 20m', '14h 25m', '2h 35m', '3h 0m', '2h 55m', '25h 50m', '16h 50m', '2h 35m', '38h 20m', '14h 0m', '16h 10m', '11h 15m', '13h 15m', '1h 30m', '2h 50m', '7h 30m', '9h 25m', '3h 0m', '5h 15m', '24h 25m', '3h 0m', '5h 30m', '8h 55m', '18h 30m', '22h 55m', '2h 15m', '2h 30m', '10h 25m', '18h 25m', '2h 50m', '8h 20m', '27h 0m', '3h 40m', '14h 25m', '2h 50m', '13h 0m', '2h 20m', '16h 40m', '2h 40m', '2h 35m', '1h 30m', '1h 30m', '2h 50m', '2h 35m', '26h 40m', '7h 30m', '2h 15m', '18h 45m', '20h 15m', '2h 40m', '2h 45m', '5h 25m', '12h 0m', '12h 0m', '5h 15m', '2h 55m', '9h 30m', '2h 30m', '19h 15m', '2h 55m', '5h 50m', '8h 15m', '3h 0m', '26h 55m', '2h 25m', '12h 55m', '14h 5m', '14h 25m', '2h 50m', '2h 55m', '10h 10m', '1h 15m', '23h 25m', '3h 5m', '2h 50m', '8h 40m', '11h 30m', '4h 50m', '29h 55m', '7h 5m', '18h 45m', '30h 20m', '8h 10m', '2h 35m', '2h 30m', '5h 10m', '11h 0m', '10h 15m', '28h 10m', '3h 40m', '2h 50m', '1h 20m', '2h 50m', '2h 30m', '12h 15m', '8h 35m', '1h 35m', '27h 0m', '12h 45m', '13h 30m', '1h 30m', '26h 55m', '5h 25m', '1h 25m', '28h 50m', '11h 45m', '4h 35m', '20h 0m', '14h 55m', '2h 35m', '2h 15m', '2h 50m', '28h 20m', '16h 0m', '23h 15m', '2h 40m', '5h 35m', '2h 20m', '30h 20m', '6h 0m', '16h 50m', '7h 0m', '5h 45m', '2h 50m', '33h 20m', '13h 30m', '21h 35m', '16h 50m', '12h 10m', '2h 40m', '16h 10m', '6h 25m', '19h 55m', '6h 30m', '14h 30m', '11h 50m', '10h 30m', '7h 35m', '23h 30m', '2h 50m', '27h 45m', '9h 30m', '7h 20m', '2h 35m', '3h 0m', '7h 30m', '2h 35m', '27h 0m', '12h 0m', '8h 0m', '26h 35m', '9h 15m', '8h 30m', '16h 50m', '28h 10m', '2h 55m', '2h 50m', '12h 30m', '15h 10m', '1h 30m', '8h 35m', '23h 50m', '16h 50m', '9h 30m', '27h 0m', '2h 20m', '9h 30m', '2h 50m', '2h 50m', '2h 55m', '4h 0m', '22h 5m', '3h 0m', '19h 30m', '21h 35m', '2h 45m', '21h 5m', '27h 10m', '2h 30m', '5h 45m', '2h 45m', '2h 50m', '19h 30m', '2h 55m', '3h 10m', '2h 45m', '11h 35m', '1h 25m', '2h 55m', '2h 55m', '11h 0m', '13h 55m', '2h 45m', '6h 35m', '16h 10m', '2h 20m', '22h 55m', '2h 15m', '1h 30m', '2h 50m', '27h 0m', '3h 40m', '23h 45m', '12h 45m', '7h 20m', '24h 55m', '25h 10m', '10h 0m', '5h 55m', '25h 20m', '10h 20m', '6h 40m', '3h 0m', '25h 30m', '23h 0m', '2h 25m', '12h 40m', '20h 45m', '26h 15m', '2h 25m', '7h 55m', '3h 0m', '2h 55m', '11h 45m', '2h 55m', '7h 50m', '1h 30m', '14h 0m', '2h 50m', '13h 15m', '26h 20m', '12h 0m', '37h 25m', '10h 40m', '9h 35m', '5h 30m', '25h 30m', '1h 30m', '2h 20m', '2h 35m', '7h 5m', '9h 15m', '2h 30m', '1h 30m', '1h 20m', '5h 45m', '8h 25m', '6h 0m', '3h 0m', '2h 20m', '2h 55m', '8h 25m', '2h 35m', '7h 5m', '9h 5m', '6h 20m', '2h 55m', '20h 10m', '2h 25m', '10h 15m', '26h 50m', '14h 20m', '10h 20m', '13h 0m', '5h 0m', '27h 30m', '8h 55m', '24h 0m', '26h 55m', '16h 5m', '18h 55m', '28h 15m', '24h 50m', '3h 10m', '7h 20m', '2h 55m', '2h 25m', '2h 30m', '23h 55m', '11h 5m', '6h 15m', '16h 5m', '1h 25m', '20h 25m', '7h 35m', '5h 10m', '23h 10m', '1h 30m', '12h 45m', '8h 40m', '36h 10m', '38h 35m', '21h 25m', '12h 15m', '12h 40m', '8h 0m', '10h 30m', '26h 20m', '13h 25m', '24h 0m', '9h 5m', '8h 55m', '2h 50m', '13h 20m', '24h 0m', '34h 5m', '15h 25m', '23h 15m', '25h 45m', '10h 25m', '10h 0m', '4h 35m', '2h 55m', '27h 35m', '2h 50m', '1h 30m', '3h 15m', '8h 55m', '6h 55m', '12h 10m', '6h 5m', '16h 25m', '5h 15m', '13h 30m', '13h 20m', '2h 55m', '23h 0m', '20h 0m', '25h 55m', '23h 0m', '7h 15m', '23h 20m', '26h 55m', '8h 10m', '12h 45m', '5h 0m', '2h 15m', '10h 15m', '8h 45m', '7h 15m', '5h 55m', '4h 30m', '2h 20m', '11h 20m', '9h 15m', '13h 30m', '3h 0m', '2h 50m', '2h 20m', '2h 50m', '2h 50m', '27h 20m', '5h 5m', '14h 0m', '12h 20m', '26h 40m', '9h 35m', '2h 35m', '1h 25m', '2h 35m', '23h 40m', '28h 5m', '2h 50m', '16h 5m', '3h 15m', '20h 10m', '12h 35m', '3h 0m', '11h 5m', '16h 5m', '22h 30m', '24h 30m', '15h 30m', '12h 15m', '14h 20m', '22h 0m', '22h 40m', '14h 10m', '15h 45m', '2h 20m', '3h 0m', '14h 35m', '24h 50m', '2h 50m', '5h 15m', '4h 50m', '13h 30m', '12h 0m', '2h 30m', '7h 15m', '10h 25m', '5h 15m', '11h 25m', '9h 0m', '25h 45m', '26h 15m', '8h 40m', '2h 50m', '3h 0m', '2h 30m', '2h 35m', '2h 35m', '2h 15m', '12h 25m', '13h 30m', '2h 40m', '7h 20m', '3h 0m', '5h 40m', '2h 25m', '3h 0m', '4h 0m', '2h 35m', '9h 15m', '2h 55m', '3h 0m', '4h 30m', '17h 35m', '13h 15m', '24h 55m', '7h 15m', '2h 30m', '22h 0m', '2h 50m', '11h 30m', '2h 55m', '12h 25m', '2h 20m', '14h 0m', '30h 30m', '21h 20m', '9h 25m', '19h 30m', '29h 20m', '7h 15m', '8h 15m', '2h 55m', '13h 25m', '1h 15m', '24h 15m', '10h 20m', '20h 55m', '5h 15m', '1h 30m', '2h 50m', '9h 0m', '13h 30m', '2h 45m', '14h 25m', '2h 50m', '21h 5m', '18h 45m', '2h 50m', '6h 55m', '6h 35m', '2h 50m', '5h 30m', '13h 20m', '9h 0m', '10h 15m', '13h 20m', '2h 45m', '2h 45m', '13h 45m', '9h 20m', '2h 20m', '2h 40m', '8h 55m', '2h 50m', '2h 15m', '2h 55m', '24h 30m', '23h 10m', '22h 55m', '9h 20m', '23h 10m', '3h 5m', '18h 0m', '10h 15m', '2h 35m', '25h 25m', '16h 15m', '2h 45m', '2h 55m', '27h 35m', '9h 55m', '2h 40m', '1h 30m', '18h 30m', '21h 25m', '1h 20m', '3h 5m', '2h 30m', '3h 0m', '2h 30m', '25h 35m', '13h 25m', '2h 15m', '2h 15m', '7h 55m', '2h 50m', '10h 0m', '1h 30m', '17h 45m', '2h 45m', '3h 0m', '5h 5m', '15h 0m', '11h 30m', '4h 50m', '11h 50m', '2h 20m', '2h 40m', '1h 25m', '2h 55m', '1h 30m', '3h 10m', '2h 20m', '2h 40m', '2h 45m', '1h 30m', '25h 55m', '2h 45m', '17h 5m', '17h 20m', '23h 0m', '19h 5m', '2h 55m', '8h 25m', '2h 35m', '26h 20m', '2h 25m', '9h 30m', '2h 35m', '24h 40m', '18h 25m', '8h 0m', '2h 20m', '2h 45m', '1h 30m', '2h 20m', '16h 0m', '16h 10m', '2h 55m', '4h 30m', '16h 15m', '5h 30m', '2h 20m', '21h 15m', '5h 0m', '24h 30m', '2h 55m', '11h 45m', '5h 55m', '26h 25m', '38h 0m', '13h 55m', '6h 15m', '17h 25m', '2h 20m', '14h 30m', '2h 20m', '1h 25m', '8h 10m', '7h 55m', '23h 10m', '6h 45m', '2h 50m', '2h 30m', '27h 20m', '2h 45m', '3h 0m', '27h 25m', '10h 15m', '6h 5m', '23h 40m', '9h 40m', '23h 40m', '5h 30m', '2h 45m', '9h 30m', '7h 50m', '22h 30m', '25h 35m', '6h 5m', '41h 20m', '26h 0m', '9h 0m', '22h 10m', '7h 50m', '2h 45m', '13h 30m', '6h 5m', '8h 40m', '11h 20m', '2h 45m', '8h 25m', '5h 30m', '13h 30m', '8h 40m', '7h 30m', '6h 15m', '30h 30m', '15h 55m', '26h 55m', '2h 30m', '14h 35m', '26h 50m', '2h 45m', '2h 50m', '1h 25m', '2h 20m', '16h 50m', '2h 50m', '3h 0m', '4h 40m', '2h 45m', '10h 50m', '4h 55m', '1h 25m', '16h 50m', '27h 0m', '6h 0m', '7h 30m', '11h 25m', '24h 50m', '24h 45m', '8h 5m', '9h 30m', '15h 55m', '13h 20m', '1h 30m', '18h 20m', '2h 20m', '2h 45m', '2h 15m', '5h 30m', '12h 20m', '5h 35m', '26h 0m', '2h 20m', '19h 30m', '2h 50m', '11h 0m', '13h 50m', '3h 15m', '3h 0m', '10h 30m', '2h 50m', '26h 50m', '26h 40m', '23h 45m', '4h 40m', '1h 25m', '5h 20m', '32h 30m', '5h 0m', '27h 5m', '7h 55m', '25h 45m', '5h 0m', '27h 35m', '4h 55m', '18h 20m', '14h 30m', '23h 15m', '2h 35m', '9h 30m', '23h 30m', '2h 20m', '10h 20m', '1h 30m', '8h 25m', '15h 25m', '6h 20m', '2h 55m', '3h 5m', '5h 30m', '5h 30m', '22h 45m', '12h 5m', '2h 30m', '16h 5m', '23h 45m', '4h 35m', '26h 0m', '7h 15m', '24h 0m', '16h 5m', '14h 5m', '23h 15m', '10h 0m', '3h 50m', '20h 10m', '2h 40m', '9h 25m', '2h 15m', '2h 45m', '27h 20m', '15h 10m', '2h 35m', '12h 40m', '25h 15m', '18h 20m', '20h 5m', '2h 40m', '5h 45m', '12h 20m', '26h 25m', '5h 45m', '3h 0m', '18h 50m', '27h 10m', '1h 20m', '15h 40m', '6h 30m', '12h 55m', '5h 45m', '6h 55m', '10h 30m', '20h 25m', '20h 10m', '9h 35m', '2h 35m', '1h 25m', '5h 30m', '16h 50m', '2h 45m', '26h 40m', '11h 0m', '13h 30m', '28h 5m', '11h 0m', '2h 50m', '9h 0m', '15h 15m', '2h 50m', '2h 50m', '5h 0m', '3h 0m', '1h 30m', '2h 45m', '5h 30m', '5h 10m', '33h 15m', '7h 35m', '12h 30m', '21h 50m', '18h 45m', '2h 45m', '24h 45m', '2h 50m', '2h 35m', '5h 5m', '2h 45m', '29h 5m', '14h 25m', '13h 15m', '2h 55m', '7h 45m', '16h 5m', '13h 55m', '11h 30m', '23h 55m', '1h 30m', '21h 35m', '19h 40m', '1h 30m', '10h 20m', '2h 20m', '1h 25m', '2h 50m', '4h 40m', '2h 20m', '24h 55m', '2h 40m', '10h 20m', '9h 30m', '26h 0m', '18h 45m', '1h 30m', '2h 15m', '14h 0m', '8h 45m', '23h 50m', '2h 50m', '19h 5m', '18h 45m', '15h 20m', '1h 30m', '10h 20m', '26h 0m', '2h 20m', '8h 0m', '10h 30m', '1h 25m', '2h 20m', '2h 50m', '9h 30m', '5h 15m', '14h 45m', '2h 45m', '10h 20m', '2h 50m', '9h 25m', '26h 35m', '38h 15m', '13h 25m', '7h 35m', '11h 15m', '1h 25m', '2h 50m', '8h 20m', '3h 5m', '23h 40m', '2h 20m', '22h 55m', '23h 40m', '5h 40m', '2h 30m', '20h 55m', '3h 5m', '13h 20m', '2h 20m', '1h 25m', '2h 35m', '3h 40m', '26h 55m', '7h 30m', '11h 0m', '27h 20m', '2h 50m', '38h 0m', '19h 25m', '13h 30m', '3h 0m', '27h 0m', '4h 55m', '6h 0m', '10h 25m', '12h 30m', '3h 0m', '8h 5m', '2h 20m', '13h 20m', '5h 25m', '19h 5m', '2h 45m', '14h 30m', '24h 5m', '1h 30m', '26h 55m', '2h 20m', '23h 40m', '8h 30m', '23h 30m', '8h 0m', '30h 20m', '2h 50m', '23h 30m', '22h 55m', '29h 55m', '5h 15m', '15h 20m', '6h 25m', '10h 40m', '2h 45m', '23h 40m', '16h 0m', '10h 0m', '4h 50m', '5h 5m', '20h 10m', '14h 55m', '30h 30m', '2h 30m', '2h 55m', '1h 25m', '2h 50m', '11h 5m', '5h 5m', '30h 30m', '2h 50m', '13h 25m', '3h 0m', '10h 15m', '20h 55m', '10h 45m', '8h 0m', '12h 10m', '21h 25m', '8h 25m', '9h 10m', '8h 10m', '4h 55m', '21h 15m', '3h 0m', '14h 20m', '2h 35m', '6h 35m', '9h 30m', '10h 20m', '1h 30m', '8h 10m', '2h 45m', '14h 5m', '16h 15m', '21h 20m', '5h 20m', '6h 20m', '6h 25m', '2h 30m', '13h 55m', '2h 35m', '8h 55m', '22h 30m', '13h 30m', '13h 30m', '2h 20m', '3h 5m', '5h 0m', '5h 0m', '10h 25m', '11h 55m', '14h 5m', '18h 45m', '30h 20m', '26h 40m', '6h 20m', '8h 40m', '24h 20m', '2h 55m', '6h 40m', '16h 20m', '2h 45m', '19h 55m', '6h 5m', '3h 0m', '2h 55m', '33h 15m', '2h 35m', '2h 35m', '3h 0m', '2h 30m', '15h 20m', '2h 30m', '18h 15m', '9h 20m', '2h 30m', '2h 20m', '7h 15m', '6h 25m', '27h 20m', '8h 55m', '26h 20m', '13h 30m', '7h 30m', '11h 50m', '4h 25m', '6h 35m', '22h 15m', '1h 30m', '1h 35m', '2h 20m', '14h 25m', '2h 30m', '22h 55m', '2h 20m', '9h 50m', '26h 10m', '18h 0m', '16h 5m', '2h 45m', '14h 55m', '5h 25m', '8h 40m', '2h 45m', '22h 25m', '13h 20m', '3h 15m', '2h 30m', '1h 25m', '6h 20m', '7h 35m', '23h 35m', '2h 20m', '19h 15m', '2h 55m', '9h 35m', '22h 55m', '3h 0m', '2h 30m', '1h 30m', '1h 30m', '30h 30m', '12h 30m', '25h 5m', '6h 0m', '21h 15m', '10h 30m', '2h 20m', '15h 10m', '2h 50m', '7h 5m', '5h 30m', '2h 40m', '7h 40m', '2h 45m', '2h 35m', '2h 35m', '2h 20m', '2h 35m', '1h 30m', '2h 25m', '13h 25m', '1h 30m', '6h 5m', '10h 50m', '18h 20m', '14h 35m', '2h 50m', '11h 5m', '2h 30m', '23h 50m', '26h 55m', '3h 0m', '7h 35m', '31h 50m', '3h 15m', '7h 15m', '15h 10m', '18h 45m', '18h 20m', '25h 55m', '1h 30m', '23h 30m', '5h 0m', '2h 45m', '7h 50m', '38h 20m', '3h 10m', '5h 10m', '8h 0m', '3h 5m', '7h 35m', '9h 50m', '20h 10m', '21h 35m', '2h 20m', '2h 55m', '2h 50m', '4h 40m', '12h 30m', '10h 40m', '22h 45m', '16h 45m', '2h 35m', '24h 55m', '5h 30m', '2h 35m', '26h 35m', '5h 0m', '21h 15m', '1h 30m', '9h 40m', '12h 25m', '2h 50m', '9h 45m', '5h 30m', '9h 50m', '4h 5m', '18h 45m', '2h 50m', '2h 35m', '2h 30m', '10h 5m', '16h 5m', '1h 30m', '5h 0m', '4h 55m', '2h 45m', '2h 45m', '14h 0m', '9h 15m', '12h 0m', '1h 30m', '2h 45m', '21h 25m', '42h 45m', '2h 55m', '2h 45m', '38h 20m', '1h 30m', '1h 30m', '2h 45m', '23h 40m', '2h 55m', '2h 40m', '12h 15m', '8h 15m', '2h 50m', '1h 25m', '11h 0m', '3h 15m', '9h 30m', '4h 55m', '6h 0m', '1h 30m', '10h 10m', '1h 30m', '6h 40m', '2h 35m', '16h 25m', '22h 45m', '7h 50m', '26h 20m', '2h 50m', '19h 30m', '3h 5m', '3h 15m', '2h 20m', '9h 10m', '2h 15m', '6h 0m', '9h 50m', '29h 50m', '6h 25m', '2h 20m', '6h 15m', '2h 40m', '6h 15m', '24h 35m', '5h 45m', '3h 15m', '14h 55m', '3h 40m', '8h 5m', '13h 25m', '1h 25m', '2h 50m', '15h 35m', '7h 20m', '13h 55m', '2h 30m', '2h 50m', '3h 15m', '2h 40m', '26h 15m', '2h 50m', '6h 15m', '3h 0m', '4h 40m', '1h 25m', '12h 0m', '13h 10m', '9h 0m', '6h 10m', '3h 25m', '1h 30m', '2h 30m', '3h 15m', '1h 30m', '10h 15m', '8h 45m', '2h 45m', '5h 0m', '2h 45m', '5h 55m', '3h 35m', '3h 0m', '17h 40m', '2h 50m', '9h 10m', '9h 45m', '2h 55m', '26h 55m', '11h 55m', '11h 30m', '20h 55m', '5h 5m', '19h 45m', '17h 55m', '26h 0m', '11h 45m', '12h 55m', '13h 20m', '13h 30m', '7h 35m', '3h 15m', '18h 25m', '24h 15m', '2h 50m', '2h 40m', '2h 20m', '1h 30m', '2h 50m', '1h 30m', '10h 20m', '12h 25m', '8h 40m', '5h 25m', '2h 55m', '20h 55m', '21h 25m', '1h 30m', '24h 40m', '2h 50m', '2h 15m', '23h 30m', '29h 20m', '5h 15m', '7h 5m', '7h 0m', '1h 30m', '7h 5m', '19h 25m', '29h 35m', '17h 5m', '12h 0m', '2h 45m', '8h 40m', '6h 5m', '13h 20m', '2h 25m', '9h 50m', '13h 40m', '18h 0m', '6h 30m', '8h 30m', '10h 40m', '9h 30m', '4h 30m', '2h 30m', '10h 25m', '2h 45m', '12h 35m', '27h 45m', '21h 45m', '29h 20m', '2h 30m', '15h 30m', '23h 0m', '16h 45m', '4h 40m', '7h 30m', '13h 30m', '10h 35m', '17h 5m', '27h 50m', '13h 25m', '13h 0m', '11h 0m', '15h 5m', '14h 55m', '23h 35m', '23h 35m', '13h 20m', '2h 25m', '2h 30m', '8h 20m', '1h 30m', '14h 10m', '2h 20m', '7h 15m', '5h 25m', '9h 0m', '14h 50m', '1h 25m', '3h 0m', '12h 55m', '2h 35m', '6h 15m', '26h 0m', '1h 30m', '14h 5m', '8h 0m', '12h 10m', '10h 30m', '3h 0m', '5h 15m', '38h 0m', '23h 30m', '27h 50m', '2h 45m', '6h 35m', '8h 0m', '16h 45m', '7h 50m', '10h 30m', '2h 50m', '4h 50m', '3h 0m', '26h 35m', '9h 50m', '2h 50m', '1h 30m', '6h 35m', '12h 10m', '9h 50m', '25h 20m', '37h 10m', '11h 40m', '1h 30m', '2h 35m', '7h 5m', '2h 35m', '19h 55m', '1h 25m', '11h 5m', '4h 40m', '13h 30m', '7h 35m', '1h 25m', '1h 30m', '13h 50m', '8h 35m', '3h 15m', '10h 25m', '2h 20m', '23h 30m', '11h 0m', '18h 0m', '2h 15m', '2h 15m', '12h 35m', '14h 20m', '2h 45m', '15h 40m', '2h 45m', '2h 30m', '2h 20m', '9h 15m', '18h 40m', '2h 50m', '25h 25m', '1h 20m', '2h 30m', '2h 50m', '3h 15m', '25h 45m', '2h 35m', '2h 35m', '8h 10m', '23h 40m', '11h 45m', '9h 20m', '14h 35m', '21h 35m', '6h 25m', '5h 35m', '25h 55m', '10h 15m', '1h 20m', '10h 20m', '2h 15m', '3h 0m', '23h 45m', '13h 15m', '3h 15m', '9h 50m', '18h 20m', '29h 20m', '7h 45m', '2h 25m', '7h 35m', '2h 20m', '3h 10m', '6h 25m', '16h 45m', '10h 25m', '13h 0m', '2h 55m', '2h 35m', '2h 50m', '13h 30m', '13h 15m', '13h 30m', '36h 10m', '2h 25m', '2h 25m', '2h 50m', '12h 10m', '8h 25m', '22h 15m', '3h 5m', '2h 35m', '22h 55m', '2h 15m', '26h 20m', '27h 40m', '16h 45m', '2h 50m', '12h 30m', '5h 15m', '2h 50m', '7h 30m', '11h 55m', '13h 5m', '7h 20m', '2h 20m', '18h 0m', '8h 40m', '2h 50m', '20h 10m', '8h 0m', '27h 20m', '2h 20m', '2h 20m', '38h 0m', '7h 35m', '5h 45m', '2h 50m', '2h 45m', '27h 35m', '3h 0m', '14h 25m', '9h 20m', '9h 50m', '2h 20m', '6h 30m', '7h 35m', '2h 55m', '2h 50m', '17h 55m', '1h 20m', '21h 25m', '1h 30m', '1h 30m', '5h 20m', '10h 0m', '12h 10m', '16h 45m', '2h 50m', '10h 40m', '27h 35m', '25h 50m', '16h 10m', '30h 30m', '20h 10m', '2h 50m', '30h 30m', '26h 55m', '3h 15m', '6h 40m', '3h 0m', '8h 0m', '27h 35m', '2h 50m', '25h 40m', '9h 35m', '2h 30m', '2h 20m', '10h 15m', '7h 5m', '1h 30m', '11h 30m', '2h 45m', '13h 15m', '14h 30m', '7h 5m', '12h 45m', '2h 50m', '2h 50m', '1h 30m', '25h 45m', '2h 30m', '27h 40m', '22h 35m', '2h 55m', '3h 5m', '2h 55m', '6h 30m', '14h 20m', '20h 0m', '7h 45m', '18h 45m', '6h 40m', '2h 55m', '14h 20m', '13h 0m', '2h 20m', '16h 55m', '5h 45m', '19h 20m', '3h 5m', '27h 45m', '2h 45m', '2h 20m', '12h 45m', '17h 45m', '3h 0m', '16h 35m', '26h 10m', '7h 35m', '13h 0m', '2h 40m', '3h 0m', '4h 40m', '23h 50m', '8h 10m', '29h 20m', '2h 45m', '2h 50m', '2h 35m', '19h 5m', '9h 30m', '8h 40m', '22h 5m', '26h 0m', '2h 35m', '7h 50m', '10h 45m', '10h 30m', '14h 5m', '13h 20m', '2h 50m', '1h 30m', '19h 40m', '2h 55m', '23h 20m', '2h 40m', '16h 15m', '1h 30m', '9h 15m', '20h 35m', '2h 15m', '2h 25m', '3h 5m', '2h 50m', '5h 40m', '18h 40m', '25h 0m', '13h 15m', '2h 30m', '8h 20m', '7h 0m', '25h 50m', '2h 55m', '9h 10m', '8h 40m', '2h 50m', '21h 45m', '6h 40m', '1h 30m', '7h 20m', '4h 0m', '14h 5m', '12h 15m', '30h 30m', '27h 0m', '16h 10m', '9h 0m', '5h 55m', '1h 25m', '3h 0m', '7h 5m', '2h 50m', '6h 5m', '2h 45m', '15h 20m', '23h 35m', '23h 50m', '13h 50m', '2h 35m', '4h 5m', '7h 40m', '2h 20m', '9h 35m', '9h 35m', '11h 25m', '12h 10m', '2h 55m', '1h 30m', '3h 10m', '12h 25m', '11h 45m', '11h 5m', '9h 45m', '17h 25m', '15h 0m', '6h 20m', '12h 45m', '1h 30m', '25h 45m', '21h 0m', '9h 20m', '22h 15m', '8h 15m', '12h 30m', '8h 30m', '11h 50m', '10h 30m', '12h 10m', '5h 0m', '2h 35m', '17h 25m', '5h 10m', '9h 30m', '10h 40m', '8h 40m', '9h 40m', '2h 15m', '11h 15m', '23h 30m', '8h 40m', '6h 20m', '23h 50m', '12h 55m', '5h 0m', '13h 15m', '2h 30m', '7h 0m', '6h 35m', '18h 10m', '21h 25m', '24h 55m', '2h 50m', '13h 15m', '22h 10m', '2h 45m', '14h 25m', '2h 20m', '2h 30m', '7h 30m', '5h 45m', '21h 25m', '1h 30m', '7h 15m', '12h 30m', '23h 15m', '12h 5m', '10h 55m', '25h 20m', '1h 30m', '2h 55m', '4h 0m', '20h 10m', '13h 0m', '2h 30m', '7h 5m', '19h 0m', '26h 55m', '12h 20m', '10h 50m', '9h 45m', '9h 35m', '18h 45m', '13h 0m', '2h 40m', '2h 30m', '2h 30m', '5h 55m', '8h 30m', '21h 0m', '2h 50m', '3h 15m', '14h 20m', '8h 40m', '21h 55m', '8h 40m', '2h 50m', '11h 45m', '7h 15m', '5h 0m', '6h 40m', '24h 0m', '5h 25m', '27h 0m', '7h 0m', '10h 5m', '3h 0m', '9h 10m', '15h 0m', '2h 35m', '5h 0m', '1h 20m', '1h 30m', '24h 40m', '2h 45m', '18h 45m', '2h 50m', '2h 40m', '12h 0m', '11h 5m', '26h 20m', '21h 25m', '5h 45m', '14h 0m', '1h 30m', '2h 50m', '22h 35m', '2h 55m', '17h 5m', '1h 30m', '14h 35m', '2h 35m', '12h 45m', '3h 0m', '12h 35m', '2h 20m', '17h 50m', '12h 20m', '14h 25m', '29h 20m', '2h 50m', '25h 50m', '22h 55m', '13h 0m', '22h 35m', '7h 20m', '2h 20m', '13h 20m', '8h 40m', '12h 25m', '2h 50m', '2h 45m', '2h 35m', '3h 15m', '30h 55m', '9h 30m', '13h 20m', '15h 20m', '23h 40m', '5h 45m', '8h 20m', '1h 25m', '2h 20m', '20h 55m', '3h 0m', '9h 20m', '1h 25m', '20h 5m', '22h 25m', '22h 30m', '9h 50m', '18h 10m', '2h 20m', '11h 45m', '11h 0m', '1h 25m', '26h 10m', '23h 40m', '15h 20m', '11h 0m', '2h 50m', '5h 25m', '19h 40m', '15h 10m', '1h 30m', '27h 5m', '32h 5m', '13h 30m', '26h 10m', '23h 40m', '6h 55m', '3h 0m', '2h 30m', '15h 25m', '2h 35m', '2h 50m', '6h 30m', '25h 40m', '2h 50m', '2h 35m', '8h 30m', '12h 15m', '7h 35m', '10h 30m', '2h 30m', '9h 30m', '8h 35m', '16h 15m', '3h 15m', '5h 15m', '2h 50m', '2h 50m', '16h 0m', '22h 55m', '6h 55m', '2h 35m', '2h 35m', '9h 15m', '26h 10m', '12h 0m', '21h 40m', '2h 45m', '12h 0m', '27h 20m', '23h 50m', '12h 30m', '9h 10m', '12h 20m', '1h 30m', '5h 30m', '28h 0m', '3h 0m', '1h 30m', '2h 45m', '5h 20m', '26h 30m', '26h 55m', '11h 5m', '2h 30m', '1h 30m', '7h 30m', '29h 5m', '17h 35m', '24h 55m', '29h 20m', '3h 0m', '2h 40m', '5h 25m', '23h 50m', '30h 40m', '2h 45m', '11h 50m', '2h 35m', '20h 25m', '27h 0m', '2h 40m', '1h 30m', '1h 30m', '2h 30m', '2h 35m', '2h 50m', '2h 20m', '2h 45m', '2h 25m', '5h 40m', '27h 40m', '2h 20m', '5h 0m', '2h 35m', '11h 30m', '26h 15m', '16h 45m', '18h 10m', '1h 30m', '13h 25m', '12h 0m', '2h 15m', '15h 10m', '6h 0m', '23h 15m', '7h 15m', '11h 30m', '12h 35m', '10h 0m', '3h 0m', '23h 50m', '2h 40m', '19h 0m', '1h 30m', '2h 50m', '2h 50m', '14h 40m', '2h 45m', '1h 30m', '30h 30m', '6h 0m', '29h 30m', '2h 30m', '15h 10m', '26h 50m', '28h 5m', '10h 10m', '7h 30m', '8h 40m', '34h 30m', '26h 55m', '2h 55m', '13h 15m', '1h 35m', '2h 45m', '2h 40m', '2h 35m', '27h 5m', '20h 35m', '3h 0m', '3h 15m', '4h 30m', '3h 5m', '11h 0m', '27h 5m', '6h 35m', '26h 10m', '23h 55m', '2h 30m', '13h 30m', '6h 30m', '2h 35m', '5h 30m', '12h 10m', '18h 20m', '22h 55m', '2h 45m', '11h 30m', '8h 20m', '4h 45m', '28h 0m', '2h 20m', '3h 0m', '9h 20m', '22h 10m', '2h 45m', '8h 25m', '15h 20m', '2h 45m', '5h 20m', '19h 30m', '3h 0m', '2h 35m', '13h 30m', '26h 0m', '2h 45m', '2h 30m', '25h 45m', '24h 10m', '15h 55m', '5h 40m', '26h 25m', '2h 20m', '9h 50m', '8h 0m', '29h 35m', '37h 25m', '7h 35m', '6h 35m', '9h 30m', '14h 15m', '7h 5m', '8h 0m', '1h 30m', '1h 25m', '13h 15m', '1h 25m', '2h 45m', '18h 10m', '25h 40m', '22h 0m', '5h 10m', '5h 15m', '2h 55m', '24h 0m', '6h 40m', '17h 40m', '26h 35m', '2h 35m', '17h 5m', '3h 15m', '3h 15m', '2h 35m', '12h 15m', '3h 35m', '11h 40m', '7h 5m', '1h 30m', '16h 5m', '13h 20m', '1h 25m', '24h 15m', '2h 55m', '19h 5m', '1h 30m', '26h 10m', '11h 45m', '27h 35m', '3h 0m', '1h 25m', '12h 45m', '24h 0m', '15h 55m', '28h 50m', '14h 0m', '2h 35m', '14h 35m', '2h 30m', '22h 30m', '3h 0m', '27h 0m', '27h 20m', '2h 40m', '11h 45m', '22h 25m', '2h 50m', '2h 40m', '2h 25m', '8h 25m', '3h 5m', '10h 40m', '20h 0m', '14h 50m', '21h 25m', '6h 0m', '4h 30m', '27h 10m', '2h 55m', '4h 50m', '2h 25m', '20h 0m', '2h 35m', '23h 10m', '10h 10m', '1h 30m', '10h 25m', '5h 35m', '9h 0m', '17h 45m', '11h 15m', '6h 15m', '13h 30m', '26h 35m', '9h 0m', '2h 40m', '7h 35m', '14h 45m', '6h 10m', '2h 45m', '7h 40m', '1h 30m', '14h 25m', '11h 30m', '3h 15m', '8h 30m', '2h 15m', '2h 45m', '4h 30m', '3h 40m', '14h 0m', '1h 30m', '9h 25m', '2h 15m', '2h 55m', '13h 20m', '2h 20m', '6h 40m', '11h 45m', '4h 55m', '8h 35m', '16h 5m', '5h 5m', '6h 5m', '6h 25m', '9h 50m', '1h 20m', '19h 25m', '9h 20m', '16h 45m', '8h 5m', '2h 50m', '17h 25m', '2h 15m', '19h 55m', '14h 20m', '6h 15m', '12h 0m', '5h 15m', '22h 55m', '3h 0m', '13h 15m', '26h 0m', '26h 0m', '15h 30m', '3h 0m', '2h 30m', '24h 0m', '20h 55m', '22h 0m', '2h 40m', '9h 35m', '3h 0m', '2h 45m', '8h 0m', '15h 0m', '37h 25m', '13h 20m', '11h 50m', '9h 45m', '2h 20m', '2h 50m', '2h 50m', '33h 15m', '17h 45m', '13h 50m', '4h 30m', '2h 50m', '13h 50m', '2h 25m', '2h 40m', '13h 55m', '9h 10m', '13h 25m', '14h 35m', '2h 55m', '18h 45m', '5h 55m', '26h 30m', '8h 40m', '12h 10m', '2h 40m', '23h 15m', '12h 25m', '3h 0m', '13h 55m', '14h 5m', '3h 0m', '3h 10m', '2h 50m', '4h 35m', '11h 55m', '5h 40m', '11h 45m', '6h 10m', '13h 50m', '11h 25m', '20h 20m', '3h 0m', '3h 10m', '23h 40m', '9h 35m', '13h 45m', '12h 45m', '6h 25m', '13h 50m', '2h 35m', '2h 20m', '2h 45m', '6h 35m', '1h 15m', '3h 0m', '13h 25m', '12h 35m', '24h 30m', '29h 20m', '1h 25m', '9h 30m', '2h 30m', '8h 30m', '2h 50m', '2h 20m', '10h 15m', '2h 30m', '7h 5m', '10h 15m', '3h 15m', '2h 50m', '10h 25m', '10h 30m', '10h 55m', '2h 50m', '11h 40m', '18h 45m', '6h 25m', '1h 30m', '2h 20m', '7h 5m', '4h 25m', '10h 30m', '5h 10m', '2h 50m', '22h 25m', '10h 0m', '38h 0m', '1h 30m', '26h 35m', '12h 10m', '9h 30m', '2h 55m', '24h 40m', '4h 35m', '16h 5m', '2h 15m', '10h 15m', '2h 45m', '8h 0m', '13h 55m', '12h 25m', '18h 25m', '17h 45m', '1h 20m', '2h 55m', '2h 50m', '15h 20m', '14h 5m', '1h 30m', '18h 25m', '2h 50m', '6h 0m', '2h 50m', '12h 25m', '2h 50m', '1h 20m', '1h 30m', '11h 35m', '9h 20m', '27h 5m', '2h 55m', '15h 10m', '23h 15m', '8h 10m', '2h 35m', '12h 10m', '9h 30m', '6h 35m', '7h 5m', '9h 50m', '32h 5m', '14h 55m', '29h 20m', '9h 20m', '25h 0m', '25h 25m', '7h 45m', '2h 30m', '2h 50m', '6h 25m', '28h 10m', '26h 40m', '6h 10m', '23h 15m', '6h 35m', '3h 10m', '15h 25m', '20h 10m', '2h 50m', '25h 35m', '1h 25m', '2h 40m', '11h 5m', '38h 15m', '2h 50m', '9h 50m', '8h 0m', '9h 30m', '5h 50m', '6h 0m', '2h 35m', '5h 0m', '8h 15m', '3h 0m', '9h 0m', '2h 15m', '7h 0m', '2h 35m', '7h 30m', '8h 40m', '13h 20m', '27h 0m', '27h 10m', '1h 30m', '9h 0m', '27h 10m', '3h 5m', '4h 0m', '5h 55m', '2h 15m', '22h 55m', '6h 40m', '5h 30m', '23h 0m', '15h 10m', '7h 30m', '14h 0m', '3h 0m', '18h 45m', '2h 50m', '18h 50m', '17h 5m', '21h 25m', '2h 55m', '12h 15m', '2h 35m', '14h 20m', '1h 30m', '3h 0m', '2h 50m', '2h 45m', '3h 40m', '6h 0m', '1h 30m', '25h 15m', '2h 55m', '4h 25m', '5h 0m', '7h 5m', '26h 55m', '9h 20m', '13h 0m', '6h 0m', '29h 20m', '2h 15m', '24h 45m', '26h 25m', '19h 15m', '22h 55m', '2h 50m', '15h 20m', '16h 0m', '14h 45m', '6h 25m', '22h 55m', '5h 0m', '1h 30m', '2h 15m', '2h 30m', '26h 55m', '5h 45m', '1h 30m', '5h 5m', '2h 50m', '15h 35m', '25h 0m', '2h 50m', '13h 20m', '28h 50m', '7h 20m', '2h 30m', '2h 20m', '9h 30m', '2h 20m', '9h 15m', '2h 40m', '1h 30m', '1h 25m', '13h 20m', '8h 55m', '11h 40m', '27h 0m', '13h 15m', '1h 30m', '12h 30m', '11h 40m', '6h 55m', '7h 50m', '2h 55m', '15h 50m', '14h 35m', '13h 30m', '8h 40m', '22h 45m', '1h 30m', '24h 45m', '15h 55m', '2h 50m', '7h 15m', '5h 50m', '15h 20m', '14h 25m', '21h 25m', '2h 20m', '8h 40m', '38h 15m', '3h 15m', '14h 40m', '4h 55m', '12h 25m', '22h 0m', '15h 40m', '13h 0m', '23h 5m', '2h 20m', '16h 50m', '3h 0m', '3h 0m', '2h 35m', '3h 0m', '2h 35m', '6h 5m', '9h 35m', '5h 30m', '16h 5m', '11h 15m', '2h 40m', '13h 45m', '7h 45m', '2h 50m', '22h 35m', '5h 15m', '1h 30m', '10h 30m', '5h 20m', '37h 20m', '15h 25m', '19h 45m', '14h 55m', '25h 30m', '3h 0m', '15h 20m', '24h 40m', '2h 15m', '21h 35m', '2h 45m', '11h 45m', '8h 20m', '11h 30m', '23h 40m', '15h 35m', '27h 20m', '15h 10m', '8h 40m', '8h 0m', '14h 5m', '2h 55m', '8h 20m', '7h 35m', '13h 20m', '3h 0m', '18h 35m', '21h 10m', '13h 30m', '12h 35m', '15h 45m', '18h 10m', '21h 45m', '22h 5m', '6h 20m', '22h 0m', '15h 30m', '24h 0m', '19h 25m', '4h 55m', '22h 30m', '16h 45m', '20h 25m', '26h 35m', '25h 15m', '2h 55m', '9h 0m', '5h 10m', '2h 55m', '7h 30m', '24h 45m', '2h 50m', '16h 20m', '14h 35m', '14h 20m', '2h 50m', '13h 30m', '2h 50m', '2h 35m', '2h 20m', '2h 35m', '3h 10m', '25h 0m', '14h 30m', '5h 5m', '26h 15m', '8h 10m', '1h 25m', '24h 50m', '28h 0m', '8h 25m', '7h 5m', '5h 0m', '2h 20m', '28h 20m', '14h 10m', '7h 45m', '14h 0m', '25h 0m', '11h 30m', '4h 35m', '2h 45m', '10h 15m', '15h 10m', '12h 10m', '21h 35m', '25h 50m', '6h 30m', '6h 35m', '9h 0m', '2h 55m', '3h 0m', '18h 45m', '6h 5m', '13h 0m', '9h 5m', '2h 20m', '2h 30m', '5h 10m', '7h 5m', '1h 15m', '2h 50m', '7h 5m', '14h 30m', '18h 25m', '13h 30m', '30h 20m', '29h 35m', '6h 35m', '26h 40m', '6h 5m', '14h 5m', '2h 30m', '7h 30m', '16h 5m', '2h 55m', '27h 20m', '20h 15m', '10h 35m', '6h 20m', '4h 0m', '2h 45m', '2h 20m', '2h 55m', '9h 30m', '6h 20m', '2h 55m', '8h 35m', '3h 0m', '13h 50m', '21h 0m', '24h 25m', '23h 0m', '27h 20m', '5h 25m', '2h 25m', '16h 5m', '11h 30m', '24h 10m', '17h 55m', '5h 45m', '2h 55m', '25h 5m', '8h 15m', '2h 20m', '39h 5m', '5h 0m', '2h 50m', '2h 50m', '24h 10m', '2h 50m', '12h 0m', '2h 45m', '23h 30m', '15h 0m', '2h 35m', '21h 50m', '2h 55m', '2h 15m', '22h 15m', '4h 30m', '2h 15m', '21h 35m', '16h 5m', '14h 50m', '16h 55m', '7h 15m', '19h 30m', '2h 30m', '7h 0m', '9h 45m', '23h 45m', '8h 40m', '14h 25m', '7h 15m', '13h 50m', '6h 25m', '3h 0m', '10h 30m', '14h 40m', '2h 45m', '14h 25m', '14h 35m', '9h 10m', '21h 15m', '18h 10m', '2h 35m', '13h 25m', '26h 35m', '8h 20m', '1h 30m', '11h 30m', '3h 15m', '12h 0m', '1h 30m', '11h 5m', '1h 25m', '7h 15m', '2h 50m', '24h 0m', '25h 35m', '1h 35m', '2h 55m', '18h 45m', '6h 50m', '2h 45m', '9h 20m', '12h 30m', '5h 15m', '3h 0m', '15h 20m', '24h 30m', '2h 25m', '13h 20m', '13h 50m', '7h 35m', '13h 20m', '8h 20m', '8h 55m', '23h 50m', '9h 5m', '26h 30m', '1h 30m', '10h 10m', '2h 25m', '22h 35m', '1h 30m', '7h 50m', '2h 30m', '3h 10m', '1h 15m', '1h 30m', '2h 20m', '2h 25m', '25h 45m', '26h 20m', '28h 0m', '2h 55m', '1h 20m', '25h 25m', '27h 5m', '2h 35m', '2h 50m', '5h 30m', '3h 10m', '5h 45m', '9h 45m', '9h 50m', '22h 5m', '8h 25m', '26h 30m', '13h 45m', '7h 45m', '1h 30m', '11h 0m', '7h 50m', '33h 15m', '14h 55m', '6h 0m', '19h 10m', '25h 45m', '9h 35m', '21h 20m', '26h 20m', '24h 35m', '3h 0m', '5h 30m', '2h 25m', '2h 45m', '2h 55m', '21h 15m', '23h 40m', '32h 20m', '16h 5m', '9h 35m', '13h 50m', '10h 25m', '3h 0m', '10h 30m', '9h 50m', '2h 25m', '2h 20m', '12h 45m', '26h 50m', '4h 55m', '10h 30m', '18h 20m', '8h 25m', '7h 15m', '7h 15m', '2h 15m', '10h 45m', '1h 30m', '10h 25m', '11h 45m', '2h 50m', '2h 50m', '13h 30m', '11h 55m', '5h 20m', '13h 15m', '2h 55m', '10h 45m', '2h 35m', '9h 0m', '9h 35m', '2h 50m', '4h 30m', '2h 20m', '2h 20m', '11h 40m', '3h 40m', '2h 20m', '12h 15m', '9h 5m', '23h 15m', '13h 30m', '38h 15m', '1h 30m', '24h 45m', '1h 25m', '18h 20m', '8h 40m', '6h 45m', '5h 30m', '14h 5m', '26h 55m', '1h 30m', '2h 35m', '2h 50m', '28h 5m', '27h 0m', '2h 50m', '9h 45m', '12h 10m', '5h 0m', '2h 15m', '21h 10m', '17h 35m', '1h 25m', '22h 15m', '2h 35m', '14h 55m', '9h 50m', '2h 20m', '1h 30m', '15h 55m', '11h 55m', '7h 15m', '2h 35m', '17h 5m', '7h 5m', '12h 35m', '26h 35m', '1h 30m', '20h 25m', '3h 5m', '19h 40m', '22h 55m', '7h 20m', '14h 30m', '2h 50m', '2h 50m', '5h 0m', '13h 30m', '2h 50m', '20h 35m', '13h 20m', '11h 15m', '22h 40m', '2h 50m', '2h 35m', '9h 50m', '2h 20m', '10h 30m', '8h 55m', '6h 15m', '2h 35m', '2h 20m', '13h 25m', '10h 30m', '2h 50m', '11h 5m', '13h 45m', '25h 40m', '8h 20m', '14h 35m', '2h 55m', '5h 5m', '8h 55m', '2h 50m', '1h 35m', '2h 40m', '2h 20m', '29h 5m', '5h 30m', '17h 25m', '12h 0m', '6h 30m', '2h 45m', '2h 55m', '26h 50m', '24h 40m', '27h 5m', '4h 55m', '20h 50m', '2h 15m', '14h 20m', '2h 40m', '22h 55m', '6h 15m', '3h 15m', '2h 55m', '6h 40m', '11h 0m', '4h 35m', '2h 45m', '28h 0m', '31h 40m', '27h 20m', '2h 45m', '8h 45m', '14h 55m', '2h 15m', '16h 25m', '11h 5m', '5h 0m', '11h 5m', '5h 45m', '14h 45m', '2h 30m', '1h 30m', '1h 30m', '28h 15m', '23h 20m', '7h 35m', '21h 25m', '10h 45m', '2h 35m', '12h 15m', '2h 50m', '25h 50m', '23h 0m', '26h 0m', '10h 55m', '5h 45m', '7h 15m', '12h 15m', '15h 20m', '2h 35m', '11h 55m', '7h 5m', '14h 55m', '10h 50m', '27h 35m', '11h 50m', '5h 30m', '8h 35m', '11h 0m', '2h 50m', '4h 45m', '9h 15m', '13h 25m', '6h 30m', '1h 25m', '7h 45m', '18h 20m', '10h 0m', '20h 10m', '8h 10m', '11h 40m', '10h 50m', '12h 10m', '9h 20m', '2h 45m', '8h 0m', '9h 5m', '2h 30m', '1h 30m', '5h 30m', '23h 5m', '1h 25m', '16h 5m', '3h 0m', '13h 25m', '1h 30m', '13h 20m', '3h 0m', '21h 25m', '5h 10m', '22h 0m', '2h 30m', '24h 40m', '9h 0m', '1h 30m', '2h 50m', '24h 45m', '30h 40m', '12h 5m', '3h 5m', '16h 55m', '2h 50m', '2h 50m', '25h 35m', '22h 0m', '9h 55m', '20h 20m', '28h 20m', '7h 15m', '2h 20m', '22h 25m', '16h 45m', '6h 55m', '5h 10m', '2h 35m', '9h 50m', '27h 10m', '2h 55m', '1h 20m', '3h 0m', '4h 30m', '16h 5m', '10h 15m', '14h 25m', '12h 45m', '4h 40m', '2h 30m', '25h 40m', '28h 50m', '2h 20m', '10h 35m', '12h 15m', '2h 45m', '5h 0m', '2h 45m', '26h 55m', '9h 35m', '17h 25m', '10h 25m', '17h 25m', '2h 45m', '7h 55m', '24h 50m', '13h 55m', '10h 30m', '10h 15m', '13h 20m', '8h 40m', '9h 25m', '3h 10m', '3h 15m', '7h 30m', '3h 0m', '2h 45m', '7h 35m', '2h 30m', '21h 40m', '2h 50m', '26h 10m', '16h 10m', '3h 5m', '1h 30m', '21h 15m', '26h 55m', '26h 20m', '23h 0m', '2h 35m', '22h 45m', '24h 55m', '2h 15m', '8h 5m', '10h 0m', '3h 0m', '23h 10m', '5h 35m', '23h 15m', '1h 30m', '15h 20m', '9h 30m', '8h 25m', '10h 10m', '1h 25m', '27h 5m', '22h 35m', '14h 25m', '4h 55m', '24h 0m', '30h 20m', '23h 10m', '1h 30m', '6h 35m', '12h 0m', '2h 30m', '12h 25m', '1h 15m', '13h 30m', '2h 30m', '13h 10m', '21h 35m', '2h 30m', '5h 45m', '11h 15m', '2h 15m', '9h 30m', '2h 25m', '24h 0m', '1h 20m', '2h 15m', '21h 5m', '2h 50m', '7h 30m', '5h 15m', '8h 30m', '4h 55m', '1h 30m', '3h 0m', '2h 50m', '8h 30m', '23h 15m', '14h 25m', '2h 50m', '19h 0m', '2h 55m', '40h 20m', '2h 35m', '2h 45m', '10h 40m', '9h 20m', '8h 40m', '9h 0m', '31h 55m', '6h 35m', '3h 0m', '2h 45m', '5h 55m', '10h 25m', '13h 20m', '14h 25m', '8h 30m', '2h 20m', '13h 0m', '22h 15m', '2h 50m', '2h 35m', '23h 45m', '23h 40m', '1h 30m', '28h 20m', '13h 35m', '2h 50m', '21h 0m', '12h 35m', '1h 20m', '1h 30m', '14h 0m', '2h 20m', '9h 25m', '26h 0m', '7h 55m', '6h 5m', '15h 10m', '4h 40m', '2h 50m', '14h 30m', '1h 30m', '8h 50m', '2h 35m', '12h 25m', '27h 20m', '2h 35m', '1h 25m', '2h 45m', '27h 0m', '2h 50m', '26h 30m', '16h 45m', '13h 0m', '2h 55m', '14h 25m', '11h 5m', '22h 5m', '1h 15m', '7h 35m', '2h 35m', '7h 5m', '1h 30m', '19h 25m', '2h 35m', '6h 55m', '29h 20m', '2h 45m', '16h 55m', '9h 50m', '18h 45m', '28h 20m', '3h 15m', '16h 25m', '2h 55m', '3h 0m', '11h 45m', '6h 15m', '25h 55m', '2h 15m', '26h 35m', '2h 55m', '23h 45m', '25h 45m', '10h 0m', '12h 35m', '2h 50m', '3h 0m', '9h 45m', '3h 5m', '2h 35m', '2h 55m', '2h 20m', '5h 25m', '26h 35m', '6h 5m', '9h 5m', '2h 50m', '15h 20m', '2h 30m', '3h 0m', '11h 30m', '24h 10m', '2h 35m', '3h 0m', '2h 30m', '2h 55m', '1h 30m', '13h 55m', '4h 5m', '9h 50m', '7h 15m', '7h 15m', '14h 20m', '2h 55m', '20h 35m', '3h 0m', '7h 20m', '7h 55m', '30h 20m', '2h 25m', '4h 55m', '19h 5m', '27h 40m', '14h 25m', '27h 40m', '24h 35m', '26h 55m', '9h 5m', '3h 15m', '47h 40m', '11h 45m', '7h 45m', '1h 20m', '1h 30m', '2h 45m', '1h 25m', '1h 25m', '6h 45m', '2h 50m', '13h 25m', '2h 50m', '2h 55m', '2h 15m', '2h 30m', '5h 20m', '2h 55m', '23h 10m', '13h 50m', '24h 45m', '13h 25m', '2h 50m', '23h 40m', '20h 10m', '2h 45m', '5h 10m', '16h 15m', '22h 45m', '21h 25m', '2h 20m', '10h 15m', '8h 25m', '2h 50m', '2h 25m', '3h 10m', '11h 0m', '7h 40m', '1h 25m', '3h 15m', '13h 20m', '3h 0m', '17h 5m', '16h 50m', '2h 45m', '18h 10m', '8h 35m', '1h 30m', '2h 45m', '14h 30m', '14h 0m', '23h 30m', '8h 30m', '15h 30m', '3h 15m', '2h 55m', '26h 40m', '3h 0m', '1h 20m', '8h 20m', '2h 45m', '2h 45m', '2h 50m', '19h 55m', '2h 35m', '22h 5m', '2h 35m', '10h 20m', '1h 35m', '7h 20m', '13h 0m', '18h 45m', '8h 20m', '11h 15m', '3h 0m', '4h 0m', '1h 25m', '2h 35m', '2h 40m', '2h 25m', '12h 15m', '10h 30m', '6h 15m', '15h 10m', '12h 45m', '24h 30m', '1h 25m', '5h 40m', '2h 45m', '7h 35m', '2h 45m', '25h 45m', '13h 30m', '26h 35m', '5h 30m', '2h 30m', '24h 50m', '9h 35m', '13h 25m', '13h 30m', '30h 40m', '20h 50m', '2h 55m', '13h 30m', '22h 15m', '19h 15m', '18h 55m', '25h 55m', '21h 5m', '2h 50m', '28h 15m', '27h 20m', '5h 45m', '2h 20m', '2h 20m', '20h 55m', '20h 0m', '8h 40m', '26h 35m', '4h 25m', '20h 20m', '1h 30m', '20h 55m', '12h 15m', '9h 15m', '19h 25m', '10h 15m', '6h 40m', '10h 15m', '24h 45m', '7h 15m', '2h 55m', '6h 20m', '1h 35m', '22h 55m', '2h 45m', '23h 0m', '17h 5m', '4h 30m', '13h 30m', '9h 30m', '26h 35m', '2h 55m', '24h 45m', '26h 40m', '8h 10m', '10h 40m', '26h 40m', '5h 25m', '2h 50m', '2h 55m', '11h 25m', '16h 25m', '22h 10m', '1h 30m', '2h 20m', '1h 25m', '13h 20m', '3h 5m', '15h 15m', '2h 55m', '26h 55m', '1h 30m', '2h 35m', '5h 45m', '2h 35m', '2h 35m', '16h 10m', '19h 55m', '26h 20m', '7h 20m', '2h 55m', '22h 15m', '5h 30m', '9h 5m', '26h 45m', '5h 45m', '17h 55m', '7h 15m', '26h 55m', '13h 45m', '5h 30m', '3h 5m', '14h 0m', '38h 0m', '24h 35m', '2h 20m', '26h 50m', '6h 30m', '8h 25m', '8h 25m', '13h 30m', '3h 15m', '26h 20m', '2h 40m', '8h 25m', '7h 40m', '25h 35m', '21h 55m', '2h 40m', '1h 25m', '2h 40m', '13h 20m', '2h 55m', '2h 50m', '2h 55m', '6h 15m', '20h 10m', '17h 5m', '2h 55m', '2h 30m', '24h 45m', '21h 25m', '7h 20m', '11h 15m', '17h 25m', '1h 20m', '19h 55m', '15h 0m', '24h 45m', '1h 20m', '8h 40m', '2h 40m', '2h 30m', '2h 35m', '3h 0m', '2h 40m', '8h 20m']\n"
          ]
        }
      ]
    },
    {
      "cell_type": "code",
      "source": [
        "df=pd.concat([df,Source,Airline,Destination],axis=1)"
      ],
      "metadata": {
        "id": "wc_sN2Dl8kSG"
      },
      "execution_count": 137,
      "outputs": []
    },
    {
      "cell_type": "code",
      "source": [
        "df.head()"
      ],
      "metadata": {
        "colab": {
          "base_uri": "https://localhost:8080/",
          "height": 652
        },
        "id": "G1b1YZxm8se9",
        "outputId": "fbc34a11-530b-4f4b-cc1e-97f40dbb00f3"
      },
      "execution_count": 138,
      "outputs": [
        {
          "output_type": "execute_result",
          "data": {
            "text/plain": [
              "       Airline    Source Destination                  Route  \\\n",
              "0       IndiGo  Banglore   New Delhi              BLR ? DEL   \n",
              "1    Air India   Kolkata    Banglore  CCU ? IXR ? BBI ? BLR   \n",
              "2  Jet Airways     Delhi      Cochin  DEL ? LKO ? BOM ? COK   \n",
              "3       IndiGo   Kolkata    Banglore        CCU ? NAG ? BLR   \n",
              "4       IndiGo  Banglore   New Delhi        BLR ? NAG ? DEL   \n",
              "\n",
              "             Dep_Time        Arrival_Time  Total_Stops  Price  Journey_Day  \\\n",
              "0 2022-04-30 22:20:00 2022-03-22 01:10:00            0   3897           24   \n",
              "1 2022-04-30 05:50:00 2022-04-30 13:15:00            2   7662            5   \n",
              "2 2022-04-30 09:25:00 2022-06-10 04:25:00            2  13882            6   \n",
              "3 2022-04-30 18:05:00 2022-04-30 23:30:00            1   6218            5   \n",
              "4 2022-04-30 16:50:00 2022-04-30 21:35:00            1  13302            3   \n",
              "\n",
              "   Journey_Month  Journey_Hour  Journey_Minute  Arrival_Hour  Arrival_Minute  \\\n",
              "0              3            22              20             1              10   \n",
              "1              1             5              50            13              15   \n",
              "2              9             9              25             4              25   \n",
              "3             12            18               5            23              30   \n",
              "4              1            16              50            21              35   \n",
              "\n",
              "   Route_1  Route_2  Route_3  Route_4  Route_5 Duration_hours Duration_mins  \\\n",
              "0        0       13       29       13        5              2             2   \n",
              "1        2       25        1        3        5              7             7   \n",
              "2        3       32        4        5        5             19            19   \n",
              "3        2       34        3       13        5              5             5   \n",
              "4        0       34        8       13        5              4             4   \n",
              "\n",
              "   Chennai  Delhi  Kolkata  Mumbai  Air India  GoAir  IndiGo  Jet Airways  \\\n",
              "0        0      0        0       0          0      0       1            0   \n",
              "1        0      0        1       0          1      0       0            0   \n",
              "2        0      1        0       0          0      0       0            1   \n",
              "3        0      0        1       0          0      0       1            0   \n",
              "4        0      0        0       0          0      0       1            0   \n",
              "\n",
              "   Jet Airways Business  Multiple carriers  Multiple carriers Premium economy  \\\n",
              "0                     0                  0                                  0   \n",
              "1                     0                  0                                  0   \n",
              "2                     0                  0                                  0   \n",
              "3                     0                  0                                  0   \n",
              "4                     0                  0                                  0   \n",
              "\n",
              "   SpiceJet  Trujet  Vistara  Vistara Premium economy  Cochin  Delhi  \\\n",
              "0         0       0        0                        0       0      0   \n",
              "1         0       0        0                        0       0      0   \n",
              "2         0       0        0                        0       1      0   \n",
              "3         0       0        0                        0       0      0   \n",
              "4         0       0        0                        0       0      0   \n",
              "\n",
              "   Hyderabad  Kolkata  New Delhi  \n",
              "0          0        0          1  \n",
              "1          0        0          0  \n",
              "2          0        0          0  \n",
              "3          0        0          0  \n",
              "4          0        0          1  "
            ],
            "text/html": [
              "\n",
              "  <div id=\"df-3c2e7195-8fcb-468f-acd0-82030c572f6f\">\n",
              "    <div class=\"colab-df-container\">\n",
              "      <div>\n",
              "<style scoped>\n",
              "    .dataframe tbody tr th:only-of-type {\n",
              "        vertical-align: middle;\n",
              "    }\n",
              "\n",
              "    .dataframe tbody tr th {\n",
              "        vertical-align: top;\n",
              "    }\n",
              "\n",
              "    .dataframe thead th {\n",
              "        text-align: right;\n",
              "    }\n",
              "</style>\n",
              "<table border=\"1\" class=\"dataframe\">\n",
              "  <thead>\n",
              "    <tr style=\"text-align: right;\">\n",
              "      <th></th>\n",
              "      <th>Airline</th>\n",
              "      <th>Source</th>\n",
              "      <th>Destination</th>\n",
              "      <th>Route</th>\n",
              "      <th>Dep_Time</th>\n",
              "      <th>Arrival_Time</th>\n",
              "      <th>Total_Stops</th>\n",
              "      <th>Price</th>\n",
              "      <th>Journey_Day</th>\n",
              "      <th>Journey_Month</th>\n",
              "      <th>Journey_Hour</th>\n",
              "      <th>Journey_Minute</th>\n",
              "      <th>Arrival_Hour</th>\n",
              "      <th>Arrival_Minute</th>\n",
              "      <th>Route_1</th>\n",
              "      <th>Route_2</th>\n",
              "      <th>Route_3</th>\n",
              "      <th>Route_4</th>\n",
              "      <th>Route_5</th>\n",
              "      <th>Duration_hours</th>\n",
              "      <th>Duration_mins</th>\n",
              "      <th>Chennai</th>\n",
              "      <th>Delhi</th>\n",
              "      <th>Kolkata</th>\n",
              "      <th>Mumbai</th>\n",
              "      <th>Air India</th>\n",
              "      <th>GoAir</th>\n",
              "      <th>IndiGo</th>\n",
              "      <th>Jet Airways</th>\n",
              "      <th>Jet Airways Business</th>\n",
              "      <th>Multiple carriers</th>\n",
              "      <th>Multiple carriers Premium economy</th>\n",
              "      <th>SpiceJet</th>\n",
              "      <th>Trujet</th>\n",
              "      <th>Vistara</th>\n",
              "      <th>Vistara Premium economy</th>\n",
              "      <th>Cochin</th>\n",
              "      <th>Delhi</th>\n",
              "      <th>Hyderabad</th>\n",
              "      <th>Kolkata</th>\n",
              "      <th>New Delhi</th>\n",
              "    </tr>\n",
              "  </thead>\n",
              "  <tbody>\n",
              "    <tr>\n",
              "      <th>0</th>\n",
              "      <td>IndiGo</td>\n",
              "      <td>Banglore</td>\n",
              "      <td>New Delhi</td>\n",
              "      <td>BLR ? DEL</td>\n",
              "      <td>2022-04-30 22:20:00</td>\n",
              "      <td>2022-03-22 01:10:00</td>\n",
              "      <td>0</td>\n",
              "      <td>3897</td>\n",
              "      <td>24</td>\n",
              "      <td>3</td>\n",
              "      <td>22</td>\n",
              "      <td>20</td>\n",
              "      <td>1</td>\n",
              "      <td>10</td>\n",
              "      <td>0</td>\n",
              "      <td>13</td>\n",
              "      <td>29</td>\n",
              "      <td>13</td>\n",
              "      <td>5</td>\n",
              "      <td>2</td>\n",
              "      <td>2</td>\n",
              "      <td>0</td>\n",
              "      <td>0</td>\n",
              "      <td>0</td>\n",
              "      <td>0</td>\n",
              "      <td>0</td>\n",
              "      <td>0</td>\n",
              "      <td>1</td>\n",
              "      <td>0</td>\n",
              "      <td>0</td>\n",
              "      <td>0</td>\n",
              "      <td>0</td>\n",
              "      <td>0</td>\n",
              "      <td>0</td>\n",
              "      <td>0</td>\n",
              "      <td>0</td>\n",
              "      <td>0</td>\n",
              "      <td>0</td>\n",
              "      <td>0</td>\n",
              "      <td>0</td>\n",
              "      <td>1</td>\n",
              "    </tr>\n",
              "    <tr>\n",
              "      <th>1</th>\n",
              "      <td>Air India</td>\n",
              "      <td>Kolkata</td>\n",
              "      <td>Banglore</td>\n",
              "      <td>CCU ? IXR ? BBI ? BLR</td>\n",
              "      <td>2022-04-30 05:50:00</td>\n",
              "      <td>2022-04-30 13:15:00</td>\n",
              "      <td>2</td>\n",
              "      <td>7662</td>\n",
              "      <td>5</td>\n",
              "      <td>1</td>\n",
              "      <td>5</td>\n",
              "      <td>50</td>\n",
              "      <td>13</td>\n",
              "      <td>15</td>\n",
              "      <td>2</td>\n",
              "      <td>25</td>\n",
              "      <td>1</td>\n",
              "      <td>3</td>\n",
              "      <td>5</td>\n",
              "      <td>7</td>\n",
              "      <td>7</td>\n",
              "      <td>0</td>\n",
              "      <td>0</td>\n",
              "      <td>1</td>\n",
              "      <td>0</td>\n",
              "      <td>1</td>\n",
              "      <td>0</td>\n",
              "      <td>0</td>\n",
              "      <td>0</td>\n",
              "      <td>0</td>\n",
              "      <td>0</td>\n",
              "      <td>0</td>\n",
              "      <td>0</td>\n",
              "      <td>0</td>\n",
              "      <td>0</td>\n",
              "      <td>0</td>\n",
              "      <td>0</td>\n",
              "      <td>0</td>\n",
              "      <td>0</td>\n",
              "      <td>0</td>\n",
              "      <td>0</td>\n",
              "    </tr>\n",
              "    <tr>\n",
              "      <th>2</th>\n",
              "      <td>Jet Airways</td>\n",
              "      <td>Delhi</td>\n",
              "      <td>Cochin</td>\n",
              "      <td>DEL ? LKO ? BOM ? COK</td>\n",
              "      <td>2022-04-30 09:25:00</td>\n",
              "      <td>2022-06-10 04:25:00</td>\n",
              "      <td>2</td>\n",
              "      <td>13882</td>\n",
              "      <td>6</td>\n",
              "      <td>9</td>\n",
              "      <td>9</td>\n",
              "      <td>25</td>\n",
              "      <td>4</td>\n",
              "      <td>25</td>\n",
              "      <td>3</td>\n",
              "      <td>32</td>\n",
              "      <td>4</td>\n",
              "      <td>5</td>\n",
              "      <td>5</td>\n",
              "      <td>19</td>\n",
              "      <td>19</td>\n",
              "      <td>0</td>\n",
              "      <td>1</td>\n",
              "      <td>0</td>\n",
              "      <td>0</td>\n",
              "      <td>0</td>\n",
              "      <td>0</td>\n",
              "      <td>0</td>\n",
              "      <td>1</td>\n",
              "      <td>0</td>\n",
              "      <td>0</td>\n",
              "      <td>0</td>\n",
              "      <td>0</td>\n",
              "      <td>0</td>\n",
              "      <td>0</td>\n",
              "      <td>0</td>\n",
              "      <td>1</td>\n",
              "      <td>0</td>\n",
              "      <td>0</td>\n",
              "      <td>0</td>\n",
              "      <td>0</td>\n",
              "    </tr>\n",
              "    <tr>\n",
              "      <th>3</th>\n",
              "      <td>IndiGo</td>\n",
              "      <td>Kolkata</td>\n",
              "      <td>Banglore</td>\n",
              "      <td>CCU ? NAG ? BLR</td>\n",
              "      <td>2022-04-30 18:05:00</td>\n",
              "      <td>2022-04-30 23:30:00</td>\n",
              "      <td>1</td>\n",
              "      <td>6218</td>\n",
              "      <td>5</td>\n",
              "      <td>12</td>\n",
              "      <td>18</td>\n",
              "      <td>5</td>\n",
              "      <td>23</td>\n",
              "      <td>30</td>\n",
              "      <td>2</td>\n",
              "      <td>34</td>\n",
              "      <td>3</td>\n",
              "      <td>13</td>\n",
              "      <td>5</td>\n",
              "      <td>5</td>\n",
              "      <td>5</td>\n",
              "      <td>0</td>\n",
              "      <td>0</td>\n",
              "      <td>1</td>\n",
              "      <td>0</td>\n",
              "      <td>0</td>\n",
              "      <td>0</td>\n",
              "      <td>1</td>\n",
              "      <td>0</td>\n",
              "      <td>0</td>\n",
              "      <td>0</td>\n",
              "      <td>0</td>\n",
              "      <td>0</td>\n",
              "      <td>0</td>\n",
              "      <td>0</td>\n",
              "      <td>0</td>\n",
              "      <td>0</td>\n",
              "      <td>0</td>\n",
              "      <td>0</td>\n",
              "      <td>0</td>\n",
              "      <td>0</td>\n",
              "    </tr>\n",
              "    <tr>\n",
              "      <th>4</th>\n",
              "      <td>IndiGo</td>\n",
              "      <td>Banglore</td>\n",
              "      <td>New Delhi</td>\n",
              "      <td>BLR ? NAG ? DEL</td>\n",
              "      <td>2022-04-30 16:50:00</td>\n",
              "      <td>2022-04-30 21:35:00</td>\n",
              "      <td>1</td>\n",
              "      <td>13302</td>\n",
              "      <td>3</td>\n",
              "      <td>1</td>\n",
              "      <td>16</td>\n",
              "      <td>50</td>\n",
              "      <td>21</td>\n",
              "      <td>35</td>\n",
              "      <td>0</td>\n",
              "      <td>34</td>\n",
              "      <td>8</td>\n",
              "      <td>13</td>\n",
              "      <td>5</td>\n",
              "      <td>4</td>\n",
              "      <td>4</td>\n",
              "      <td>0</td>\n",
              "      <td>0</td>\n",
              "      <td>0</td>\n",
              "      <td>0</td>\n",
              "      <td>0</td>\n",
              "      <td>0</td>\n",
              "      <td>1</td>\n",
              "      <td>0</td>\n",
              "      <td>0</td>\n",
              "      <td>0</td>\n",
              "      <td>0</td>\n",
              "      <td>0</td>\n",
              "      <td>0</td>\n",
              "      <td>0</td>\n",
              "      <td>0</td>\n",
              "      <td>0</td>\n",
              "      <td>0</td>\n",
              "      <td>0</td>\n",
              "      <td>0</td>\n",
              "      <td>1</td>\n",
              "    </tr>\n",
              "  </tbody>\n",
              "</table>\n",
              "</div>\n",
              "      <button class=\"colab-df-convert\" onclick=\"convertToInteractive('df-3c2e7195-8fcb-468f-acd0-82030c572f6f')\"\n",
              "              title=\"Convert this dataframe to an interactive table.\"\n",
              "              style=\"display:none;\">\n",
              "        \n",
              "  <svg xmlns=\"http://www.w3.org/2000/svg\" height=\"24px\"viewBox=\"0 0 24 24\"\n",
              "       width=\"24px\">\n",
              "    <path d=\"M0 0h24v24H0V0z\" fill=\"none\"/>\n",
              "    <path d=\"M18.56 5.44l.94 2.06.94-2.06 2.06-.94-2.06-.94-.94-2.06-.94 2.06-2.06.94zm-11 1L8.5 8.5l.94-2.06 2.06-.94-2.06-.94L8.5 2.5l-.94 2.06-2.06.94zm10 10l.94 2.06.94-2.06 2.06-.94-2.06-.94-.94-2.06-.94 2.06-2.06.94z\"/><path d=\"M17.41 7.96l-1.37-1.37c-.4-.4-.92-.59-1.43-.59-.52 0-1.04.2-1.43.59L10.3 9.45l-7.72 7.72c-.78.78-.78 2.05 0 2.83L4 21.41c.39.39.9.59 1.41.59.51 0 1.02-.2 1.41-.59l7.78-7.78 2.81-2.81c.8-.78.8-2.07 0-2.86zM5.41 20L4 18.59l7.72-7.72 1.47 1.35L5.41 20z\"/>\n",
              "  </svg>\n",
              "      </button>\n",
              "      \n",
              "  <style>\n",
              "    .colab-df-container {\n",
              "      display:flex;\n",
              "      flex-wrap:wrap;\n",
              "      gap: 12px;\n",
              "    }\n",
              "\n",
              "    .colab-df-convert {\n",
              "      background-color: #E8F0FE;\n",
              "      border: none;\n",
              "      border-radius: 50%;\n",
              "      cursor: pointer;\n",
              "      display: none;\n",
              "      fill: #1967D2;\n",
              "      height: 32px;\n",
              "      padding: 0 0 0 0;\n",
              "      width: 32px;\n",
              "    }\n",
              "\n",
              "    .colab-df-convert:hover {\n",
              "      background-color: #E2EBFA;\n",
              "      box-shadow: 0px 1px 2px rgba(60, 64, 67, 0.3), 0px 1px 3px 1px rgba(60, 64, 67, 0.15);\n",
              "      fill: #174EA6;\n",
              "    }\n",
              "\n",
              "    [theme=dark] .colab-df-convert {\n",
              "      background-color: #3B4455;\n",
              "      fill: #D2E3FC;\n",
              "    }\n",
              "\n",
              "    [theme=dark] .colab-df-convert:hover {\n",
              "      background-color: #434B5C;\n",
              "      box-shadow: 0px 1px 3px 1px rgba(0, 0, 0, 0.15);\n",
              "      filter: drop-shadow(0px 1px 2px rgba(0, 0, 0, 0.3));\n",
              "      fill: #FFFFFF;\n",
              "    }\n",
              "  </style>\n",
              "\n",
              "      <script>\n",
              "        const buttonEl =\n",
              "          document.querySelector('#df-3c2e7195-8fcb-468f-acd0-82030c572f6f button.colab-df-convert');\n",
              "        buttonEl.style.display =\n",
              "          google.colab.kernel.accessAllowed ? 'block' : 'none';\n",
              "\n",
              "        async function convertToInteractive(key) {\n",
              "          const element = document.querySelector('#df-3c2e7195-8fcb-468f-acd0-82030c572f6f');\n",
              "          const dataTable =\n",
              "            await google.colab.kernel.invokeFunction('convertToInteractive',\n",
              "                                                     [key], {});\n",
              "          if (!dataTable) return;\n",
              "\n",
              "          const docLinkHtml = 'Like what you see? Visit the ' +\n",
              "            '<a target=\"_blank\" href=https://colab.research.google.com/notebooks/data_table.ipynb>data table notebook</a>'\n",
              "            + ' to learn more about interactive tables.';\n",
              "          element.innerHTML = '';\n",
              "          dataTable['output_type'] = 'display_data';\n",
              "          await google.colab.output.renderOutput(dataTable, element);\n",
              "          const docLink = document.createElement('div');\n",
              "          docLink.innerHTML = docLinkHtml;\n",
              "          element.appendChild(docLink);\n",
              "        }\n",
              "      </script>\n",
              "    </div>\n",
              "  </div>\n",
              "  "
            ]
          },
          "metadata": {},
          "execution_count": 138
        }
      ]
    },
    {
      "cell_type": "code",
      "source": [
        "pd.set_option('display.max_columns',41)"
      ],
      "metadata": {
        "id": "ZK83Xmce8ume"
      },
      "execution_count": 139,
      "outputs": []
    },
    {
      "cell_type": "code",
      "source": [
        "df.head()"
      ],
      "metadata": {
        "colab": {
          "base_uri": "https://localhost:8080/",
          "height": 652
        },
        "id": "orTK7Uau8wDd",
        "outputId": "deba495b-4e1f-4d2c-851b-57223679edf1"
      },
      "execution_count": 140,
      "outputs": [
        {
          "output_type": "execute_result",
          "data": {
            "text/plain": [
              "       Airline    Source Destination                  Route  \\\n",
              "0       IndiGo  Banglore   New Delhi              BLR ? DEL   \n",
              "1    Air India   Kolkata    Banglore  CCU ? IXR ? BBI ? BLR   \n",
              "2  Jet Airways     Delhi      Cochin  DEL ? LKO ? BOM ? COK   \n",
              "3       IndiGo   Kolkata    Banglore        CCU ? NAG ? BLR   \n",
              "4       IndiGo  Banglore   New Delhi        BLR ? NAG ? DEL   \n",
              "\n",
              "             Dep_Time        Arrival_Time  Total_Stops  Price  Journey_Day  \\\n",
              "0 2022-04-30 22:20:00 2022-03-22 01:10:00            0   3897           24   \n",
              "1 2022-04-30 05:50:00 2022-04-30 13:15:00            2   7662            5   \n",
              "2 2022-04-30 09:25:00 2022-06-10 04:25:00            2  13882            6   \n",
              "3 2022-04-30 18:05:00 2022-04-30 23:30:00            1   6218            5   \n",
              "4 2022-04-30 16:50:00 2022-04-30 21:35:00            1  13302            3   \n",
              "\n",
              "   Journey_Month  Journey_Hour  Journey_Minute  Arrival_Hour  Arrival_Minute  \\\n",
              "0              3            22              20             1              10   \n",
              "1              1             5              50            13              15   \n",
              "2              9             9              25             4              25   \n",
              "3             12            18               5            23              30   \n",
              "4              1            16              50            21              35   \n",
              "\n",
              "   Route_1  Route_2  Route_3  Route_4  Route_5 Duration_hours Duration_mins  \\\n",
              "0        0       13       29       13        5              2             2   \n",
              "1        2       25        1        3        5              7             7   \n",
              "2        3       32        4        5        5             19            19   \n",
              "3        2       34        3       13        5              5             5   \n",
              "4        0       34        8       13        5              4             4   \n",
              "\n",
              "   Chennai  Delhi  Kolkata  Mumbai  Air India  GoAir  IndiGo  Jet Airways  \\\n",
              "0        0      0        0       0          0      0       1            0   \n",
              "1        0      0        1       0          1      0       0            0   \n",
              "2        0      1        0       0          0      0       0            1   \n",
              "3        0      0        1       0          0      0       1            0   \n",
              "4        0      0        0       0          0      0       1            0   \n",
              "\n",
              "   Jet Airways Business  Multiple carriers  Multiple carriers Premium economy  \\\n",
              "0                     0                  0                                  0   \n",
              "1                     0                  0                                  0   \n",
              "2                     0                  0                                  0   \n",
              "3                     0                  0                                  0   \n",
              "4                     0                  0                                  0   \n",
              "\n",
              "   SpiceJet  Trujet  Vistara  Vistara Premium economy  Cochin  Delhi  \\\n",
              "0         0       0        0                        0       0      0   \n",
              "1         0       0        0                        0       0      0   \n",
              "2         0       0        0                        0       1      0   \n",
              "3         0       0        0                        0       0      0   \n",
              "4         0       0        0                        0       0      0   \n",
              "\n",
              "   Hyderabad  Kolkata  New Delhi  \n",
              "0          0        0          1  \n",
              "1          0        0          0  \n",
              "2          0        0          0  \n",
              "3          0        0          0  \n",
              "4          0        0          1  "
            ],
            "text/html": [
              "\n",
              "  <div id=\"df-dd769e82-88b0-469a-954b-8157ee52086b\">\n",
              "    <div class=\"colab-df-container\">\n",
              "      <div>\n",
              "<style scoped>\n",
              "    .dataframe tbody tr th:only-of-type {\n",
              "        vertical-align: middle;\n",
              "    }\n",
              "\n",
              "    .dataframe tbody tr th {\n",
              "        vertical-align: top;\n",
              "    }\n",
              "\n",
              "    .dataframe thead th {\n",
              "        text-align: right;\n",
              "    }\n",
              "</style>\n",
              "<table border=\"1\" class=\"dataframe\">\n",
              "  <thead>\n",
              "    <tr style=\"text-align: right;\">\n",
              "      <th></th>\n",
              "      <th>Airline</th>\n",
              "      <th>Source</th>\n",
              "      <th>Destination</th>\n",
              "      <th>Route</th>\n",
              "      <th>Dep_Time</th>\n",
              "      <th>Arrival_Time</th>\n",
              "      <th>Total_Stops</th>\n",
              "      <th>Price</th>\n",
              "      <th>Journey_Day</th>\n",
              "      <th>Journey_Month</th>\n",
              "      <th>Journey_Hour</th>\n",
              "      <th>Journey_Minute</th>\n",
              "      <th>Arrival_Hour</th>\n",
              "      <th>Arrival_Minute</th>\n",
              "      <th>Route_1</th>\n",
              "      <th>Route_2</th>\n",
              "      <th>Route_3</th>\n",
              "      <th>Route_4</th>\n",
              "      <th>Route_5</th>\n",
              "      <th>Duration_hours</th>\n",
              "      <th>Duration_mins</th>\n",
              "      <th>Chennai</th>\n",
              "      <th>Delhi</th>\n",
              "      <th>Kolkata</th>\n",
              "      <th>Mumbai</th>\n",
              "      <th>Air India</th>\n",
              "      <th>GoAir</th>\n",
              "      <th>IndiGo</th>\n",
              "      <th>Jet Airways</th>\n",
              "      <th>Jet Airways Business</th>\n",
              "      <th>Multiple carriers</th>\n",
              "      <th>Multiple carriers Premium economy</th>\n",
              "      <th>SpiceJet</th>\n",
              "      <th>Trujet</th>\n",
              "      <th>Vistara</th>\n",
              "      <th>Vistara Premium economy</th>\n",
              "      <th>Cochin</th>\n",
              "      <th>Delhi</th>\n",
              "      <th>Hyderabad</th>\n",
              "      <th>Kolkata</th>\n",
              "      <th>New Delhi</th>\n",
              "    </tr>\n",
              "  </thead>\n",
              "  <tbody>\n",
              "    <tr>\n",
              "      <th>0</th>\n",
              "      <td>IndiGo</td>\n",
              "      <td>Banglore</td>\n",
              "      <td>New Delhi</td>\n",
              "      <td>BLR ? DEL</td>\n",
              "      <td>2022-04-30 22:20:00</td>\n",
              "      <td>2022-03-22 01:10:00</td>\n",
              "      <td>0</td>\n",
              "      <td>3897</td>\n",
              "      <td>24</td>\n",
              "      <td>3</td>\n",
              "      <td>22</td>\n",
              "      <td>20</td>\n",
              "      <td>1</td>\n",
              "      <td>10</td>\n",
              "      <td>0</td>\n",
              "      <td>13</td>\n",
              "      <td>29</td>\n",
              "      <td>13</td>\n",
              "      <td>5</td>\n",
              "      <td>2</td>\n",
              "      <td>2</td>\n",
              "      <td>0</td>\n",
              "      <td>0</td>\n",
              "      <td>0</td>\n",
              "      <td>0</td>\n",
              "      <td>0</td>\n",
              "      <td>0</td>\n",
              "      <td>1</td>\n",
              "      <td>0</td>\n",
              "      <td>0</td>\n",
              "      <td>0</td>\n",
              "      <td>0</td>\n",
              "      <td>0</td>\n",
              "      <td>0</td>\n",
              "      <td>0</td>\n",
              "      <td>0</td>\n",
              "      <td>0</td>\n",
              "      <td>0</td>\n",
              "      <td>0</td>\n",
              "      <td>0</td>\n",
              "      <td>1</td>\n",
              "    </tr>\n",
              "    <tr>\n",
              "      <th>1</th>\n",
              "      <td>Air India</td>\n",
              "      <td>Kolkata</td>\n",
              "      <td>Banglore</td>\n",
              "      <td>CCU ? IXR ? BBI ? BLR</td>\n",
              "      <td>2022-04-30 05:50:00</td>\n",
              "      <td>2022-04-30 13:15:00</td>\n",
              "      <td>2</td>\n",
              "      <td>7662</td>\n",
              "      <td>5</td>\n",
              "      <td>1</td>\n",
              "      <td>5</td>\n",
              "      <td>50</td>\n",
              "      <td>13</td>\n",
              "      <td>15</td>\n",
              "      <td>2</td>\n",
              "      <td>25</td>\n",
              "      <td>1</td>\n",
              "      <td>3</td>\n",
              "      <td>5</td>\n",
              "      <td>7</td>\n",
              "      <td>7</td>\n",
              "      <td>0</td>\n",
              "      <td>0</td>\n",
              "      <td>1</td>\n",
              "      <td>0</td>\n",
              "      <td>1</td>\n",
              "      <td>0</td>\n",
              "      <td>0</td>\n",
              "      <td>0</td>\n",
              "      <td>0</td>\n",
              "      <td>0</td>\n",
              "      <td>0</td>\n",
              "      <td>0</td>\n",
              "      <td>0</td>\n",
              "      <td>0</td>\n",
              "      <td>0</td>\n",
              "      <td>0</td>\n",
              "      <td>0</td>\n",
              "      <td>0</td>\n",
              "      <td>0</td>\n",
              "      <td>0</td>\n",
              "    </tr>\n",
              "    <tr>\n",
              "      <th>2</th>\n",
              "      <td>Jet Airways</td>\n",
              "      <td>Delhi</td>\n",
              "      <td>Cochin</td>\n",
              "      <td>DEL ? LKO ? BOM ? COK</td>\n",
              "      <td>2022-04-30 09:25:00</td>\n",
              "      <td>2022-06-10 04:25:00</td>\n",
              "      <td>2</td>\n",
              "      <td>13882</td>\n",
              "      <td>6</td>\n",
              "      <td>9</td>\n",
              "      <td>9</td>\n",
              "      <td>25</td>\n",
              "      <td>4</td>\n",
              "      <td>25</td>\n",
              "      <td>3</td>\n",
              "      <td>32</td>\n",
              "      <td>4</td>\n",
              "      <td>5</td>\n",
              "      <td>5</td>\n",
              "      <td>19</td>\n",
              "      <td>19</td>\n",
              "      <td>0</td>\n",
              "      <td>1</td>\n",
              "      <td>0</td>\n",
              "      <td>0</td>\n",
              "      <td>0</td>\n",
              "      <td>0</td>\n",
              "      <td>0</td>\n",
              "      <td>1</td>\n",
              "      <td>0</td>\n",
              "      <td>0</td>\n",
              "      <td>0</td>\n",
              "      <td>0</td>\n",
              "      <td>0</td>\n",
              "      <td>0</td>\n",
              "      <td>0</td>\n",
              "      <td>1</td>\n",
              "      <td>0</td>\n",
              "      <td>0</td>\n",
              "      <td>0</td>\n",
              "      <td>0</td>\n",
              "    </tr>\n",
              "    <tr>\n",
              "      <th>3</th>\n",
              "      <td>IndiGo</td>\n",
              "      <td>Kolkata</td>\n",
              "      <td>Banglore</td>\n",
              "      <td>CCU ? NAG ? BLR</td>\n",
              "      <td>2022-04-30 18:05:00</td>\n",
              "      <td>2022-04-30 23:30:00</td>\n",
              "      <td>1</td>\n",
              "      <td>6218</td>\n",
              "      <td>5</td>\n",
              "      <td>12</td>\n",
              "      <td>18</td>\n",
              "      <td>5</td>\n",
              "      <td>23</td>\n",
              "      <td>30</td>\n",
              "      <td>2</td>\n",
              "      <td>34</td>\n",
              "      <td>3</td>\n",
              "      <td>13</td>\n",
              "      <td>5</td>\n",
              "      <td>5</td>\n",
              "      <td>5</td>\n",
              "      <td>0</td>\n",
              "      <td>0</td>\n",
              "      <td>1</td>\n",
              "      <td>0</td>\n",
              "      <td>0</td>\n",
              "      <td>0</td>\n",
              "      <td>1</td>\n",
              "      <td>0</td>\n",
              "      <td>0</td>\n",
              "      <td>0</td>\n",
              "      <td>0</td>\n",
              "      <td>0</td>\n",
              "      <td>0</td>\n",
              "      <td>0</td>\n",
              "      <td>0</td>\n",
              "      <td>0</td>\n",
              "      <td>0</td>\n",
              "      <td>0</td>\n",
              "      <td>0</td>\n",
              "      <td>0</td>\n",
              "    </tr>\n",
              "    <tr>\n",
              "      <th>4</th>\n",
              "      <td>IndiGo</td>\n",
              "      <td>Banglore</td>\n",
              "      <td>New Delhi</td>\n",
              "      <td>BLR ? NAG ? DEL</td>\n",
              "      <td>2022-04-30 16:50:00</td>\n",
              "      <td>2022-04-30 21:35:00</td>\n",
              "      <td>1</td>\n",
              "      <td>13302</td>\n",
              "      <td>3</td>\n",
              "      <td>1</td>\n",
              "      <td>16</td>\n",
              "      <td>50</td>\n",
              "      <td>21</td>\n",
              "      <td>35</td>\n",
              "      <td>0</td>\n",
              "      <td>34</td>\n",
              "      <td>8</td>\n",
              "      <td>13</td>\n",
              "      <td>5</td>\n",
              "      <td>4</td>\n",
              "      <td>4</td>\n",
              "      <td>0</td>\n",
              "      <td>0</td>\n",
              "      <td>0</td>\n",
              "      <td>0</td>\n",
              "      <td>0</td>\n",
              "      <td>0</td>\n",
              "      <td>1</td>\n",
              "      <td>0</td>\n",
              "      <td>0</td>\n",
              "      <td>0</td>\n",
              "      <td>0</td>\n",
              "      <td>0</td>\n",
              "      <td>0</td>\n",
              "      <td>0</td>\n",
              "      <td>0</td>\n",
              "      <td>0</td>\n",
              "      <td>0</td>\n",
              "      <td>0</td>\n",
              "      <td>0</td>\n",
              "      <td>1</td>\n",
              "    </tr>\n",
              "  </tbody>\n",
              "</table>\n",
              "</div>\n",
              "      <button class=\"colab-df-convert\" onclick=\"convertToInteractive('df-dd769e82-88b0-469a-954b-8157ee52086b')\"\n",
              "              title=\"Convert this dataframe to an interactive table.\"\n",
              "              style=\"display:none;\">\n",
              "        \n",
              "  <svg xmlns=\"http://www.w3.org/2000/svg\" height=\"24px\"viewBox=\"0 0 24 24\"\n",
              "       width=\"24px\">\n",
              "    <path d=\"M0 0h24v24H0V0z\" fill=\"none\"/>\n",
              "    <path d=\"M18.56 5.44l.94 2.06.94-2.06 2.06-.94-2.06-.94-.94-2.06-.94 2.06-2.06.94zm-11 1L8.5 8.5l.94-2.06 2.06-.94-2.06-.94L8.5 2.5l-.94 2.06-2.06.94zm10 10l.94 2.06.94-2.06 2.06-.94-2.06-.94-.94-2.06-.94 2.06-2.06.94z\"/><path d=\"M17.41 7.96l-1.37-1.37c-.4-.4-.92-.59-1.43-.59-.52 0-1.04.2-1.43.59L10.3 9.45l-7.72 7.72c-.78.78-.78 2.05 0 2.83L4 21.41c.39.39.9.59 1.41.59.51 0 1.02-.2 1.41-.59l7.78-7.78 2.81-2.81c.8-.78.8-2.07 0-2.86zM5.41 20L4 18.59l7.72-7.72 1.47 1.35L5.41 20z\"/>\n",
              "  </svg>\n",
              "      </button>\n",
              "      \n",
              "  <style>\n",
              "    .colab-df-container {\n",
              "      display:flex;\n",
              "      flex-wrap:wrap;\n",
              "      gap: 12px;\n",
              "    }\n",
              "\n",
              "    .colab-df-convert {\n",
              "      background-color: #E8F0FE;\n",
              "      border: none;\n",
              "      border-radius: 50%;\n",
              "      cursor: pointer;\n",
              "      display: none;\n",
              "      fill: #1967D2;\n",
              "      height: 32px;\n",
              "      padding: 0 0 0 0;\n",
              "      width: 32px;\n",
              "    }\n",
              "\n",
              "    .colab-df-convert:hover {\n",
              "      background-color: #E2EBFA;\n",
              "      box-shadow: 0px 1px 2px rgba(60, 64, 67, 0.3), 0px 1px 3px 1px rgba(60, 64, 67, 0.15);\n",
              "      fill: #174EA6;\n",
              "    }\n",
              "\n",
              "    [theme=dark] .colab-df-convert {\n",
              "      background-color: #3B4455;\n",
              "      fill: #D2E3FC;\n",
              "    }\n",
              "\n",
              "    [theme=dark] .colab-df-convert:hover {\n",
              "      background-color: #434B5C;\n",
              "      box-shadow: 0px 1px 3px 1px rgba(0, 0, 0, 0.15);\n",
              "      filter: drop-shadow(0px 1px 2px rgba(0, 0, 0, 0.3));\n",
              "      fill: #FFFFFF;\n",
              "    }\n",
              "  </style>\n",
              "\n",
              "      <script>\n",
              "        const buttonEl =\n",
              "          document.querySelector('#df-dd769e82-88b0-469a-954b-8157ee52086b button.colab-df-convert');\n",
              "        buttonEl.style.display =\n",
              "          google.colab.kernel.accessAllowed ? 'block' : 'none';\n",
              "\n",
              "        async function convertToInteractive(key) {\n",
              "          const element = document.querySelector('#df-dd769e82-88b0-469a-954b-8157ee52086b');\n",
              "          const dataTable =\n",
              "            await google.colab.kernel.invokeFunction('convertToInteractive',\n",
              "                                                     [key], {});\n",
              "          if (!dataTable) return;\n",
              "\n",
              "          const docLinkHtml = 'Like what you see? Visit the ' +\n",
              "            '<a target=\"_blank\" href=https://colab.research.google.com/notebooks/data_table.ipynb>data table notebook</a>'\n",
              "            + ' to learn more about interactive tables.';\n",
              "          element.innerHTML = '';\n",
              "          dataTable['output_type'] = 'display_data';\n",
              "          await google.colab.output.renderOutput(dataTable, element);\n",
              "          const docLink = document.createElement('div');\n",
              "          docLink.innerHTML = docLinkHtml;\n",
              "          element.appendChild(docLink);\n",
              "        }\n",
              "      </script>\n",
              "    </div>\n",
              "  </div>\n",
              "  "
            ]
          },
          "metadata": {},
          "execution_count": 140
        }
      ]
    },
    {
      "cell_type": "code",
      "source": [
        "df.drop('Airline',axis=1,inplace=True)\n",
        "df.drop('Source',axis=1,inplace=True)\n",
        "df.drop('Destination',axis=1,inplace=True)\n",
        "df.drop('Route',axis=1,inplace=True)\n",
        "df.drop('Dep_Time',axis=1,inplace=True)\n",
        "df.drop('Arrival_Time',axis=1,inplace=True)"
      ],
      "metadata": {
        "id": "YY8BJpo58xvD"
      },
      "execution_count": 141,
      "outputs": []
    },
    {
      "cell_type": "code",
      "source": [
        "X=df.drop('Price',axis=1)"
      ],
      "metadata": {
        "id": "IpjtPIp48zbv"
      },
      "execution_count": 142,
      "outputs": []
    },
    {
      "cell_type": "code",
      "source": [
        "y=df['Price']"
      ],
      "metadata": {
        "id": "9FOHw-8E811_"
      },
      "execution_count": 143,
      "outputs": []
    },
    {
      "cell_type": "code",
      "source": [
        "from sklearn.feature_selection import mutual_info_classif"
      ],
      "metadata": {
        "id": "0M5deqb583_p"
      },
      "execution_count": 144,
      "outputs": []
    },
    {
      "cell_type": "code",
      "source": [
        "mutual_info_classif(X,y)"
      ],
      "metadata": {
        "colab": {
          "base_uri": "https://localhost:8080/"
        },
        "id": "9jQ5LdHt861z",
        "outputId": "58e881b4-509d-45db-a0e3-5f297313ad29"
      },
      "execution_count": 145,
      "outputs": [
        {
          "output_type": "execute_result",
          "data": {
            "text/plain": [
              "array([2.14856437, 1.08064476, 0.87807617, 1.42997051, 1.1994171 ,\n",
              "       1.86873986, 1.54352139, 2.08795245, 2.76379458, 2.33492735,\n",
              "       1.4381685 , 0.75911448, 1.7749475 , 1.77334888, 0.18172525,\n",
              "       1.52192979, 0.88561152, 0.29191835, 0.76261024, 0.09096109,\n",
              "       0.66258946, 0.95537633, 0.00746922, 0.57872888, 0.01963465,\n",
              "       0.33490217, 0.        , 0.22660381, 0.00769795, 1.5573513 ,\n",
              "       0.39933891, 0.29194611, 0.17430582, 0.37875503])"
            ]
          },
          "metadata": {},
          "execution_count": 145
        }
      ]
    },
    {
      "cell_type": "code",
      "source": [
        "from sklearn.model_selection import train_test_split"
      ],
      "metadata": {
        "id": "V6zjvTiR9CJ1"
      },
      "execution_count": 146,
      "outputs": []
    },
    {
      "cell_type": "code",
      "source": [
        "X_train,X_test,y_train,y_test=train_test_split(X,y,test_size=0.2)"
      ],
      "metadata": {
        "id": "ik7maDJV9GUb"
      },
      "execution_count": 147,
      "outputs": []
    },
    {
      "cell_type": "code",
      "source": [
        "from sklearn import metrics\n",
        "import numpy as np"
      ],
      "metadata": {
        "id": "xNqlUAYP9H0q"
      },
      "execution_count": 148,
      "outputs": []
    },
    {
      "cell_type": "code",
      "source": [
        "def model(algo):\n",
        "    my_model = algo.fit(X_train,y_train)\n",
        "    print('train_score',my_model.score(X_train,y_train))\n",
        "    y_pred=my_model.predict(X_test)\n",
        "    r2_score=metrics.r2_score(y_test,y_pred)\n",
        "    print('r2_score:',r2_score)\n",
        "    mae=metrics.mean_absolute_error(y_test,y_pred)\n",
        "    print('Mean absolute error:',mae)\n",
        "    rmse = np.sqrt(metrics.mean_squared_error(y_test,y_pred))\n",
        "    print('RMSE:',rmse)\n",
        "    sns.displot(y_test-y_pred)"
      ],
      "metadata": {
        "id": "n1BcrS1q9JMt"
      },
      "execution_count": 149,
      "outputs": []
    },
    {
      "cell_type": "code",
      "source": [
        "from sklearn.linear_model import LinearRegression"
      ],
      "metadata": {
        "id": "zQm2tBYE9Klc"
      },
      "execution_count": 150,
      "outputs": []
    },
    {
      "cell_type": "code",
      "source": [
        "model(LinearRegression())"
      ],
      "metadata": {
        "colab": {
          "base_uri": "https://localhost:8080/",
          "height": 438
        },
        "id": "T-tvOxy39MOc",
        "outputId": "357815cc-00bb-41f7-e4b5-f116504c312f"
      },
      "execution_count": 151,
      "outputs": [
        {
          "output_type": "stream",
          "name": "stdout",
          "text": [
            "train_score 0.6409921194975386\n",
            "r2_score: 0.5768544085127845\n",
            "Mean absolute error: 2005.9747920028929\n",
            "RMSE: 3014.223874871855\n"
          ]
        },
        {
          "output_type": "display_data",
          "data": {
            "text/plain": [
              "<Figure size 360x360 with 1 Axes>"
            ],
            "image/png": "[encoded data removed]"
          },
          "metadata": {
            "needs_background": "light"
          }
        }
      ]
    },
    {
      "cell_type": "code",
      "source": [
        "from sklearn.tree import DecisionTreeRegressor"
      ],
      "metadata": {
        "id": "FrWUwzBJ9N_K"
      },
      "execution_count": 152,
      "outputs": []
    },
    {
      "cell_type": "code",
      "source": [
        "model(DecisionTreeRegressor())"
      ],
      "metadata": {
        "colab": {
          "base_uri": "https://localhost:8080/",
          "height": 438
        },
        "id": "kJXvQ2Gp9Pcs",
        "outputId": "dd08e236-ad65-4eaf-8a0d-3f1a7d35a3a7"
      },
      "execution_count": 153,
      "outputs": [
        {
          "output_type": "stream",
          "name": "stdout",
          "text": [
            "train_score 0.9702841285947948\n",
            "r2_score: 0.7000169238843013\n",
            "Mean absolute error: 1351.2682654812043\n",
            "RMSE: 2537.926101285272\n"
          ]
        },
        {
          "output_type": "display_data",
          "data": {
            "text/plain": [
              "<Figure size 360x360 with 1 Axes>"
            ],
            "image/png": "[encoded data removed]"
          },
          "metadata": {
            "needs_background": "light"
          }
        }
      ]
    },
    {
      "cell_type": "code",
      "source": [
        "from sklearn.ensemble import RandomForestRegressor"
      ],
      "metadata": {
        "id": "wlrnLwgN9Rjb"
      },
      "execution_count": 154,
      "outputs": []
    },
    {
      "cell_type": "code",
      "source": [
        "model(RandomForestRegressor())"
      ],
      "metadata": {
        "colab": {
          "base_uri": "https://localhost:8080/",
          "height": 438
        },
        "id": "c3L5CZnm9VEq",
        "outputId": "144033e3-9546-4f02-a717-d476f7f4f660"
      },
      "execution_count": 155,
      "outputs": [
        {
          "output_type": "stream",
          "name": "stdout",
          "text": [
            "train_score 0.9550828290740936\n",
            "r2_score: 0.8057407136469867\n",
            "Mean absolute error: 1163.0206687990947\n",
            "RMSE: 2042.3091807900155\n"
          ]
        },
        {
          "output_type": "display_data",
          "data": {
            "text/plain": [
              "<Figure size 360x360 with 1 Axes>"
            ],
            "image/png": "[encoded data removed]"
          },
          "metadata": {
            "needs_background": "light"
          }
        }
      ]
    }
  ]
}