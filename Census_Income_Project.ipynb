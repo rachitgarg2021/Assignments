{
  "nbformat": 4,
  "nbformat_minor": 0,
  "metadata": {
    "colab": {
      "name": "Census_Income_Project.ipynb",
      "provenance": [],
      "collapsed_sections": []
    },
    "kernelspec": {
      "name": "python3",
      "display_name": "Python 3"
    },
    "language_info": {
      "name": "python"
    }
  },
  "cells": [
    {
      "cell_type": "markdown",
      "source": [
        ""
      ],
      "metadata": {
        "id": "AfxGlxSY1oiD"
      }
    },
    {
      "cell_type": "markdown",
      "source": [
        "# **Census Income Prediction**"
      ],
      "metadata": {
        "id": "DcySnenn1kP5"
      }
    },
    {
      "cell_type": "markdown",
      "source": [
        "Problem **Statement**"
      ],
      "metadata": {
        "id": "eTlrj4dy1mid"
      }
    },
    {
      "cell_type": "markdown",
      "source": [
        "This data was extracted from the 1994 Census bureau database by Ronny Kohavi and Barry Becker (Data Mining and Visualization, Silicon Graphics). A set of reasonably clean records was extracted using the following conditions: ((AAGE>16) && (AGI>100) && (AFNLWGT>1) && (HRSWK>0)).\n",
        "\n",
        "In the daset Income is the target variable which has two classes so it termed to be a Classification problem. Here the prediction task is to determine whether a person makes over $50K a year."
      ],
      "metadata": {
        "id": "wulgBz-G1pKR"
      }
    },
    {
      "cell_type": "markdown",
      "source": [
        "# **Importing necessary Libraries**"
      ],
      "metadata": {
        "id": "fNX-rBhR1u5h"
      }
    },
    {
      "cell_type": "code",
      "execution_count": null,
      "metadata": {
        "id": "uaN_Te8O1QWU"
      },
      "outputs": [],
      "source": [
        "import pandas as pd\n",
        "import numpy as np\n",
        "import matplotlib.pyplot as plt\n",
        "import seaborn as sns\n",
        "import warnings\n",
        "warnings.filterwarnings('ignore')"
      ]
    },
    {
      "cell_type": "markdown",
      "source": [
        "# **Loading dataset:**"
      ],
      "metadata": {
        "id": "W1VclkAo11PI"
      }
    },
    {
      "cell_type": "code",
      "source": [
        "# Reading the csv file in a dataframe\n",
        "df = pd.read_csv('/content/drive/MyDrive/census_income.csv')\n",
        "df"
      ],
      "metadata": {
        "id": "M9cGXmZG124g"
      },
      "execution_count": null,
      "outputs": []
    },
    {
      "cell_type": "markdown",
      "source": [
        "The dataset contains the information of 51 state samples of US population.The dataset contains 15 columns including the features and the target variable. Here,Income column is the label which is less than or greater than 50K depending on the various features like Age, Workclass, Fnlwgt,Education, Education_num, marital_status, Occupation, Relationship, Race, Sex, Capital_gain, Capital_loss, Hours_per_week and Native_country.As Income variable has two classes i.e <=50K or >=50, it a a Classification Problem Statement and we need to redict that whether hte person's income is over 50K or not."
      ],
      "metadata": {
        "id": "IlCYSGL92NAR"
      }
    },
    {
      "cell_type": "code",
      "source": [
        "# Displaying top 20 records of this dataset\n",
        "df.head(20)"
      ],
      "metadata": {
        "id": "ulMpUSXV127n"
      },
      "execution_count": null,
      "outputs": []
    },
    {
      "cell_type": "code",
      "source": [
        "# Displaying bottom 20 records of this dataset\n",
        "df.tail(20)"
      ],
      "metadata": {
        "id": "Pf5FrbQN12-h"
      },
      "execution_count": null,
      "outputs": []
    },
    {
      "cell_type": "markdown",
      "source": [
        "By observing the records, we came across some corrupted data which are filled with '?', which needs to get filled or drop."
      ],
      "metadata": {
        "id": "hGLtKliG2U8g"
      }
    },
    {
      "cell_type": "markdown",
      "source": [
        "# **Exploratory Data Analysis (EDA)**"
      ],
      "metadata": {
        "id": "TB-lieVG2Xu3"
      }
    },
    {
      "cell_type": "code",
      "source": [
        "#Checking the dimensions of the dataframe\n",
        "df.shape"
      ],
      "metadata": {
        "id": "hwPzqrSg13Bm"
      },
      "execution_count": null,
      "outputs": []
    },
    {
      "cell_type": "markdown",
      "source": [
        "The dataframe contains 32560 rows and 15 columns."
      ],
      "metadata": {
        "id": "ALs2AKfU2dR4"
      }
    },
    {
      "cell_type": "code",
      "source": [
        "# For getting the overview summary of the dataset\n",
        "df.info()"
      ],
      "metadata": {
        "id": "tS08FUtv2eKH"
      },
      "execution_count": null,
      "outputs": []
    },
    {
      "cell_type": "markdown",
      "source": [
        "This provides the information about the dataset including the range index, column type, no null values and memory usage."
      ],
      "metadata": {
        "id": "ZowMWNuK2iY3"
      }
    },
    {
      "cell_type": "code",
      "source": [
        "# Checking the types of the dataset\n",
        "df.dtypes"
      ],
      "metadata": {
        "id": "plyC7wCc2eOX"
      },
      "execution_count": null,
      "outputs": []
    },
    {
      "cell_type": "markdown",
      "source": [
        "So, out of 15 columns, 6 are numeric data variables and 9 are categorical data variables.And we need to tranform these categorical data variables to numeric format for further preoceedings."
      ],
      "metadata": {
        "id": "TS7czRaB2osu"
      }
    },
    {
      "cell_type": "code",
      "source": [
        "# Checking the unique values in each column\n",
        "df.nunique()"
      ],
      "metadata": {
        "id": "9NPnoM7X2eRL"
      },
      "execution_count": null,
      "outputs": []
    },
    {
      "cell_type": "markdown",
      "source": [
        "These are the number of unique values present in each column."
      ],
      "metadata": {
        "id": "xgyAlYi62uW2"
      }
    },
    {
      "cell_type": "markdown",
      "source": [
        "# Checking for missing **data**"
      ],
      "metadata": {
        "id": "wdaABPPH2wTH"
      }
    },
    {
      "cell_type": "code",
      "source": [
        "# Checking null values in the dataset.\n",
        "df.isnull().sum()"
      ],
      "metadata": {
        "id": "VJX88Gjc2eVw"
      },
      "execution_count": null,
      "outputs": []
    },
    {
      "cell_type": "markdown",
      "source": [
        "**Visualizing missing data using heatmap**"
      ],
      "metadata": {
        "id": "58mUL9wF2082"
      }
    },
    {
      "cell_type": "code",
      "source": [
        "# Null values visulaization using heatmap\n",
        "sns.heatmap(df.isnull())"
      ],
      "metadata": {
        "id": "cECngeY92eXU"
      },
      "execution_count": null,
      "outputs": []
    },
    {
      "cell_type": "markdown",
      "source": [
        "We can get a clear visualization of no null data."
      ],
      "metadata": {
        "id": "ZUaK0W4V27On"
      }
    },
    {
      "cell_type": "code",
      "source": [
        "# Checking the columns of the dataset\n",
        "df.columns.tolist()"
      ],
      "metadata": {
        "id": "Itpp1_5u2eai"
      },
      "execution_count": null,
      "outputs": []
    },
    {
      "cell_type": "markdown",
      "source": [
        "# **Value Count on each column**"
      ],
      "metadata": {
        "id": "-GTEHWSh2_Ju"
      }
    },
    {
      "cell_type": "code",
      "source": [
        "# Checking the value_counts of each column\n",
        "for i in df.columns:\n",
        "    print(df[i].value_counts())\n",
        "    print(\"\\n\")"
      ],
      "metadata": {
        "id": "30Z_dVmQ2ecn"
      },
      "execution_count": null,
      "outputs": []
    },
    {
      "cell_type": "markdown",
      "source": [
        "Using value_count method, we fount the list of values present in each column. Here we can see the columns having '?' are 'Workclass','Occupation','Native_country' and they all are categorical variables. So, we can fill them with \"Most Frequently occuring values\" of the respective columns i.e mode values."
      ],
      "metadata": {
        "id": "ZsufXoZG3Ie3"
      }
    },
    {
      "cell_type": "code",
      "source": [
        "df['Workclass'] = df.Workclass.str.replace('?','Private')\n",
        "df['Occupation'] = df.Occupation.str.replace('?','Prof-specialty')\n",
        "df['Native_country'] = df.Native_country.str.replace('?','United-States')"
      ],
      "metadata": {
        "id": "ev4x25jz2eeo"
      },
      "execution_count": null,
      "outputs": []
    },
    {
      "cell_type": "markdown",
      "source": [
        "**Rechecking for '?' values**"
      ],
      "metadata": {
        "id": "v90j7jXW3MtU"
      }
    },
    {
      "cell_type": "code",
      "source": [
        "for i in df[['Workclass','Occupation','Native_country']]:\n",
        "    print(df[i].value_counts())\n",
        "    print(\"\\n\")"
      ],
      "metadata": {
        "id": "qj5JslZ22ehe"
      },
      "execution_count": null,
      "outputs": []
    },
    {
      "cell_type": "markdown",
      "source": [
        "Now we can see there is no '?' sign. It means it got filled.\n",
        "\n",
        "Also we can notice the columns capital gain and capital loss are having majorly '0s',which will impact the model prediction. So lets drop these columns"
      ],
      "metadata": {
        "id": "75Hs5j3C3TSM"
      }
    },
    {
      "cell_type": "code",
      "source": [
        "# Dropping the columns having more no. of '0s'\n",
        "df.drop(\"Capital_gain\",axis=1,inplace=True)\n",
        "df.drop(\"Capital_loss\",axis=1,inplace=True)"
      ],
      "metadata": {
        "id": "-MYmf_g_3QnU"
      },
      "execution_count": null,
      "outputs": []
    },
    {
      "cell_type": "code",
      "source": [
        "# Checking the dataframe\n",
        "df.head(20)"
      ],
      "metadata": {
        "id": "puyn-2Dx3Qqj"
      },
      "execution_count": null,
      "outputs": []
    },
    {
      "cell_type": "code",
      "source": [
        "# Checking the list of values of Income\n",
        "df['Income'].value_counts()"
      ],
      "metadata": {
        "id": "XRSwsHOQ3Qts"
      },
      "execution_count": null,
      "outputs": []
    },
    {
      "cell_type": "markdown",
      "source": [
        "These are the two unique values in the target variable ehich are <=50K and >=50K. We can state that the class is imbalanced and we need to balance the data using SMOTE before model building."
      ],
      "metadata": {
        "id": "408O00_f3ddW"
      }
    },
    {
      "cell_type": "code",
      "source": [
        "# Checking whether the dataset contain any space\n",
        "df.loc[df['Income']==\" \"]"
      ],
      "metadata": {
        "id": "gZvJzKj23QwV"
      },
      "execution_count": null,
      "outputs": []
    },
    {
      "cell_type": "markdown",
      "source": [
        "It means there is no space in the dataset."
      ],
      "metadata": {
        "id": "RjoVApda3ifA"
      }
    },
    {
      "cell_type": "code",
      "source": [
        "# Statistical summary of the dataset\n",
        "df.describe()"
      ],
      "metadata": {
        "id": "4dB_KZT-3QzC"
      },
      "execution_count": null,
      "outputs": []
    },
    {
      "cell_type": "markdown",
      "source": [
        "This gives the statistical information of the dataset. The summary of this dataset looks perfect as there is no negative/invalid values present. From the above description we can observe the following things:"
      ],
      "metadata": {
        "id": "sVWJgK2M3_l8"
      }
    },
    {
      "cell_type": "markdown",
      "source": [
        "The counts of the columns are same which means there is no missing values presentin any column."
      ],
      "metadata": {
        "id": "YMbqTS054HGz"
      }
    },
    {
      "cell_type": "markdown",
      "source": [
        "The mean is greater than the median(50%)in some columns which means they are skewed to the right."
      ],
      "metadata": {
        "id": "9YttilKv4ISi"
      }
    },
    {
      "cell_type": "markdown",
      "source": [
        "The mean and the median(50%) are almost equal in Education_num and Hours_per_week which means the data is symmetric in these columns hence the data is normal and no skewness present here."
      ],
      "metadata": {
        "id": "wTStJQUV4L1i"
      }
    },
    {
      "cell_type": "markdown",
      "source": [
        "There is a huge difference in 75% amd max it shows that huge outliers are present in the columns."
      ],
      "metadata": {
        "id": "XnBG8vFX4M4R"
      }
    },
    {
      "cell_type": "markdown",
      "source": [
        "In summarizing the data we can observe that the dataset contains the person's age between 17 years to 90 years."
      ],
      "metadata": {
        "id": "6Ka5qgF44PKM"
      }
    },
    {
      "cell_type": "markdown",
      "source": [
        "# **Separating Categorical and numerical columns**"
      ],
      "metadata": {
        "id": "K39R___L4ZBZ"
      }
    },
    {
      "cell_type": "code",
      "source": [
        "# checking for categorical columns\n",
        "categorical_col = []\n",
        "for i in df.dtypes.index:\n",
        "    if df.dtypes[i] == \"object\":\n",
        "        categorical_col.append(i)\n",
        "print(categorical_col)"
      ],
      "metadata": {
        "id": "FOsG3xhk3Q1y"
      },
      "execution_count": null,
      "outputs": []
    },
    {
      "cell_type": "markdown",
      "source": [
        "These are the categorical columns present in the dataset."
      ],
      "metadata": {
        "id": "8xcuRiaE4eXT"
      }
    },
    {
      "cell_type": "code",
      "source": [
        "# checking for numerical columns\n",
        "numerical_col = []\n",
        "for i in df.dtypes.index:\n",
        "    if df.dtypes[i] != \"object\":\n",
        "        numerical_col.append(i)\n",
        "print(numerical_col)"
      ],
      "metadata": {
        "id": "ZA7SmoMR3Q4m"
      },
      "execution_count": null,
      "outputs": []
    },
    {
      "cell_type": "code",
      "source": [
        ""
      ],
      "metadata": {
        "id": "GLafjhEG4p_m"
      },
      "execution_count": null,
      "outputs": []
    },
    {
      "cell_type": "markdown",
      "source": [
        "These are the columns having numerical data."
      ],
      "metadata": {
        "id": "gnsR1J034iEL"
      }
    },
    {
      "cell_type": "markdown",
      "source": [
        "# **Data Visualization**"
      ],
      "metadata": {
        "id": "8Rowf1pB4oyZ"
      }
    },
    {
      "cell_type": "markdown",
      "source": [
        "**Univariate Analysis:**"
      ],
      "metadata": {
        "id": "pFKmR_LJ4qoy"
      }
    },
    {
      "cell_type": "code",
      "source": [
        "# Visualizing whether the income is above 50K or not.\n",
        "plt.figure(figsize=(10,10))\n",
        "sns.countplot(df['Income'])\n",
        "plt.show()"
      ],
      "metadata": {
        "id": "s5Lvkw8Z4jcr"
      },
      "execution_count": null,
      "outputs": []
    },
    {
      "cell_type": "markdown",
      "source": [
        "Most of the people have the income less than or equal to 50K. We can also observr the class is imbalance and hence needs to balance it before model building."
      ],
      "metadata": {
        "id": "7avUfQPa4whJ"
      }
    },
    {
      "cell_type": "code",
      "source": [
        "# Visualizing the count of Workclass of the people\n",
        "plt.figure(figsize=(10,10))\n",
        "sns.countplot(df['Workclass'])\n",
        "plt.xticks(rotation=90)\n",
        "plt.show()"
      ],
      "metadata": {
        "id": "q5gcsiyo4jf4"
      },
      "execution_count": null,
      "outputs": []
    },
    {
      "cell_type": "markdown",
      "source": [
        "We can see the count of Private workclass is high compare to others. This means the people working in private sectors are more than the people working in other sectors."
      ],
      "metadata": {
        "id": "CKMGFpYN42N5"
      }
    },
    {
      "cell_type": "code",
      "source": [
        "# Visualizing the count of Education of the people\n",
        "plt.figure(figsize=(10,10))\n",
        "sns.countplot(df['Education'])\n",
        "plt.xticks(rotation=90)\n",
        "plt.show()"
      ],
      "metadata": {
        "id": "5kY_PI0c4jja"
      },
      "execution_count": null,
      "outputs": []
    },
    {
      "cell_type": "markdown",
      "source": [
        "The count of HS-grad is high than others and the count is more than 10K."
      ],
      "metadata": {
        "id": "UR_4uiei46gE"
      }
    },
    {
      "cell_type": "code",
      "source": [
        "# Visualizing the count of Marital_status of the people\n",
        "plt.figure(figsize=(10,10))\n",
        "sns.countplot(df['Marital_status'])\n",
        "plt.xticks(rotation=90)\n",
        "plt.show()"
      ],
      "metadata": {
        "id": "7AF-bgmA4jmM"
      },
      "execution_count": null,
      "outputs": []
    },
    {
      "cell_type": "markdown",
      "source": [
        "The people who got married have high counts followed by the singles or nevermarried."
      ],
      "metadata": {
        "id": "nUMUkJCs5Bp5"
      }
    },
    {
      "cell_type": "code",
      "source": [
        "# Visualizing the count of Occupation of the people\n",
        "plt.figure(figsize=(10,10))\n",
        "sns.countplot(df['Occupation'])\n",
        "plt.xticks(rotation=90)\n",
        "plt.show()"
      ],
      "metadata": {
        "id": "VPbMcjzB4jo_"
      },
      "execution_count": null,
      "outputs": []
    },
    {
      "cell_type": "markdown",
      "source": [
        "The people who are in the position of Prof-speciality have highest count and the people in the position Armed-Forces have very least counts."
      ],
      "metadata": {
        "id": "GcGEWFMi5GPb"
      }
    },
    {
      "cell_type": "code",
      "source": [
        "# Visualizing the count of Relationship of the people\n",
        "plt.figure(figsize=(10,10))\n",
        "sns.countplot(df['Relationship'])\n",
        "plt.xticks(rotation=90)\n",
        "plt.show()"
      ],
      "metadata": {
        "id": "Dvx3OA4e4jr9"
      },
      "execution_count": null,
      "outputs": []
    },
    {
      "cell_type": "markdown",
      "source": [
        "The count is high for the Husband Category which has around 15K of count and other relative has very least count."
      ],
      "metadata": {
        "id": "myDZ9nk75KfQ"
      }
    },
    {
      "cell_type": "code",
      "source": [
        "# Visualizing the count of Race of the people\n",
        "plt.figure(figsize=(10,10))\n",
        "sns.countplot(df['Race'])\n",
        "plt.xticks(rotation=90)\n",
        "plt.show()"
      ],
      "metadata": {
        "id": "oPxxxBRJ4ju1"
      },
      "execution_count": null,
      "outputs": []
    },
    {
      "cell_type": "markdown",
      "source": [
        "White Family groups have high vount of around 30K whereas other race have least count."
      ],
      "metadata": {
        "id": "vtZuo8DE5PYx"
      }
    },
    {
      "cell_type": "code",
      "source": [
        "# Visualizing the count of Sex of the people\n",
        "plt.figure(figsize=(10,10))\n",
        "sns.countplot(df['Sex'])\n",
        "plt.xticks(rotation=90)\n",
        "plt.show()"
      ],
      "metadata": {
        "id": "nRyYKgp55M7R"
      },
      "execution_count": null,
      "outputs": []
    },
    {
      "cell_type": "markdown",
      "source": [
        "The count of Male is high rather than the count of females."
      ],
      "metadata": {
        "id": "kjMV7Q945TNQ"
      }
    },
    {
      "cell_type": "code",
      "source": [
        "# Visualizing the count of Native_country of the people\n",
        "plt.figure(figsize=(10,10))\n",
        "sns.countplot(df['Native_country'])\n",
        "plt.xticks(rotation=90)\n",
        "plt.show()"
      ],
      "metadata": {
        "id": "JQB28SOa5M-d"
      },
      "execution_count": null,
      "outputs": []
    },
    {
      "cell_type": "markdown",
      "source": [
        "The United States Country has the highest coutn of around 29K and other countries have very less counts."
      ],
      "metadata": {
        "id": "sTgq7gRR5XqP"
      }
    },
    {
      "cell_type": "markdown",
      "source": [
        "# **Distribution Of Data(Skewness Visualization)**"
      ],
      "metadata": {
        "id": "TRdSOVzS5Zmx"
      }
    },
    {
      "cell_type": "markdown",
      "source": [
        "**Plotting Numerical Columns**"
      ],
      "metadata": {
        "id": "N_MH8dmC5cVZ"
      }
    },
    {
      "cell_type": "code",
      "source": [
        "# Checking the distribution of data in each numric column\n",
        "\n",
        "plt.figure(figsize=(20,25),facecolor=\"white\")\n",
        "plotnumber=1\n",
        "\n",
        "for col in numerical_col:\n",
        "    if plotnumber<6:\n",
        "        ax = plt.subplot(3,2,plotnumber)\n",
        "        sns.distplot(df[col],color='cyan')\n",
        "        plt.xlabel(col,fontsize=20)\n",
        "    plotnumber+=1\n",
        "plt.tight_layout()"
      ],
      "metadata": {
        "id": "dAxXIP9N5NBD"
      },
      "execution_count": null,
      "outputs": []
    },
    {
      "cell_type": "markdown",
      "source": [
        "From the above distribution plot it can be inferred that Age column seems to be normal but the mean is more than the median so it is rightly skewed."
      ],
      "metadata": {
        "id": "2o00GFqD5xHN"
      }
    },
    {
      "cell_type": "markdown",
      "source": [
        "The data is not normal in the above columns and the column final_weight has right skewness."
      ],
      "metadata": {
        "id": "0nSxj9yB5zn4"
      }
    },
    {
      "cell_type": "markdown",
      "source": [
        "The data in the column Education_num and Hours_per_week are not normal but they have skewness."
      ],
      "metadata": {
        "id": "sJnFyUjK511O"
      }
    },
    {
      "cell_type": "markdown",
      "source": [
        "# **Bivariate Analysis**"
      ],
      "metadata": {
        "id": "LknUKpIB55wp"
      }
    },
    {
      "cell_type": "code",
      "source": [
        "# Visualizing the age of the person who have more income\n",
        "plt.figure(figsize=(10,10))\n",
        "sns.catplot(x='Income',y='Age',data=df,kind='strip')\n",
        "plt.title('Comparison between Income and Age')\n",
        "plt.show()"
      ],
      "metadata": {
        "id": "IRRNcLRU5ND5"
      },
      "execution_count": null,
      "outputs": []
    },
    {
      "cell_type": "markdown",
      "source": [
        "We can say that the person below age of 25 having income less than or equal to 50K."
      ],
      "metadata": {
        "id": "nnsId59y5_42"
      }
    },
    {
      "cell_type": "code",
      "source": [
        "# Visualizing the Final Weight of the person who have more income\n",
        "plt.figure(figsize=(10,10))\n",
        "sns.catplot(x='Income',y='Fnlwgt',data=df,kind='strip',palette=\"gnuplot\")\n",
        "plt.title('Comparison between Income and Final Weight')\n",
        "plt.show()"
      ],
      "metadata": {
        "id": "cvzPl4Ng5NGw"
      },
      "execution_count": null,
      "outputs": []
    },
    {
      "cell_type": "markdown",
      "source": [
        "There is no significant relation between final weight and Income."
      ],
      "metadata": {
        "id": "-ChL2Fu96EWv"
      }
    },
    {
      "cell_type": "code",
      "source": [
        "# Visualizing the number of Education with income\n",
        "plt.figure(figsize=(10,10))\n",
        "sns.catplot(x='Income',y='Education_num',data=df,kind='bar',hue=\"Sex\",palette=\"gist_rainbow\")\n",
        "plt.title('Comparison between Income and Education_num')\n",
        "plt.show()"
      ],
      "metadata": {
        "id": "71tldY3_5NKE"
      },
      "execution_count": null,
      "outputs": []
    },
    {
      "cell_type": "markdown",
      "source": [
        "The income is more than 50K for the people having high education number. Here both gender have the income more than 50K"
      ],
      "metadata": {
        "id": "jvQP2HYv6Io1"
      }
    },
    {
      "cell_type": "code",
      "source": [
        "# Visualizing the number of Hours per week with income\n",
        "plt.figure(figsize=(10,10))\n",
        "sns.catplot(x='Income',y='Hours_per_week',data=df,kind='bar',hue='Sex',palette=\"coolwarm\")\n",
        "plt.title('Comparison between Income and Hours_per_week')\n",
        "plt.show()"
      ],
      "metadata": {
        "id": "7IoC3NPt5NNA"
      },
      "execution_count": null,
      "outputs": []
    },
    {
      "cell_type": "markdown",
      "source": [
        "This shows how the income is related to the hours per week. The income is >=50K when the hours is high for both male and female."
      ],
      "metadata": {
        "id": "HUwh57BD6MvU"
      }
    },
    {
      "cell_type": "code",
      "source": [
        "# Visualizing how the income changes with work class of the people\n",
        "plt.figure(figsize=(10,10))\n",
        "sns.catplot(x='Workclass',y='Education_num', data=df,kind='bar',hue=\"Income\");\n",
        "plt.title('Comparision between Workclass and Education_num')\n",
        "plt.xticks(rotation=90)\n",
        "plt.show()"
      ],
      "metadata": {
        "id": "5BO6gido6Ny2"
      },
      "execution_count": null,
      "outputs": []
    },
    {
      "cell_type": "markdown",
      "source": [
        "The people having gov sector jobs(State gov, Federal gov,Local gov) with high education number have the income >50K, also the Private sector position with average education number have second highest income >=50K."
      ],
      "metadata": {
        "id": "zrA3NRsm6Rwf"
      }
    },
    {
      "cell_type": "code",
      "source": [
        "# Visualizing the relation between work class and Income of the people\n",
        "plt.figure(figsize=(10,10))\n",
        "sns.countplot(df[\"Workclass\"],hue=df[\"Income\"])\n",
        "plt.title(\"Comparision between Workclass and Income\")\n",
        "plt.show()"
      ],
      "metadata": {
        "id": "9RuMLJCF6OAs"
      },
      "execution_count": null,
      "outputs": []
    },
    {
      "cell_type": "markdown",
      "source": [
        "The people who are working in the private sectors have the income <=50K and very few people in that sector have income >=50K."
      ],
      "metadata": {
        "id": "9P2cH_SG6WSf"
      }
    },
    {
      "cell_type": "code",
      "source": [
        "# Visualizing the relation between Education and Income of the people\n",
        "plt.figure(figsize=(10,10))\n",
        "sns.countplot(df[\"Education\"],hue=df[\"Income\"],palette='ch:.25')\n",
        "plt.title(\"Comparision between Education and Income\")\n",
        "plt.xticks(rotation=90)\n",
        "plt.show()"
      ],
      "metadata": {
        "id": "jTMxwMop6OEC"
      },
      "execution_count": null,
      "outputs": []
    },
    {
      "cell_type": "markdown",
      "source": [
        "The people who have completed their high school have income <=50K followed by the people who done their Secondary School.And the people who have done their Graduation are earning more i.e 50K."
      ],
      "metadata": {
        "id": "qH4bX_2c6a_4"
      }
    },
    {
      "cell_type": "code",
      "source": [
        "# Visualizing the relation between Marital status and Income of the people\n",
        "plt.figure(figsize=(10,10))\n",
        "sns.countplot(df['Marital_status'],hue=df['Income'],palette=\"husl\")\n",
        "plt.xticks(rotation=90)\n",
        "plt.show()"
      ],
      "metadata": {
        "id": "VQMb_JLf6OHO"
      },
      "execution_count": null,
      "outputs": []
    },
    {
      "cell_type": "markdown",
      "source": [
        "The people who are married are having income >=50K. And the people who are never married are majorly earning <=50K."
      ],
      "metadata": {
        "id": "lYBcF-Bo6f12"
      }
    },
    {
      "cell_type": "code",
      "source": [
        "# Visualizing the relation between Occupation and Income of the people\n",
        "plt.figure(figsize=(10,10))\n",
        "sns.countplot(df[\"Occupation\"],hue=df[\"Income\"],palette='Set2')\n",
        "plt.title(\"Comparision between Occupation and Income\")\n",
        "plt.xticks(rotation=90)\n",
        "plt.show()"
      ],
      "metadata": {
        "id": "4Dupuog46OKD"
      },
      "execution_count": null,
      "outputs": []
    },
    {
      "cell_type": "markdown",
      "source": [
        "Majority people who are in the position Prof-speciality, Other-service, Adm-clerical, Sales and Craft repair have the income more than 50K."
      ],
      "metadata": {
        "id": "PDasLh4_6kfG"
      }
    },
    {
      "cell_type": "markdown",
      "source": [
        "Very few people who are in the position Handlers-clearners, Farming fishing have income less than 50K."
      ],
      "metadata": {
        "id": "kl8GAkqg6mjV"
      }
    },
    {
      "cell_type": "code",
      "source": [
        "# Visualizing the relation between Race and Income of the people\n",
        "plt.figure(figsize=(10,10))\n",
        "sns.countplot(df['Race'],hue=df['Income'],data=df,palette=\"husl\")\n",
        "plt.title(\"Comparision between Race and Income\")\n",
        "plt.xticks(rotation=90)\n",
        "plt.show()"
      ],
      "metadata": {
        "id": "4gKLFRx86OMv"
      },
      "execution_count": null,
      "outputs": []
    },
    {
      "cell_type": "markdown",
      "source": [
        "The White family groups have high income <50K compare to other racial groups."
      ],
      "metadata": {
        "id": "veGmRkKV6qZt"
      }
    },
    {
      "cell_type": "code",
      "source": [
        "# Visualizing the relation between Income and Sex groups of the people\n",
        "sns.catplot(x='Income',col='Sex',data=df,kind='count',palette=\"ch:.28\")\n",
        "plt.show()"
      ],
      "metadata": {
        "id": "pX9fcZH06OYL"
      },
      "execution_count": null,
      "outputs": []
    },
    {
      "cell_type": "markdown",
      "source": [
        "Majority of males are having the income more than 50K."
      ],
      "metadata": {
        "id": "H-NdMkEI6ur9"
      }
    },
    {
      "cell_type": "code",
      "source": [
        "# Visualizing the relation between Native country and Income of the people\n",
        "plt.figure(figsize=(10,6))\n",
        "sns.countplot(df[\"Native_country\"],hue=df[\"Income\"] )\n",
        "plt.title(\"Comparision between Native_country and Income\")\n",
        "plt.xticks(rotation=90)\n",
        "plt.show()"
      ],
      "metadata": {
        "id": "0i6CHJ7I6vZN"
      },
      "execution_count": null,
      "outputs": []
    },
    {
      "cell_type": "markdown",
      "source": [
        "The people from United states are having high income rather than other countries."
      ],
      "metadata": {
        "id": "h9067Xoc6zrC"
      }
    },
    {
      "cell_type": "code",
      "source": [
        "# Visualizing how the income changes for Native country of the people\n",
        "plt.figure(figsize=(15,15))\n",
        "plt.title(\"Income in each Native Country\")\n",
        "sns.pointplot(x='Native_country',y='Education_num',data=df, hue='Income',join=False,palette=\"Set2\",ci=\"sd\")\n",
        "plt.xticks(rotation=90)\n",
        "plt.show()"
      ],
      "metadata": {
        "id": "MIdf1k4e6vnj"
      },
      "execution_count": null,
      "outputs": []
    },
    {
      "cell_type": "markdown",
      "source": [
        "The countries having high education numbers have high incoke that is more than 50K."
      ],
      "metadata": {
        "id": "u_CbTIro64GS"
      }
    },
    {
      "cell_type": "markdown",
      "source": [
        "# **Multivariate Analysis**"
      ],
      "metadata": {
        "id": "0SSDxpRX66gs"
      }
    },
    {
      "cell_type": "code",
      "source": [
        "# Checking the pairwise relation in the dataset.\n",
        "sns.pairplot(df,hue=\"Income\",palette=\"husl\")"
      ],
      "metadata": {
        "id": "QmC1803E6vqt"
      },
      "execution_count": null,
      "outputs": []
    },
    {
      "cell_type": "markdown",
      "source": [
        "This gives the pairwise relation between the columns which is plotted on the basis of target variable \"Income\". We can see, most of the features are highly correlated with each other. Some of the featurs have outliers and skewness which needs to remove before model building."
      ],
      "metadata": {
        "id": "HLBEg-6b7NlD"
      }
    },
    {
      "cell_type": "markdown",
      "source": [
        "# **Outliers**"
      ],
      "metadata": {
        "id": "84uMfTlK7R8z"
      }
    },
    {
      "cell_type": "code",
      "source": [
        "# Visualizing the outliers present in the numerical columns\n",
        "\n",
        "plt.figure(figsize=(10,8),facecolor=\"white\")\n",
        "plotnumber=1\n",
        "\n",
        "for col in numerical_col:\n",
        "    if plotnumber<=4:\n",
        "        ax = plt.subplot(2,2,plotnumber)\n",
        "        sns.boxplot(df[col],color='g')\n",
        "        plt.xlabel(col,fontsize=12)\n",
        "    plotnumber+=1\n",
        "plt.tight_layout()"
      ],
      "metadata": {
        "id": "aiCN1m7u6vuj"
      },
      "execution_count": null,
      "outputs": []
    },
    {
      "cell_type": "markdown",
      "source": [
        "We can see that all columns have outliers present."
      ],
      "metadata": {
        "id": "8tPpJNLt7grD"
      }
    },
    {
      "cell_type": "markdown",
      "source": [
        "# **Removing Outliers**"
      ],
      "metadata": {
        "id": "MQ-1n6LN7lAI"
      }
    },
    {
      "cell_type": "markdown",
      "source": [
        "**Zscore method**"
      ],
      "metadata": {
        "id": "n03fRbnN7nL1"
      }
    },
    {
      "cell_type": "code",
      "source": [
        "# Removing outliers using zscore\n",
        "from scipy.stats import zscore\n",
        "col = df[[\"Age\",\"Fnlwgt\",\"Education_num\",\"Hours_per_week\"]]\n",
        "z = np.abs(zscore(col))\n",
        "z"
      ],
      "metadata": {
        "id": "wwmHtfn56vxZ"
      },
      "execution_count": null,
      "outputs": []
    },
    {
      "cell_type": "code",
      "source": [
        "# Creating new dataframe\n",
        "new_df = df[(z<3).all(axis=1)]\n",
        "new_df"
      ],
      "metadata": {
        "id": "zGHlCAZC6v6e"
      },
      "execution_count": null,
      "outputs": []
    },
    {
      "cell_type": "markdown",
      "source": [
        "This is the new dataframe after removing the outliers.We have removed the outliers whose zscore is less than 3."
      ],
      "metadata": {
        "id": "QZtDavwl715T"
      }
    },
    {
      "cell_type": "code",
      "source": [
        "# Checking the dimenions of both dataframes\n",
        "print(df.shape)\n",
        "print(new_df.shape)"
      ],
      "metadata": {
        "id": "ISvaMKoK7x8c"
      },
      "execution_count": null,
      "outputs": []
    },
    {
      "cell_type": "markdown",
      "source": [
        "# **Data loss percent**"
      ],
      "metadata": {
        "id": "gkgcmU-M78Xq"
      }
    },
    {
      "cell_type": "code",
      "source": [
        "loss = (32560-31461)/32560*100\n",
        "loss"
      ],
      "metadata": {
        "id": "BKcNGYAW7yGX"
      },
      "execution_count": null,
      "outputs": []
    },
    {
      "cell_type": "markdown",
      "source": [
        "Here we are losing only 3% data. Lets check with IQR technique."
      ],
      "metadata": {
        "id": "kYL4_iOM8D-b"
      }
    },
    {
      "cell_type": "markdown",
      "source": [
        "# **IQR**"
      ],
      "metadata": {
        "id": "25tAoxUx8IBz"
      }
    },
    {
      "cell_type": "code",
      "source": [
        "# Removing outliers using IQR\n",
        "Q1 = col.quantile(0.25)\n",
        "\n",
        "Q3 = col.quantile(0.75)\n",
        "\n",
        "#IQR\n",
        "IQR = Q3-Q1\n",
        "\n",
        "df1=df[~((df < (Q1 - 1.5 * IQR)) |(df > (Q3 + 1.5 * IQR))).any(axis=1)]\n",
        "df1"
      ],
      "metadata": {
        "id": "GVhQ9jGU7yJ1"
      },
      "execution_count": null,
      "outputs": []
    },
    {
      "cell_type": "code",
      "source": [
        "print(df.shape)\n",
        "print(df1.shape)"
      ],
      "metadata": {
        "id": "xfB7WkB27yM5"
      },
      "execution_count": null,
      "outputs": []
    },
    {
      "cell_type": "code",
      "source": [
        "loss = (32560-21950)/32560*100\n",
        "loss"
      ],
      "metadata": {
        "id": "SPXPXICg7yQQ"
      },
      "execution_count": null,
      "outputs": []
    },
    {
      "cell_type": "markdown",
      "source": [
        "Using IQR methos, data loss is 32%. As it is more than 10%, we will consider Zscore method"
      ],
      "metadata": {
        "id": "M8Jne1cN8ZOV"
      }
    },
    {
      "cell_type": "markdown",
      "source": [
        "# **Removing Skewness**"
      ],
      "metadata": {
        "id": "E2R1FV1A8ZdO"
      }
    },
    {
      "cell_type": "code",
      "source": [
        "new_df.skew()"
      ],
      "metadata": {
        "id": "vDI6g1vA8WWZ"
      },
      "execution_count": null,
      "outputs": []
    },
    {
      "cell_type": "markdown",
      "source": [
        "As we can see there is skewness in Fnlwgt column. Removing it using cube root method."
      ],
      "metadata": {
        "id": "ESJfNe4S8hhZ"
      }
    },
    {
      "cell_type": "code",
      "source": [
        "# Removing skewness using cube root method\n",
        "new_df[\"Fnlwgt\"] = np.cbrt(df['Fnlwgt'])\n",
        "new_df.skew()"
      ],
      "metadata": {
        "id": "7iGHW8AV8WZn"
      },
      "execution_count": null,
      "outputs": []
    },
    {
      "cell_type": "markdown",
      "source": [
        "Now the skewness has been removed."
      ],
      "metadata": {
        "id": "j6velUXC8mzF"
      }
    },
    {
      "cell_type": "code",
      "source": [
        "# Visualizing the data distribution after removing skewness\n",
        "sns.distplot(new_df[\"Fnlwgt\"],color=\"b\",kde_kws={\"shade\": True},hist=False)"
      ],
      "metadata": {
        "id": "DDWyInW78WdM"
      },
      "execution_count": null,
      "outputs": []
    },
    {
      "cell_type": "markdown",
      "source": [
        "And we can see the data is normalized."
      ],
      "metadata": {
        "id": "jRXyPj-j8tTY"
      }
    },
    {
      "cell_type": "markdown",
      "source": [
        "# **Encoding the categorical columns**"
      ],
      "metadata": {
        "id": "l3NsE6Nm8uH5"
      }
    },
    {
      "cell_type": "code",
      "source": [
        "categorical_col = ['Workclass','Education','Marital_status','Occupation','Relationship','Race','Sex','Native_country','Income']\n",
        "from sklearn.preprocessing import LabelEncoder\n",
        "lbl = LabelEncoder()\n",
        "new_df[categorical_col] = new_df[categorical_col].apply(lbl.fit_transform)"
      ],
      "metadata": {
        "id": "GJvDe-qf8Wfs"
      },
      "execution_count": null,
      "outputs": []
    },
    {
      "cell_type": "code",
      "source": [
        "new_df[categorical_col]"
      ],
      "metadata": {
        "id": "vXVDiwil82Wg"
      },
      "execution_count": null,
      "outputs": []
    },
    {
      "cell_type": "markdown",
      "source": [
        "This dataframe is having the encoded numerical data now."
      ],
      "metadata": {
        "id": "qR3gWIH_88Od"
      }
    },
    {
      "cell_type": "markdown",
      "source": [
        "# **Correlation**"
      ],
      "metadata": {
        "id": "CcsHMFKY8_ib"
      }
    },
    {
      "cell_type": "code",
      "source": [
        "# Checking the correlation between featuresa nad target variables\n",
        "cor = new_df.corr()\n",
        "cor"
      ],
      "metadata": {
        "id": "-dpw92H382gj"
      },
      "execution_count": null,
      "outputs": []
    },
    {
      "cell_type": "markdown",
      "source": [
        "This gives the correlation between dependent and independent variables. We can visualize this by using heatmap."
      ],
      "metadata": {
        "id": "48I7zDPq9GX3"
      }
    },
    {
      "cell_type": "code",
      "source": [
        "# Visualizing correlation between dependent and independent variables by using heatmap\n",
        "plt.figure(figsize=(10,10))\n",
        "sns.heatmap(new_df.corr(),linewidths=0.1,fmt='.1g',cmap=\"seismic\",annot=True)\n",
        "#plt.xticks(rotation=90)"
      ],
      "metadata": {
        "id": "PjCZeDs982jx"
      },
      "execution_count": null,
      "outputs": []
    },
    {
      "cell_type": "markdown",
      "source": [
        "This heatmap shows the correlation matrix by visualizing the data. We can observe the relation between one feature to other."
      ],
      "metadata": {
        "id": "YtUUmk8F9NRY"
      }
    },
    {
      "cell_type": "markdown",
      "source": [
        "This heatmap contains both positive and negative correlation.\n",
        "\n",
        "There is no much correlation between the target and the label.\n",
        "\n",
        "The columns Education_num, Age, Sex and Hours_per_week have positive correlation with the label.\n",
        "\n",
        "The columns Relationship and Sex are highly correlated with each other also the column Fnlwgt ha very has correlation with the label so we can drop this column.\n",
        "\n",
        "There is no multicolinearity issue exits in the data."
      ],
      "metadata": {
        "id": "ez5zfqEt9N86"
      }
    },
    {
      "cell_type": "code",
      "source": [
        "cor['Income'].sort_values(ascending=False)"
      ],
      "metadata": {
        "id": "0DrTyBQ19Wy_"
      },
      "execution_count": null,
      "outputs": []
    },
    {
      "cell_type": "markdown",
      "source": [
        "Here we can easily find the positive and negative correlation between the features and the labels."
      ],
      "metadata": {
        "id": "E93aVbxv9ctf"
      }
    },
    {
      "cell_type": "markdown",
      "source": [
        "# **Visualizing the correlation between features and labels using bar plot.**"
      ],
      "metadata": {
        "id": "ZhefHkON9c-U"
      }
    },
    {
      "cell_type": "code",
      "source": [
        "# Visualization using barplot.\n",
        "plt.figure(figsize=(22,7))\n",
        "new_df.corr()['Income'].sort_values(ascending=False).drop(['Income']).plot(kind='bar',color='r')\n",
        "plt.xlabel('Feature',fontsize=18)\n",
        "plt.ylabel('Target',fontsize=18)\n",
        "plt.title('Correlation between label and features using bar plot',fontsize=20)\n",
        "plt.show()"
      ],
      "metadata": {
        "id": "T0AY62Jb9dde"
      },
      "execution_count": null,
      "outputs": []
    },
    {
      "cell_type": "markdown",
      "source": [
        "The column fnlwgt and workclass has very less relation with the label, so we can drop these columns if necessary."
      ],
      "metadata": {
        "id": "klYqNaUX9n1O"
      }
    },
    {
      "cell_type": "markdown",
      "source": [
        "# **Separating the features and label variables**"
      ],
      "metadata": {
        "id": "55qH-8e39pLu"
      }
    },
    {
      "cell_type": "code",
      "source": [
        "x = new_df.drop(\"Income\",axis=1)\n",
        "y = new_df[\"Income\"]"
      ],
      "metadata": {
        "id": "ubfRQtmd9d1s"
      },
      "execution_count": null,
      "outputs": []
    },
    {
      "cell_type": "code",
      "source": [
        "x.shape"
      ],
      "metadata": {
        "id": "5dC6gcCi9s1S"
      },
      "execution_count": null,
      "outputs": []
    },
    {
      "cell_type": "code",
      "source": [
        "y.shape"
      ],
      "metadata": {
        "id": "vYVevJKw9yMO"
      },
      "execution_count": null,
      "outputs": []
    },
    {
      "cell_type": "markdown",
      "source": [
        "# **Feature Scaling**"
      ],
      "metadata": {
        "id": "xs5GosAo93DO"
      }
    },
    {
      "cell_type": "code",
      "source": [
        "from sklearn.preprocessing import StandardScaler\n",
        "scaler = StandardScaler()\n",
        "x = pd.DataFrame(scaler.fit_transform(x),columns=x.columns)\n",
        "x"
      ],
      "metadata": {
        "id": "5vUlUc8Q9yPb"
      },
      "execution_count": null,
      "outputs": []
    },
    {
      "cell_type": "markdown",
      "source": [
        "We have scaled the data using Standard Scalarization method to overcome the issue of data biasness."
      ],
      "metadata": {
        "id": "7roaZL9V9-o1"
      }
    },
    {
      "cell_type": "code",
      "source": [
        "y.value_counts()"
      ],
      "metadata": {
        "id": "d0S6S6SA9ySj"
      },
      "execution_count": null,
      "outputs": []
    },
    {
      "cell_type": "markdown",
      "source": [
        "Here we can notice the class imbalancing issue. Lets use SMOTE to balance the data."
      ],
      "metadata": {
        "id": "nOlDC_V5-GJz"
      }
    },
    {
      "cell_type": "markdown",
      "source": [
        "# **Oversampling**"
      ],
      "metadata": {
        "id": "Tthm8UEF-IJc"
      }
    },
    {
      "cell_type": "code",
      "source": [
        "# Oversampling the data\n",
        "from imblearn.over_sampling import SMOTE\n",
        "SM = SMOTE()\n",
        "x, y = SM.fit_resample(x,y)"
      ],
      "metadata": {
        "id": "gwX-IEGh9yVM"
      },
      "execution_count": null,
      "outputs": []
    },
    {
      "cell_type": "code",
      "source": [
        "y.value_counts()"
      ],
      "metadata": {
        "id": "rJD5zz_B-L8U"
      },
      "execution_count": null,
      "outputs": []
    },
    {
      "cell_type": "markdown",
      "source": [
        "The data is balanced now."
      ],
      "metadata": {
        "id": "5LDdo7SI-PCu"
      }
    },
    {
      "cell_type": "code",
      "source": [
        "# Checking the dataframe after preprocessing and data cleaning.\n",
        "new_df.head()"
      ],
      "metadata": {
        "id": "wXCyZnff-L_q"
      },
      "execution_count": null,
      "outputs": []
    },
    {
      "cell_type": "markdown",
      "source": [
        "So, data cleaning and preprocessing is done. Now we can build the model."
      ],
      "metadata": {
        "id": "94jiMxEJ-TBF"
      }
    },
    {
      "cell_type": "markdown",
      "source": [
        "# **Modeling**"
      ],
      "metadata": {
        "id": "LtrN7wVv-VGM"
      }
    },
    {
      "cell_type": "markdown",
      "source": [
        "# **Finding the best random state**"
      ],
      "metadata": {
        "id": "hXoD-V7v-Wic"
      }
    },
    {
      "cell_type": "code",
      "source": [
        "from sklearn.tree import DecisionTreeClassifier\n",
        "from sklearn.model_selection import train_test_split as TTS\n",
        "from sklearn.metrics import accuracy_score\n",
        "maxAccu = 0\n",
        "maxRS = 0\n",
        "for i in range(1,200):\n",
        "    x_train,x_test,y_train,y_test = TTS(x,y,random_state=i,test_size=.30)\n",
        "    DTC = DecisionTreeClassifier()\n",
        "    DTC.fit(x_train,y_train)\n",
        "    pred = DTC.predict(x_test)\n",
        "    acc = accuracy_score(y_test,pred)\n",
        "    if acc>maxAccu:\n",
        "        maxAccu = acc\n",
        "        maxRS = i\n",
        "print(\"Best accuracy is\",maxAccu,\"at random_state\",maxRS)"
      ],
      "metadata": {
        "id": "31lNrOhi-MCu"
      },
      "execution_count": null,
      "outputs": []
    },
    {
      "cell_type": "markdown",
      "source": [
        "# **Creating train_test_split**"
      ],
      "metadata": {
        "id": "H7PnC409-eKD"
      }
    },
    {
      "cell_type": "code",
      "source": [
        "x_train,x_test,y_train,y_test = TTS(x,y,random_state=maxRS,test_size=.30)"
      ],
      "metadata": {
        "id": "P3qUevUV-b6I"
      },
      "execution_count": null,
      "outputs": []
    },
    {
      "cell_type": "markdown",
      "source": [
        "Splitted the data using best random state."
      ],
      "metadata": {
        "id": "59iScUym-rvA"
      }
    },
    {
      "cell_type": "markdown",
      "source": [
        "# **Classification Algorithms**"
      ],
      "metadata": {
        "id": "eNE7cW7m-twM"
      }
    },
    {
      "cell_type": "code",
      "source": [
        "from sklearn.tree import DecisionTreeClassifier\n",
        "from sklearn.ensemble import RandomForestClassifier, GradientBoostingClassifier\n",
        "from sklearn.linear_model import LogisticRegression\n",
        "from xgboost import XGBClassifier\n",
        "from sklearn.neighbors import KNeighborsClassifier as KNN\n",
        "from sklearn.metrics import classification_report,confusion_matrix,roc_curve,accuracy_score"
      ],
      "metadata": {
        "id": "s4BF-V3X-cFJ"
      },
      "execution_count": null,
      "outputs": []
    },
    {
      "cell_type": "markdown",
      "source": [
        "# **DecisionTreeClassifier**"
      ],
      "metadata": {
        "id": "5VTvDlpp-zKz"
      }
    },
    {
      "cell_type": "code",
      "source": [
        "# checking accuracy_score for DecisionTreeClassifier\n",
        "DTC = DecisionTreeClassifier()\n",
        "DTC.fit(x_train,y_train)\n",
        "predDTC = DTC.predict(x_test)\n",
        "print(accuracy_score(y_test,predDTC))\n",
        "print(confusion_matrix(y_test,predDTC))\n",
        "print(classification_report(y_test,predDTC))"
      ],
      "metadata": {
        "id": "WkNIixNY-cIa"
      },
      "execution_count": null,
      "outputs": []
    },
    {
      "cell_type": "markdown",
      "source": [
        "The accuracy using DecisionTreeClassifier is 83.88%"
      ],
      "metadata": {
        "id": "nVbstjBB-3mK"
      }
    },
    {
      "cell_type": "code",
      "source": [
        "# Lets plot confusion matrix for DTC\n",
        "cm = confusion_matrix(y_test,predDTC)\n",
        "x_axis_labels = [\"0\",\"1\"]\n",
        "y_axis_labels = [\"0\",\"1\"]\n",
        "f,ax = plt.subplots(figsize=(7,7))\n",
        "sns.heatmap(cm,annot=True,linewidths=.2,linecolor=\"black\",fmt=\".0f\",ax=ax,xticklabels=x_axis_labels,yticklabels=y_axis_labels)\n",
        "plt.xlabel(\"PREDICTED LABEL\")\n",
        "plt.ylabel(\"TRUE LABEL\")\n",
        "plt.title(\"Confusion Matrix for Decision Tree Classifier\")\n",
        "plt.show()"
      ],
      "metadata": {
        "id": "p85ADPxe-5J6"
      },
      "execution_count": null,
      "outputs": []
    },
    {
      "cell_type": "markdown",
      "source": [
        "This is the confusion matrix for DecisionTreeClassifier where we can observe trp,fpr,tnr and fnr. And we plotted Predicted values against true values."
      ],
      "metadata": {
        "id": "RYBnNxyH-9HH"
      }
    },
    {
      "cell_type": "markdown",
      "source": [
        "# **RandomForestClassifier**"
      ],
      "metadata": {
        "id": "tjOmVCiM-_NC"
      }
    },
    {
      "cell_type": "code",
      "source": [
        "# checking accuracy_score for RandomForestClassifier\n",
        "RFC = RandomForestClassifier()\n",
        "RFC.fit(x_train,y_train)\n",
        "predRFC = RFC.predict(x_test)\n",
        "print(accuracy_score(y_test,predRFC))\n",
        "print(confusion_matrix(y_test,predRFC))\n",
        "print(classification_report(y_test,predRFC))"
      ],
      "metadata": {
        "id": "R2dxqyzY-5NB"
      },
      "execution_count": null,
      "outputs": []
    },
    {
      "cell_type": "markdown",
      "source": [
        "The accuracy score using RandomForestClassifier is 88.05%."
      ],
      "metadata": {
        "id": "BgrjikpZ_Epb"
      }
    },
    {
      "cell_type": "code",
      "source": [
        "# Lets plot confusion matrix for RFC\n",
        "cm = confusion_matrix(y_test,predRFC)\n",
        "x_axis_labels = [\"0\",\"1\"]\n",
        "y_axis_labels = [\"0\",\"1\"]\n",
        "f,ax = plt.subplots(figsize=(7,7))\n",
        "sns.heatmap(cm,annot=True,linewidths=.2,linecolor=\"black\",fmt=\".0f\",ax=ax,xticklabels=x_axis_labels,yticklabels=y_axis_labels)\n",
        "plt.xlabel(\"PREDICTED LABEL\")\n",
        "plt.ylabel(\"TRUE LABEL\")\n",
        "plt.title(\"Confusion Matrix for RandomForestClassifier\")\n",
        "plt.show()"
      ],
      "metadata": {
        "id": "1hFGmsjH-5QQ"
      },
      "execution_count": null,
      "outputs": []
    },
    {
      "cell_type": "markdown",
      "source": [
        "# **LogisticRegression**"
      ],
      "metadata": {
        "id": "Uaca3nNY_JC6"
      }
    },
    {
      "cell_type": "code",
      "source": [
        "# checking accuracy_score for LogisticRegression\n",
        "LR = LogisticRegression()\n",
        "LR.fit(x_train,y_train)\n",
        "predLR = LR.predict(x_test)\n",
        "print(accuracy_score(y_test,predLR))\n",
        "print(confusion_matrix(y_test,predLR))\n",
        "print(classification_report(y_test,predLR))"
      ],
      "metadata": {
        "id": "kIcwDpMZ_KT9"
      },
      "execution_count": null,
      "outputs": []
    },
    {
      "cell_type": "markdown",
      "source": [
        "The accuracy score using LogisticRegression is 75.24%."
      ],
      "metadata": {
        "id": "6bDNad1m_N0q"
      }
    },
    {
      "cell_type": "code",
      "source": [
        "# Lets plot confusion matrix for LogisticRegression\n",
        "cm = confusion_matrix(y_test,predLR)\n",
        "x_axis_labels = [\"0\",\"1\"]\n",
        "y_axis_labels = [\"0\",\"1\"]\n",
        "f,ax = plt.subplots(figsize=(7,7))\n",
        "sns.heatmap(cm,annot=True,linewidths=.2,linecolor=\"black\",fmt=\".0f\",ax=ax,xticklabels=x_axis_labels,yticklabels=y_axis_labels)\n",
        "plt.xlabel(\"PREDICTED LABEL\")\n",
        "plt.ylabel(\"TRUE LABEL\")\n",
        "plt.title(\"Confusion Matrix for LogisticRegression\")\n",
        "plt.show()"
      ],
      "metadata": {
        "id": "3qW3xn3N_KdT"
      },
      "execution_count": null,
      "outputs": []
    },
    {
      "cell_type": "markdown",
      "source": [
        "# **KNeighborsClassifier**"
      ],
      "metadata": {
        "id": "cQwONtG0_SWl"
      }
    },
    {
      "cell_type": "code",
      "source": [
        "# checking accuracy_score for KNeighborsClassifier\n",
        "knn = KNN()\n",
        "knn.fit(x_train,y_train)\n",
        "predknn = knn.predict(x_test)\n",
        "print(accuracy_score(y_test,predknn))\n",
        "print(confusion_matrix(y_test,predknn))\n",
        "print(classification_report(y_test,predknn))"
      ],
      "metadata": {
        "id": "hE63LFjp_KgS"
      },
      "execution_count": null,
      "outputs": []
    },
    {
      "cell_type": "markdown",
      "source": [
        "The accuracy score using KNeighborsClassifier is 84.36%."
      ],
      "metadata": {
        "id": "GzUQeMDu_Xom"
      }
    },
    {
      "cell_type": "code",
      "source": [
        "# Lets plot confusion matrix for KNeighborsClassifier\n",
        "cm = confusion_matrix(y_test,predknn)\n",
        "x_axis_labels = [\"0\",\"1\"]\n",
        "y_axis_labels = [\"0\",\"1\"]\n",
        "f,ax = plt.subplots(figsize=(7,7))\n",
        "sns.heatmap(cm,annot=True,linewidths=.2,linecolor=\"black\",fmt=\".0f\",ax=ax,xticklabels=x_axis_labels,yticklabels=y_axis_labels)\n",
        "plt.xlabel(\"PREDICTED LABEL\")\n",
        "plt.ylabel(\"TRUE LABEL\")\n",
        "plt.title(\"Confusion Matrix for KNeighborsClassifier\")\n",
        "plt.show()"
      ],
      "metadata": {
        "id": "XS_w8h05_YPZ"
      },
      "execution_count": null,
      "outputs": []
    },
    {
      "cell_type": "markdown",
      "source": [
        "# **Gradient Boosting Classifier**"
      ],
      "metadata": {
        "id": "0W2MHeeW_cHC"
      }
    },
    {
      "cell_type": "code",
      "source": [
        "# checking accuracy_score for GradientBoostingClassifier\n",
        "GB = GradientBoostingClassifier()\n",
        "GB.fit(x_train,y_train)\n",
        "predGB = GB.predict(x_test)\n",
        "print(accuracy_score(y_test,predGB))\n",
        "print(confusion_matrix(y_test,predGB))\n",
        "print(classification_report(y_test,predGB))"
      ],
      "metadata": {
        "id": "Du5eCrIe_YXD"
      },
      "execution_count": null,
      "outputs": []
    },
    {
      "cell_type": "markdown",
      "source": [
        "The accuracy score using GradientBoostingClassifier is 85.35%."
      ],
      "metadata": {
        "id": "i0vz04zl_hLZ"
      }
    },
    {
      "cell_type": "code",
      "source": [
        "# Lets plot confusion matrix for GradientBoostingClassifier\n",
        "cm = confusion_matrix(y_test,predGB)\n",
        "x_axis_labels = [\"0\",\"1\"]\n",
        "y_axis_labels = [\"0\",\"1\"]\n",
        "f,ax = plt.subplots(figsize=(7,7))\n",
        "sns.heatmap(cm,annot=True,linewidths=.2,linecolor=\"black\",fmt=\".0f\",ax=ax,xticklabels=x_axis_labels,yticklabels=y_axis_labels)\n",
        "plt.xlabel(\"PREDICTED LABEL\")\n",
        "plt.ylabel(\"TRUE LABEL\")\n",
        "plt.title(\"Confusion Matrix for GradientBoostingClassifier\")\n",
        "plt.show()"
      ],
      "metadata": {
        "id": "nR70jFbf_YaQ"
      },
      "execution_count": null,
      "outputs": []
    },
    {
      "cell_type": "markdown",
      "source": [
        "# **XGBClassifier**"
      ],
      "metadata": {
        "id": "UFN_vn3Z_lUg"
      }
    },
    {
      "cell_type": "code",
      "source": [
        "# checking accuracy_score for XGBClassifier\n",
        "XGB = XGBClassifier()\n",
        "XGB.fit(x_train,y_train)\n",
        "predXGB = XGB.predict(x_test)\n",
        "print(accuracy_score(y_test,predXGB))\n",
        "print(confusion_matrix(y_test,predXGB))\n",
        "print(classification_report(y_test,predXGB))"
      ],
      "metadata": {
        "id": "MhWzDVg1_mSL"
      },
      "execution_count": null,
      "outputs": []
    },
    {
      "cell_type": "markdown",
      "source": [
        "The accuracy score using GradientBoostingClassifier is 88.75%."
      ],
      "metadata": {
        "id": "B3fqrHdf_tjx"
      }
    },
    {
      "cell_type": "code",
      "source": [
        "# Lets plot confusion matrix for XGBClassifier\n",
        "cm = confusion_matrix(y_test,predXGB)\n",
        "x_axis_labels = [\"0\",\"1\"]\n",
        "y_axis_labels = [\"0\",\"1\"]\n",
        "f,ax = plt.subplots(figsize=(7,7))\n",
        "sns.heatmap(cm,annot=True,linewidths=.2,linecolor=\"black\",fmt=\".0f\",ax=ax,xticklabels=x_axis_labels,yticklabels=y_axis_labels)\n",
        "plt.xlabel(\"PREDICTED LABEL\")\n",
        "plt.ylabel(\"TRUE LABEL\")\n",
        "plt.title(\"Confusion Matrix for XGBClassifier\")\n",
        "plt.show()"
      ],
      "metadata": {
        "id": "pA83taoT_uNr"
      },
      "execution_count": null,
      "outputs": []
    },
    {
      "cell_type": "markdown",
      "source": [
        "# **ExtraTrees Classifier**"
      ],
      "metadata": {
        "id": "TolFXpIR_yR-"
      }
    },
    {
      "cell_type": "code",
      "source": [
        "# checking accuracy_score for ExtraTreesClassifier\n",
        "from sklearn.ensemble import ExtraTreesClassifier\n",
        "XT = ExtraTreesClassifier()\n",
        "XT.fit(x_train,y_train)\n",
        "predXT = XT.predict(x_test)\n",
        "print(accuracy_score(y_test,predXT))\n",
        "print(confusion_matrix(y_test,predXT))\n",
        "print(classification_report(y_test,predXT))"
      ],
      "metadata": {
        "id": "eLYv8I-H_uXs"
      },
      "execution_count": null,
      "outputs": []
    },
    {
      "cell_type": "markdown",
      "source": [
        "The accuracy score using ExtraTreesClassifier is 88.89%."
      ],
      "metadata": {
        "id": "bFsX8EKS_4F-"
      }
    },
    {
      "cell_type": "code",
      "source": [
        "# Lets plot confusion matrix for ExtraTreesClassifier\n",
        "cm = confusion_matrix(y_test,predXT)\n",
        "x_axis_labels = [\"0\",\"1\"]\n",
        "y_axis_labels = [\"0\",\"1\"]\n",
        "f,ax = plt.subplots(figsize=(7,7))\n",
        "sns.heatmap(cm,annot=True,linewidths=.2,linecolor=\"black\",fmt=\".0f\",ax=ax,xticklabels=x_axis_labels,yticklabels=y_axis_labels)\n",
        "plt.xlabel(\"PREDICTED LABEL\")\n",
        "plt.ylabel(\"TRUE LABEL\")\n",
        "plt.title(\"Confusion Matrix for ExtraTreesClassifier\")\n",
        "plt.show()"
      ],
      "metadata": {
        "id": "YmTczpiL_ubA"
      },
      "execution_count": null,
      "outputs": []
    },
    {
      "cell_type": "markdown",
      "source": [
        "# **Checking the cross validation score**"
      ],
      "metadata": {
        "id": "xwrE8ciY_8cg"
      }
    },
    {
      "cell_type": "code",
      "source": [
        "from sklearn.model_selection import cross_val_score"
      ],
      "metadata": {
        "id": "77sA8RCk_9hh"
      },
      "execution_count": null,
      "outputs": []
    },
    {
      "cell_type": "code",
      "source": [
        "# cv score for Decision Tree Classifier\n",
        "print(cross_val_score(DTC,x,y,cv=5).mean())"
      ],
      "metadata": {
        "id": "KzTotVJ7_9kv"
      },
      "execution_count": null,
      "outputs": []
    },
    {
      "cell_type": "code",
      "source": [
        "# cv score for Random Forest Classifier\n",
        "print(cross_val_score(RFC,x,y,cv=5).mean())"
      ],
      "metadata": {
        "id": "o957ZoNA_9nm"
      },
      "execution_count": null,
      "outputs": []
    },
    {
      "cell_type": "code",
      "source": [
        "# cv score for Logistic Regression\n",
        "print(cross_val_score(LR,x,y,cv=5).mean())"
      ],
      "metadata": {
        "id": "EPNMsv0b_9qb"
      },
      "execution_count": null,
      "outputs": []
    },
    {
      "cell_type": "code",
      "source": [
        "# cv score for KNN Classifier\n",
        "print(cross_val_score(knn,x,y,cv=5).mean())"
      ],
      "metadata": {
        "id": "7rmCQVTVANSX"
      },
      "execution_count": null,
      "outputs": []
    },
    {
      "cell_type": "code",
      "source": [
        "# cv score for Gradient Boosting Classifier\n",
        "print(cross_val_score(GB,x,y,cv=5).mean())"
      ],
      "metadata": {
        "id": "KHE57WUjANWs"
      },
      "execution_count": null,
      "outputs": []
    },
    {
      "cell_type": "code",
      "source": [
        "# cv score for XGBClassifier\n",
        "print(cross_val_score(XGB,x,y,cv=5).mean())"
      ],
      "metadata": {
        "id": "U1gLCAqmANc8"
      },
      "execution_count": null,
      "outputs": []
    },
    {
      "cell_type": "code",
      "source": [
        "# cv score for ExtraTreesClassifier\n",
        "print(cross_val_score(XT,x,y,cv=5).mean())"
      ],
      "metadata": {
        "id": "wwTrDkD9AenF"
      },
      "execution_count": null,
      "outputs": []
    },
    {
      "cell_type": "markdown",
      "source": [
        "Above are the cross validation scores for the models used.\n",
        "\n",
        "The difference between the accuracy score and the CV score of RandomForestClassifier is least i.e 0.41.So, we can conclude that RandomForestClassifier as best fitting model."
      ],
      "metadata": {
        "id": "yLuScQs2AjlP"
      }
    },
    {
      "cell_type": "markdown",
      "source": [
        "# **Hyperparameter Tuning**"
      ],
      "metadata": {
        "id": "uzKKTk0ZAntX"
      }
    },
    {
      "cell_type": "code",
      "source": [
        "from sklearn.model_selection import GridSearchCV"
      ],
      "metadata": {
        "id": "52xeKCX3AlKf"
      },
      "execution_count": null,
      "outputs": []
    },
    {
      "cell_type": "code",
      "source": [
        "# RandomForestClassifier\n",
        "parameters = {'criterion':[\"gini\",\"entropy\"],\n",
        "             'max_features':['auto','sqrt','log2'],\n",
        "             'max_depth':[10,20,30,40,50],\n",
        "             \"min_samples_leaf\":[2,3,4,5,6]}"
      ],
      "metadata": {
        "id": "5NpnDGXHAtpX"
      },
      "execution_count": null,
      "outputs": []
    },
    {
      "cell_type": "code",
      "source": [
        "GCV=GridSearchCV(RandomForestClassifier(),parameters,cv=5)"
      ],
      "metadata": {
        "id": "bWN6sKkrAtst"
      },
      "execution_count": null,
      "outputs": []
    },
    {
      "cell_type": "code",
      "source": [
        "GCV.fit(x_train,y_train)"
      ],
      "metadata": {
        "id": "g20N2X5kAtv7"
      },
      "execution_count": null,
      "outputs": []
    },
    {
      "cell_type": "code",
      "source": [
        "GCV.best_params_"
      ],
      "metadata": {
        "id": "8rdjjz9SA6dC"
      },
      "execution_count": null,
      "outputs": []
    },
    {
      "cell_type": "code",
      "source": [
        "census = RandomForestClassifier(criterion='entropy', max_depth=40, max_features='auto',min_samples_leaf=2)\n",
        "census.fit(x_train, y_train)\n",
        "pred = census.predict(x_test)\n",
        "acc=accuracy_score(y_test,pred)\n",
        "print(acc*100)"
      ],
      "metadata": {
        "id": "tLVzl1T7A6mu"
      },
      "execution_count": null,
      "outputs": []
    },
    {
      "cell_type": "markdown",
      "source": [
        "The accuracy of the best model after tuning is 87.67%."
      ],
      "metadata": {
        "id": "gArFzL3YBY4L"
      }
    },
    {
      "cell_type": "markdown",
      "source": [
        "# **Plotting ROC and compare AUC for all the models used**"
      ],
      "metadata": {
        "id": "gSphQ8h7Bbed"
      }
    },
    {
      "cell_type": "code",
      "source": [
        "# Plotting for all the models used here\n",
        "from sklearn import datasets \n",
        "from sklearn import metrics\n",
        "from sklearn import model_selection\n",
        "from sklearn.metrics import plot_roc_curve \n",
        "\n",
        "\n",
        "disp = plot_roc_curve(RFC,x_test,y_test)\n",
        "plot_roc_curve(DTC, x_test, y_test, ax=disp.ax_) # ax_=Axes with confusion matrix\n",
        "plot_roc_curve(LR, x_test, y_test, ax=disp.ax_)\n",
        "plot_roc_curve(XT, x_test, y_test, ax=disp.ax_)\n",
        "plot_roc_curve(knn, x_test, y_test, ax=disp.ax_)\n",
        "plot_roc_curve(GB, x_test, y_test, ax=disp.ax_)\n",
        "plot_roc_curve(XGB, x_test, y_test, ax=disp.ax_)\n",
        "\n",
        "plt.legend(prop={'size':11}, loc='lower right')\n",
        "plt.show()"
      ],
      "metadata": {
        "id": "98oWS_0TA6sd"
      },
      "execution_count": null,
      "outputs": []
    },
    {
      "cell_type": "markdown",
      "source": [
        "# **Plotting ROC and Compare AUC for the best model**"
      ],
      "metadata": {
        "id": "YnAR6kY7Bh44"
      }
    },
    {
      "cell_type": "code",
      "source": [
        "# Let's check the Auc for the best model after hyper parameter tuning\n",
        "plot_roc_curve(census, x_test, y_test)\n",
        "plt.title(\"ROC for the best model\")\n",
        "plt.show()"
      ],
      "metadata": {
        "id": "2LgoLjeoBjxa"
      },
      "execution_count": null,
      "outputs": []
    },
    {
      "cell_type": "markdown",
      "source": [
        "The Auc for the best model is 0.95"
      ],
      "metadata": {
        "id": "YSnp0bE7BnS7"
      }
    },
    {
      "cell_type": "markdown",
      "source": [
        "# **Saving The Model**"
      ],
      "metadata": {
        "id": "_x3-skuMBp4I"
      }
    },
    {
      "cell_type": "code",
      "source": [
        "# Saving the model using .pkl\n",
        "import joblib\n",
        "joblib.dump(census,\"Census Income Prediction.pkl\")"
      ],
      "metadata": {
        "id": "Ihf_ZAkhBj4d"
      },
      "execution_count": null,
      "outputs": []
    },
    {
      "cell_type": "markdown",
      "source": [
        "# **Predicting the saved model**"
      ],
      "metadata": {
        "id": "K0v71BduBvEC"
      }
    },
    {
      "cell_type": "code",
      "source": [
        "# Let's load the saved model and get the prediction\n",
        "\n",
        "# Loading the saved model\n",
        "model=joblib.load(\"Census Income Prediction.pkl\")\n",
        "\n",
        "#Prediction\n",
        "prediction = model.predict(x_test)\n",
        "prediction"
      ],
      "metadata": {
        "id": "WyxZOWZ2Bj8H"
      },
      "execution_count": null,
      "outputs": []
    },
    {
      "cell_type": "code",
      "source": [
        "pd.DataFrame([model.predict(x_test)[:],y_test[:]],index=[\"Predicted\",\"Original\"])"
      ],
      "metadata": {
        "id": "DzDD-nm8ByyM"
      },
      "execution_count": null,
      "outputs": []
    }
  ]
}